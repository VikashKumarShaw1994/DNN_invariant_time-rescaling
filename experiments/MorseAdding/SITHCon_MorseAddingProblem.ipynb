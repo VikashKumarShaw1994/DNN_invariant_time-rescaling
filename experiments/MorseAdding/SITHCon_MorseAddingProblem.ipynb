{
  "cells": [
    {
      "cell_type": "code",
      "execution_count": 1,
      "metadata": {
        "ExecuteTime": {
          "end_time": "2021-05-10T15:35:55.489352Z",
          "start_time": "2021-05-10T15:35:55.319602Z"
        },
        "colab": {
          "base_uri": "https://localhost:8080/"
        },
        "id": "P2gnKgj6yiUU",
        "outputId": "eb0ce793-c8ee-419b-e8b0-e0364e3e515e"
      },
      "outputs": [
        {
          "output_type": "stream",
          "name": "stdout",
          "text": [
            "Fri Oct 13 02:08:50 2023       \n",
            "+-----------------------------------------------------------------------------+\n",
            "| NVIDIA-SMI 525.105.17   Driver Version: 525.105.17   CUDA Version: 12.0     |\n",
            "|-------------------------------+----------------------+----------------------+\n",
            "| GPU  Name        Persistence-M| Bus-Id        Disp.A | Volatile Uncorr. ECC |\n",
            "| Fan  Temp  Perf  Pwr:Usage/Cap|         Memory-Usage | GPU-Util  Compute M. |\n",
            "|                               |                      |               MIG M. |\n",
            "|===============================+======================+======================|\n",
            "|   0  Tesla T4            Off  | 00000000:00:04.0 Off |                    0 |\n",
            "| N/A   65C    P8    13W /  70W |      0MiB / 15360MiB |      0%      Default |\n",
            "|                               |                      |                  N/A |\n",
            "+-------------------------------+----------------------+----------------------+\n",
            "                                                                               \n",
            "+-----------------------------------------------------------------------------+\n",
            "| Processes:                                                                  |\n",
            "|  GPU   GI   CI        PID   Type   Process name                  GPU Memory |\n",
            "|        ID   ID                                                   Usage      |\n",
            "|=============================================================================|\n",
            "|  No running processes found                                                 |\n",
            "+-----------------------------------------------------------------------------+\n"
          ]
        }
      ],
      "source": [
        "%matplotlib inline\n",
        "!nvidia-smi"
      ]
    },
    {
      "cell_type": "code",
      "source": [
        "from google.colab import drive\n",
        "drive.mount('/content/drive')\n",
        "import os\n",
        "os.chdir('/content/drive/My Drive/')"
      ],
      "metadata": {
        "colab": {
          "base_uri": "https://localhost:8080/"
        },
        "id": "HqZpa0h8yrnU",
        "outputId": "de67918f-e7fe-49b8-e818-af1cc6b81835"
      },
      "execution_count": 2,
      "outputs": [
        {
          "output_type": "stream",
          "name": "stdout",
          "text": [
            "Mounted at /content/drive\n"
          ]
        }
      ]
    },
    {
      "cell_type": "code",
      "source": [
        "!git clone https://github.com/VikashKumarShaw1994/DNN_invariant_time-rescaling.git DNN_invariant_sithcon"
      ],
      "metadata": {
        "colab": {
          "base_uri": "https://localhost:8080/"
        },
        "id": "xrNB4sfZy2Jw",
        "outputId": "83658304-67c6-46dc-f7ef-1147edfa42a0"
      },
      "execution_count": 3,
      "outputs": [
        {
          "output_type": "stream",
          "name": "stdout",
          "text": [
            "Cloning into 'DNN_invariant_sithcon'...\n",
            "remote: Enumerating objects: 60, done.\u001b[K\n",
            "remote: Counting objects: 100% (60/60), done.\u001b[K\n",
            "remote: Compressing objects: 100% (41/41), done.\u001b[K\n",
            "remote: Total 60 (delta 19), reused 58 (delta 17), pack-reused 0\u001b[K\n",
            "Receiving objects: 100% (60/60), 6.88 MiB | 8.11 MiB/s, done.\n",
            "Resolving deltas: 100% (19/19), done.\n"
          ]
        }
      ]
    },
    {
      "cell_type": "code",
      "execution_count": 4,
      "metadata": {
        "ExecuteTime": {
          "end_time": "2021-05-10T15:44:49.858013Z",
          "start_time": "2021-05-10T15:44:49.850564Z"
        },
        "colab": {
          "base_uri": "https://localhost:8080/"
        },
        "id": "LGHU9iqNyiUV",
        "outputId": "8c5ca624-0e0e-4470-8537-9b579395fffe"
      },
      "outputs": [
        {
          "output_type": "stream",
          "name": "stdout",
          "text": [
            "<class 'torch.cuda.FloatTensor'>\n"
          ]
        }
      ],
      "source": [
        "import matplotlib.pyplot as plt\n",
        "import seaborn as sn\n",
        "sn.set_context(\"poster\")\n",
        "\n",
        "import torch\n",
        "from torch import nn as nn\n",
        "ttype = torch.cuda.FloatTensor if torch.cuda.is_available() else torch.FloatTensor\n",
        "ctype = torch.cuda.LongTensor if torch.cuda.is_available() else torch.LongTensor\n",
        "print(ttype)\n",
        "import torch.nn.functional as F\n",
        "from matplotlib import gridspec\n",
        "from DNN_invariant_sithcon.SITHCon.sithcon import SITHCon_Layer\n",
        "#from sithcon import SITHCon_Layer, _SITHCon_Core, iSITH\n",
        "\n",
        "from tqdm.notebook import tqdm\n",
        "\n",
        "import itertools\n",
        "from csv import DictWriter\n",
        "import os\n",
        "from os.path import join\n",
        "import glob\n",
        "ttype=torch.cuda.FloatTensor\n",
        "import numpy as np\n",
        "import pandas as pd\n",
        "import pickle\n",
        "from math import factorial\n",
        "import random\n",
        "import matplotlib.patches as patches\n",
        "from itertools import combinations_with_replacement as comb\n"
      ]
    },
    {
      "cell_type": "code",
      "execution_count": 5,
      "metadata": {
        "ExecuteTime": {
          "end_time": "2021-05-10T15:35:56.121588Z",
          "start_time": "2021-05-10T15:35:56.118836Z"
        },
        "id": "JHnchYyuyiUX"
      },
      "outputs": [],
      "source": [
        "# SHORTER\n",
        "MORSE_CODE_DICT = {'1':'.-', '2':'-...',\n",
        "                    '3':'-.-.', '4':'-..', '5':'.',\n",
        "                    '6':'..-.', '7':'--.', '8':'....',\n",
        "                    '9':'..', '0':'.---',}"
      ]
    },
    {
      "cell_type": "code",
      "execution_count": 6,
      "metadata": {
        "ExecuteTime": {
          "end_time": "2021-05-10T15:35:57.159046Z",
          "start_time": "2021-05-10T15:35:57.151272Z"
        },
        "colab": {
          "base_uri": "https://localhost:8080/"
        },
        "id": "UWnqgg_nyiUX",
        "outputId": "505edafb-d43a-4fca-db3e-c4b5307a1ef4"
      },
      "outputs": [
        {
          "output_type": "stream",
          "name": "stdout",
          "text": [
            "[1 0 1 1 1 0 0 0] 1\n",
            "[1 1 1 0 1 0 1 0 1 0 0 0] 2\n",
            "[1 1 1 0 1 0 1 1 1 0 1 0 0 0] 3\n",
            "[1 1 1 0 1 0 1 0 0 0] 4\n",
            "[1 0 0 0] 5\n",
            "[1 0 1 0 1 1 1 0 1 0 0 0] 6\n",
            "[1 1 1 0 1 1 1 0 1 0 0 0] 7\n",
            "[1 0 1 0 1 0 1 0 0 0] 8\n",
            "[1 0 1 0 0 0] 9\n",
            "[1 0 1 1 1 0 1 1 1 0 1 1 1 0 0 0] 0\n"
          ]
        }
      ],
      "source": [
        "morse_code_numpy = {key:np.array([int(x) for x in MORSE_CODE_DICT[key].replace('.', '10').replace('-', '1110')] + [0, 0])\n",
        "                    for key in MORSE_CODE_DICT.keys()}\n",
        "for k in morse_code_numpy.keys():\n",
        "    print(morse_code_numpy[k], k)\n",
        "subset = list(morse_code_numpy.keys())"
      ]
    },
    {
      "cell_type": "code",
      "execution_count": 8,
      "metadata": {
        "ExecuteTime": {
          "end_time": "2021-05-10T15:42:05.948273Z",
          "start_time": "2021-05-10T15:42:05.839053Z"
        },
        "colab": {
          "base_uri": "https://localhost:8080/",
          "height": 575
        },
        "id": "hhGTJCoNyiUX",
        "outputId": "20c51d17-3e88-4ff6-ccf0-9ca1f8c5e0e3"
      },
      "outputs": [
        {
          "output_type": "stream",
          "name": "stderr",
          "text": [
            "<ipython-input-8-81c2f18cccb6>:13: DeprecationWarning: Sampling from a set deprecated\n",
            "since Python 3.9 and will be removed in a subsequent version.\n",
            "  k = random.sample(keys, 1)[0]\n"
          ]
        },
        {
          "output_type": "stream",
          "name": "stdout",
          "text": [
            "(430, 2)\n"
          ]
        },
        {
          "output_type": "display_data",
          "data": {
            "text/plain": [
              "<Figure size 1000x500 with 1 Axes>"
            ],
            "image/png": "[encoded data removed]"
          },
          "metadata": {}
        }
      ],
      "source": [
        "def gen_item(samples=10, scale=5, target_scale=.1, display=False):\n",
        "    # We can tests 1s the same length as the items added together or 1 at the end only.\n",
        "    keys = morse_code_numpy.keys()\n",
        "    dim1 = []\n",
        "    dim2 = []\n",
        "    half = int(samples / 2)\n",
        "    added_indexes = [np.random.randint(half),\n",
        "                     np.random.randint(half, samples)]\n",
        "\n",
        "    answer = 0\n",
        "    for s in range(samples):\n",
        "        # Grab Random Morse Code Letter\n",
        "        k = random.sample(keys, 1)[0]\n",
        "        mcl = morse_code_numpy[k]\n",
        "        Mmcl = mcl.repeat(scale)\n",
        "        dim1.append(Mmcl[:, np.newaxis])\n",
        "        if s in added_indexes:\n",
        "\n",
        "            # dim2.append(np.ones(Mmcl.shape[0])[:, np.newaxis])\n",
        "            temp = np.zeros(Mmcl.shape[0])[:, np.newaxis]\n",
        "            temp[-scale:] = 1.0\n",
        "            if display:\n",
        "                    temp = temp * 2.0\n",
        "            #temp[-1] = 1.0 # TRY THIS AT SOME POINT\n",
        "            dim2.append(temp)\n",
        "            answer += int(k)\n",
        "            if display:\n",
        "                dim1[-1] = dim1[-1]*2.0\n",
        "        else:\n",
        "            dim2.append(np.zeros(Mmcl.shape[0])[:, np.newaxis])\n",
        "    inp = np.concatenate([np.concatenate(dim1, axis=0),\n",
        "                          np.concatenate(dim2, axis=0)], axis=1)\n",
        "\n",
        "    target = np.array([answer])\n",
        "    return inp, target*target_scale\n",
        "inp, tar = gen_item(10, 5, .1, display=True)\n",
        "print(inp.shape)\n",
        "plt.figure(figsize=(10,5))\n",
        "plt.imshow(inp.T,aspect='auto', interpolation='none')\n",
        "plt.title(\"Answer: {:.2f}\".format(tar[0]))\n",
        "plt.yticks([])\n",
        "directory = \"figs\"\n",
        "if not os.path.exists(directory):\n",
        "    os.makedirs(directory)\n",
        "plt.savefig(join('figs', 'adding_morse_example'), dpi=100)"
      ]
    },
    {
      "cell_type": "code",
      "execution_count": 9,
      "metadata": {
        "ExecuteTime": {
          "end_time": "2021-05-03T01:29:33.193301Z",
          "start_time": "2021-05-03T01:29:33.188593Z"
        },
        "id": "KDq0rDKZyiUY"
      },
      "outputs": [],
      "source": [
        "class SITHCon_Classifier(nn.Module):\n",
        "    def __init__(self, out_classes, layer_params,\n",
        "                 act_func=nn.ReLU, batch_norm=False,\n",
        "                 dropout=.2):\n",
        "        super(SITHCon_Classifier, self).__init__()\n",
        "        last_channels = layer_params[-1]['channels']\n",
        "        self.transform_linears = nn.ModuleList([nn.Linear(l['channels'], l['channels'])\n",
        "                                                for l in layer_params])\n",
        "        self.sithcon_layers = nn.ModuleList([SITHCon_Layer(l, act_func) for l in layer_params])\n",
        "        self.to_out = nn.Linear(last_channels, out_classes)\n",
        "\n",
        "\n",
        "    def forward(self, inp):\n",
        "\n",
        "        x = inp\n",
        "        #out = []\n",
        "        for i in range(len(self.sithcon_layers)):\n",
        "            x = self.sithcon_layers[i](x)\n",
        "\n",
        "            x = F.relu(self.transform_linears[i](x[:,0,:,:].transpose(1,2)))\n",
        "            x = x.unsqueeze(1).transpose(2,3)\n",
        "\n",
        "            #out.append(x.clone())\n",
        "        x = x.transpose(2,3)[:, 0, :, :]\n",
        "        #x = x.transpose(2,3)[:, 0, :, :]\n",
        "        x = self.to_out(x)\n",
        "        return x"
      ]
    },
    {
      "cell_type": "code",
      "execution_count": null,
      "metadata": {
        "id": "zby-AxZlyiUY"
      },
      "outputs": [],
      "source": []
    },
    {
      "cell_type": "markdown",
      "metadata": {
        "id": "wBeDbBmOyiUY"
      },
      "source": [
        "# Three Layers"
      ]
    },
    {
      "cell_type": "code",
      "execution_count": 10,
      "metadata": {
        "id": "GSJiy4MvyiUa"
      },
      "outputs": [],
      "source": [
        "params = [\n",
        "           [400, 35, 23, 2],]"
      ]
    },
    {
      "cell_type": "code",
      "execution_count": 11,
      "metadata": {
        "ExecuteTime": {
          "end_time": "2021-05-03T02:23:24.284785Z",
          "start_time": "2021-05-03T02:23:24.275308Z"
        },
        "id": "orTDOhA8yiUa"
      },
      "outputs": [],
      "source": [
        "def gen_model(p):\n",
        "    sp1 = dict(in_features=2,\n",
        "               tau_min=.1, tau_max=3000, buff_max=6000,\n",
        "               dt=1, ntau=p[0], k=p[1], g=0.0, ttype=ttype,\n",
        "               channels=25, kernel_width=p[2], dilation=p[3],\n",
        "               dropout=None, batch_norm=None)\n",
        "    sp2 = dict(in_features=sp1['channels'],\n",
        "               tau_min=.1, tau_max=3000, buff_max=6000,\n",
        "               dt=1, ntau=p[0], k=p[1], g=0.0, ttype=ttype,\n",
        "               channels=25, kernel_width=p[2], dilation=p[3],\n",
        "               dropout=None, batch_norm=None)\n",
        "    sp3 = dict(in_features=sp2['channels'],\n",
        "               tau_min=.1, tau_max=3000, buff_max=6000,\n",
        "               dt=1, ntau=p[0], k=p[1], g=0.0, ttype=ttype,\n",
        "               channels=25, kernel_width=p[2], dilation=p[3],\n",
        "               dropout=None, batch_norm=None)\n",
        "    layer_params = [sp1, sp2, sp3]\n",
        "    model = SITHCon_Classifier(1, layer_params, act_func=None#nn.ReLU\n",
        "                              ).cuda()\n",
        "    return model\n",
        "\n",
        "def test_model(model, X, Y):\n",
        "    model.eval()\n",
        "    evald = []\n",
        "    evaldDict = {'test_perf':[],\n",
        "                 'rate':[],\n",
        "                 'tau_max':[],\n",
        "                 'ntau':[],\n",
        "                 'k':[]}\n",
        "\n",
        "    # BIG NOTE\n",
        "    # BIG NOTE\n",
        "    # BIG NOTE\n",
        "    # Generate the test items once, use in all models at all scales.\n",
        "    model.eval()\n",
        "    evald = []\n",
        "    evaldDict = {'test_perf':[],\n",
        "                 'rate':[]}\n",
        "    for nr in range(1,20):\n",
        "        losses = []\n",
        "        for iv, tar in items:\n",
        "\n",
        "            iv = ttype(iv).unsqueeze(0).unsqueeze(0).transpose(-1,-2).unsqueeze(-1)\n",
        "            iv = iv.repeat(1,1,1,1,nr)\n",
        "            iv = iv.reshape(1,1,2,-1)\n",
        "            tv = torch.FloatTensor(tar).to(device)\n",
        "            out = model(iv)\n",
        "\n",
        "            loss = loss_func(out[:, -1, :],\n",
        "                                 tv)\n",
        "            losses.append(loss.detach().cpu().numpy())\n",
        "        print(nr, np.mean(losses))\n",
        "        evaldDict['test_perf'].append(np.mean(losses))\n",
        "        evaldDict['rate'].append(nr)\n",
        "        evaldDict['tau_max'].append(model.sithcon_layers[0].sithcon.sith.tau_max)\n",
        "        evaldDict['ntau'].append(model.sithcon_layers[0].sithcon.sith.ntau)\n",
        "        evaldDict['k'].append(model.sithcon_layers[0].sithcon.sith.k)\n",
        "    return evaldDict\n",
        "\n",
        "def save_outcome(outcome, filename):\n",
        "    dat = pd.DataFrame(outcome)\n",
        "    dat.to_csv(join('perf',filename))"
      ]
    },
    {
      "cell_type": "code",
      "execution_count": 12,
      "metadata": {
        "ExecuteTime": {
          "end_time": "2021-05-03T02:23:27.165226Z",
          "start_time": "2021-05-03T02:23:27.163369Z"
        },
        "id": "cpDktP5cyiUb"
      },
      "outputs": [],
      "source": [
        "params = [\n",
        "           [400, 35, 23, 2],]"
      ]
    },
    {
      "cell_type": "code",
      "execution_count": 13,
      "metadata": {
        "ExecuteTime": {
          "end_time": "2021-05-03T02:23:27.757463Z",
          "start_time": "2021-05-03T02:23:27.646321Z"
        },
        "colab": {
          "base_uri": "https://localhost:8080/"
        },
        "id": "BmOWZjGiyiUb",
        "outputId": "21d8badc-4bb2-40f2-9156-4a8fa93d19a7"
      },
      "outputs": [
        {
          "output_type": "stream",
          "name": "stdout",
          "text": [
            "{'tau_min': 0.1, 'tau_max': 3000, 'buff_max': 6000, 'dt': 1, 'ntau': 400, 'k': 35, 'g': 0.0, 'ttype': <class 'torch.cuda.FloatTensor'>, 'dropout': None, 'batch_norm': None}\n",
            "{'tau_min': 0.1, 'tau_max': 3000, 'buff_max': 6000, 'dt': 1, 'ntau': 400, 'k': 35, 'g': 0.0, 'ttype': <class 'torch.cuda.FloatTensor'>, 'dropout': None, 'batch_norm': None}\n",
            "{'tau_min': 0.1, 'tau_max': 3000, 'buff_max': 6000, 'dt': 1, 'ntau': 400, 'k': 35, 'g': 0.0, 'ttype': <class 'torch.cuda.FloatTensor'>, 'dropout': None, 'batch_norm': None}\n",
            "Total Weights: 31951\n",
            "SITHCon_Classifier(\n",
            "  (transform_linears): ModuleList(\n",
            "    (0-2): 3 x Linear(in_features=25, out_features=25, bias=True)\n",
            "  )\n",
            "  (sithcon_layers): ModuleList(\n",
            "    (0): SITHCon_Layer(\n",
            "      (tctct): _SITHCon_Core(\n",
            "        (sith): iSITH(ntau=400, tau_min=0.1, tau_max=3000, buff_max=6000, dt=1, k=35, g=0.0)\n",
            "        (conv): Conv2d(1, 25, kernel_size=(2, 23), stride=(1, 1), dilation=(1, 2), bias=False)\n",
            "        (maxp): MaxPool1d(kernel_size=356, stride=356, padding=0, dilation=1, ceil_mode=False)\n",
            "      )\n",
            "      (dropout): Dropout(p=0.0, inplace=False)\n",
            "    )\n",
            "    (1-2): 2 x SITHCon_Layer(\n",
            "      (tctct): _SITHCon_Core(\n",
            "        (sith): iSITH(ntau=400, tau_min=0.1, tau_max=3000, buff_max=6000, dt=1, k=35, g=0.0)\n",
            "        (conv): Conv2d(1, 25, kernel_size=(25, 23), stride=(1, 1), dilation=(1, 2), bias=False)\n",
            "        (maxp): MaxPool1d(kernel_size=356, stride=356, padding=0, dilation=1, ceil_mode=False)\n",
            "      )\n",
            "      (dropout): Dropout(p=0.0, inplace=False)\n",
            "    )\n",
            "  )\n",
            "  (to_out): Linear(in_features=25, out_features=1, bias=True)\n",
            ")\n"
          ]
        }
      ],
      "source": [
        "model = gen_model(params[0])\n",
        "tot_weights = 0\n",
        "for p in model.parameters():\n",
        "    tot_weights += p.numel()\n",
        "print(\"Total Weights:\", tot_weights)\n",
        "print(model)"
      ]
    },
    {
      "cell_type": "code",
      "execution_count": null,
      "metadata": {
        "ExecuteTime": {
          "end_time": "2021-05-03T12:55:57.904740Z",
          "start_time": "2021-05-03T02:23:31.279178Z"
        },
        "colab": {
          "referenced_widgets": [
            "43d66476212a401f86e43fad2ee96a11"
          ]
        },
        "id": "N4G15FtNyiUc",
        "outputId": "583d946a-e486-4185-9652-e88ff2e463f0"
      },
      "outputs": [
        {
          "data": {
            "application/vnd.jupyter.widget-view+json": {
              "model_id": "43d66476212a401f86e43fad2ee96a11",
              "version_major": 2,
              "version_minor": 0
            },
            "text/plain": [
              "HBox(children=(FloatProgress(value=0.0, max=500.0), HTML(value='')))"
            ]
          },
          "metadata": {},
          "output_type": "display_data"
        },
        {
          "name": "stdout",
          "output_type": "stream",
          "text": [
            "\n"
          ]
        },
        {
          "ename": "KeyboardInterrupt",
          "evalue": "",
          "output_type": "error",
          "traceback": [
            "\u001b[0;31m---------------------------------------------------------------------------\u001b[0m",
            "\u001b[0;31mKeyboardInterrupt\u001b[0m                         Traceback (most recent call last)",
            "\u001b[0;32m<ipython-input-16-591f20f011cf>\u001b[0m in \u001b[0;36m<module>\u001b[0;34m\u001b[0m\n\u001b[1;32m     29\u001b[0m         \u001b[0mperfs\u001b[0m\u001b[0;34m.\u001b[0m\u001b[0mappend\u001b[0m\u001b[0;34m(\u001b[0m\u001b[0;36m0\u001b[0m\u001b[0;34m)\u001b[0m\u001b[0;34m\u001b[0m\u001b[0;34m\u001b[0m\u001b[0m\n\u001b[1;32m     30\u001b[0m         \u001b[0;31m#perfs = perfs[int(-loss_buffer_size/batch_size):]\u001b[0m\u001b[0;34m\u001b[0m\u001b[0;34m\u001b[0m\u001b[0;34m\u001b[0m\u001b[0m\n\u001b[0;32m---> 31\u001b[0;31m         \u001b[0mlosses\u001b[0m\u001b[0;34m.\u001b[0m\u001b[0mappend\u001b[0m\u001b[0;34m(\u001b[0m\u001b[0mloss\u001b[0m\u001b[0;34m.\u001b[0m\u001b[0mdetach\u001b[0m\u001b[0;34m(\u001b[0m\u001b[0;34m)\u001b[0m\u001b[0;34m.\u001b[0m\u001b[0mcpu\u001b[0m\u001b[0;34m(\u001b[0m\u001b[0;34m)\u001b[0m\u001b[0;34m.\u001b[0m\u001b[0mnumpy\u001b[0m\u001b[0;34m(\u001b[0m\u001b[0;34m)\u001b[0m\u001b[0;34m)\u001b[0m\u001b[0;34m\u001b[0m\u001b[0;34m\u001b[0m\u001b[0m\n\u001b[0m\u001b[1;32m     32\u001b[0m         \u001b[0;31m#losses = losses[int(-loss_buffer_size/batch_size):]\u001b[0m\u001b[0;34m\u001b[0m\u001b[0;34m\u001b[0m\u001b[0;34m\u001b[0m\u001b[0m\n\u001b[1;32m     33\u001b[0m \u001b[0;34m\u001b[0m\u001b[0m\n",
            "\u001b[0;31mKeyboardInterrupt\u001b[0m: "
          ]
        }
      ],
      "source": [
        "loss_func = nn.MSELoss()\n",
        "optimizer = torch.optim.Adam(model.parameters())\n",
        "\n",
        "Trainscale = 5\n",
        "epochs = 500\n",
        "trials_per_epoch = 1000\n",
        "batch_size = 32\n",
        "device='cuda'\n",
        "progress_bar = tqdm(range(int(epochs)), bar_format='{l_bar}{bar:5}{r_bar}{bar:-5b}')\n",
        "\n",
        "for epoch_idx in progress_bar:\n",
        "    perfs = []\n",
        "    losses = []\n",
        "    model.train()\n",
        "    for batch_idx in range(trials_per_epoch):\n",
        "        optimizer.zero_grad()\n",
        "        loss = 0\n",
        "        for i in range(batch_size):\n",
        "            iv, tar = gen_item(10,Trainscale, .1)\n",
        "            iv = ttype(iv).unsqueeze(0).unsqueeze(0).transpose(-1,-2)\n",
        "            tv = ttype(tar)\n",
        "            out = model(iv)\n",
        "            loss += loss_func(out[:, -1, :],\n",
        "                             tv)\n",
        "        loss = loss / batch_size\n",
        "        loss.backward()\n",
        "        optimizer.step()\n",
        "\n",
        "        perfs.append(0)\n",
        "        #perfs = perfs[int(-loss_buffer_size/batch_size):]\n",
        "        losses.append(loss.detach().cpu().numpy())\n",
        "        #losses = losses[int(-loss_buffer_size/batch_size):]\n",
        "\n",
        "\n",
        "        s = \"{}:{:2} Loss: {:.4f}, Perf: {:.4f}\"\n",
        "        format_list = [epoch_idx, batch_idx, np.mean(losses),\n",
        "                       np.sum(perfs)/((len(perfs)))]\n",
        "        s = s.format(*format_list)\n",
        "        progress_bar.set_description(s)"
      ]
    },
    {
      "cell_type": "markdown",
      "metadata": {
        "id": "b_5Z0Ni5yiUc"
      },
      "source": [
        "# Test"
      ]
    },
    {
      "cell_type": "code",
      "execution_count": 16,
      "metadata": {
        "ExecuteTime": {
          "end_time": "2021-05-03T12:57:31.386397Z",
          "start_time": "2021-05-03T12:57:31.371147Z"
        },
        "id": "2dL5sqMnyiUc"
      },
      "outputs": [],
      "source": [
        "directory = \"perf\"\n",
        "if not os.path.exists(directory):\n",
        "    os.makedirs(directory)\n",
        "torch.save(model.state_dict(), join('perf', 'SITHCon_MorseAdding_5032021.pt'))"
      ]
    },
    {
      "cell_type": "code",
      "execution_count": 17,
      "metadata": {
        "ExecuteTime": {
          "end_time": "2021-05-12T14:20:05.778935Z",
          "start_time": "2021-05-12T14:20:05.773776Z"
        },
        "colab": {
          "base_uri": "https://localhost:8080/"
        },
        "id": "96RrCG1SyiUd",
        "outputId": "fbe22585-89d9-454d-8a7b-1f0aaec37372"
      },
      "outputs": [
        {
          "output_type": "stream",
          "name": "stderr",
          "text": [
            "<ipython-input-8-81c2f18cccb6>:13: DeprecationWarning: Sampling from a set deprecated\n",
            "since Python 3.9 and will be removed in a subsequent version.\n",
            "  k = random.sample(keys, 1)[0]\n",
            "/usr/local/lib/python3.10/dist-packages/numpy/lib/npyio.py:521: VisibleDeprecationWarning: Creating an ndarray from ragged nested sequences (which is a list-or-tuple of lists-or-tuples-or ndarrays with different lengths or shapes) is deprecated. If you meant to do this, you must specify 'dtype=object' when creating the ndarray.\n",
            "  arr = np.asanyarray(arr)\n"
          ]
        }
      ],
      "source": [
        "\n",
        "items = []\n",
        "for i in range(1000):\n",
        "    iv, tar = gen_item(10, 1, .1)\n",
        "    items.append([iv, tar])\n",
        "np.save('generated_adding_morse',items)\n"
      ]
    },
    {
      "cell_type": "code",
      "execution_count": 18,
      "metadata": {
        "ExecuteTime": {
          "end_time": "2021-05-03T12:58:01.150858Z",
          "start_time": "2021-05-03T12:58:01.135689Z"
        },
        "id": "KW2HpDhPyiUd"
      },
      "outputs": [],
      "source": [
        "items = np.load('generated_adding_morse.npy', allow_pickle=True)"
      ]
    },
    {
      "cell_type": "code",
      "execution_count": 19,
      "metadata": {
        "ExecuteTime": {
          "end_time": "2021-04-08T13:20:15.657518Z",
          "start_time": "2021-04-08T13:20:15.640251Z"
        },
        "colab": {
          "base_uri": "https://localhost:8080/"
        },
        "id": "8gFRWT73yiUd",
        "outputId": "f5169ca6-6c1d-4691-e817-93eff80720a4"
      },
      "outputs": [
        {
          "output_type": "stream",
          "name": "stdout",
          "text": [
            "torch.Size([1, 1, 2, 1140])\n"
          ]
        }
      ],
      "source": [
        "iv = ttype(items[0][0]).unsqueeze(0).unsqueeze(0).transpose(-1,-2).unsqueeze(-1)\n",
        "iv = iv.repeat(1,1,1,1,10)\n",
        "iv = iv.reshape(1,1,2,-1)\n",
        "print(iv.shape)"
      ]
    },
    {
      "cell_type": "code",
      "execution_count": null,
      "metadata": {
        "ExecuteTime": {
          "end_time": "2021-05-03T13:09:57.299814Z",
          "start_time": "2021-05-03T12:58:03.296800Z"
        },
        "id": "6gnymZ5HyiUd",
        "outputId": "5c25df2a-a9c1-4934-83e1-2c76be657f40"
      },
      "outputs": [
        {
          "name": "stdout",
          "output_type": "stream",
          "text": [
            "1 0.6112955\n",
            "2 0.06855858\n",
            "3 0.006122265\n",
            "4 0.00092172256\n",
            "5 0.0006655243\n",
            "6 0.00090690027\n",
            "7 0.0013174565\n",
            "8 0.0017585462\n",
            "9 0.002253249\n",
            "10 0.0026680403\n",
            "11 0.0030457373\n",
            "12 0.0033665963\n",
            "13 0.0036153258\n",
            "14 0.003826497\n",
            "15 0.0040139435\n",
            "16 0.0042847726\n",
            "17 0.004658794\n",
            "18 0.005225148\n",
            "19 0.005907\n"
          ]
        }
      ],
      "source": [
        "# Generate the test items once, use in all models at all scales.\n",
        "model.eval()\n",
        "evald = []\n",
        "evaldDict = {'test_perf':[],\n",
        "             'rate':[]}\n",
        "for nr in range(1,20):\n",
        "    losses = []\n",
        "    for iv, tar in items:\n",
        "\n",
        "        iv = ttype(iv).unsqueeze(0).unsqueeze(0).transpose(-1,-2).unsqueeze(-1)\n",
        "        iv = iv.repeat(1,1,1,1,nr)\n",
        "        iv = iv.reshape(1,1,2,-1)\n",
        "        tv = torch.FloatTensor(tar).to(device)\n",
        "        out = model(iv)\n",
        "\n",
        "        loss = loss_func(out[:, -1, :],\n",
        "                             tv)\n",
        "        losses.append(loss.detach().cpu().numpy())\n",
        "    print(nr, np.mean(losses))\n",
        "    evaldDict['test_perf'].append(np.mean(losses))\n",
        "    evaldDict['rate'].append(nr)\n",
        "    evald.append([nr, np.mean(losses)])\n",
        "scale_perfs = pd.DataFrame(evaldDict)\n",
        "scale_perfs.to_pickle(join(\"perf\", \"sithcon_morseadding_test.dill\"))"
      ]
    },
    {
      "cell_type": "code",
      "execution_count": null,
      "metadata": {
        "ExecuteTime": {
          "end_time": "2021-05-10T15:36:02.618032Z",
          "start_time": "2021-05-10T15:36:02.583921Z"
        },
        "id": "FrW4jRJqyiUd",
        "outputId": "991ec005-6409-4b4f-c764-a8f107c9215c"
      },
      "outputs": [
        {
          "name": "stdout",
          "output_type": "stream",
          "text": [
            "   test_perf  rate\n",
            "0   0.611296     1\n",
            "1   0.068559     2\n",
            "2   0.006122     3\n",
            "3   0.000922     4\n",
            "4   0.000666     5\n"
          ]
        }
      ],
      "source": []
    },
    {
      "cell_type": "code",
      "execution_count": 22,
      "metadata": {
        "ExecuteTime": {
          "end_time": "2021-05-10T15:50:16.695244Z",
          "start_time": "2021-05-10T15:50:16.689194Z"
        },
        "colab": {
          "base_uri": "https://localhost:8080/"
        },
        "id": "5rLhoUjVyiUe",
        "outputId": "041686ca-ddc2-4405-b25b-2faeb67be66f"
      },
      "outputs": [
        {
          "output_type": "stream",
          "name": "stderr",
          "text": [
            "<ipython-input-8-81c2f18cccb6>:13: DeprecationWarning: Sampling from a set deprecated\n",
            "since Python 3.9 and will be removed in a subsequent version.\n",
            "  k = random.sample(keys, 1)[0]\n"
          ]
        }
      ],
      "source": [
        "display_examples = []\n",
        "for i in range(5):\n",
        "    inp, tar = gen_item(10, 1, .1, display=False)\n",
        "    display_examples.append([inp, tar])"
      ]
    },
    {
      "cell_type": "code",
      "execution_count": 23,
      "metadata": {
        "ExecuteTime": {
          "end_time": "2021-05-12T14:22:30.485218Z",
          "start_time": "2021-05-12T14:22:30.479437Z"
        },
        "id": "kqRUdXGOyiUe"
      },
      "outputs": [],
      "source": [
        "with open(join('perf','display_examples.dill'), 'wb') as handle:\n",
        "    pickle.dump(display_examples, handle, protocol=pickle.HIGHEST_PROTOCOL)"
      ]
    },
    {
      "cell_type": "code",
      "execution_count": 24,
      "metadata": {
        "ExecuteTime": {
          "end_time": "2021-05-12T14:22:56.036966Z",
          "start_time": "2021-05-12T14:22:56.029706Z"
        },
        "id": "wXx_QP0HyiUe"
      },
      "outputs": [],
      "source": [
        "with open(join('perf','display_examples.dill'), 'rb') as handle:\n",
        "    display_examples = pickle.load(handle)"
      ]
    }
  ],
  "metadata": {
    "kernelspec": {
      "display_name": "Python 3",
      "name": "python3"
    },
    "language_info": {
      "codemirror_mode": {
        "name": "ipython",
        "version": 3
      },
      "file_extension": ".py",
      "mimetype": "text/x-python",
      "name": "python",
      "nbconvert_exporter": "python",
      "pygments_lexer": "ipython3",
      "version": "3.6.10"
    },
    "toc": {
      "nav_menu": {},
      "number_sections": true,
      "sideBar": false,
      "skip_h1_title": false,
      "title_cell": "Table of Contents",
      "title_sidebar": "Contents",
      "toc_cell": false,
      "toc_position": {
        "height": "47.7167px",
        "left": "1045.97px",
        "top": "52px",
        "width": "161.033px"
      },
      "toc_section_display": false,
      "toc_window_display": true
    },
    "colab": {
      "provenance": [],
      "gpuType": "T4"
    },
    "accelerator": "GPU"
  },
  "nbformat": 4,
  "nbformat_minor": 0
}