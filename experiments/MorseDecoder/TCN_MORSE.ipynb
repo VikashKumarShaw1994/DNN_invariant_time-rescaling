{
  "cells": [
    {
      "cell_type": "code",
      "execution_count": 1,
      "metadata": {
        "ExecuteTime": {
          "end_time": "2021-05-05T14:52:20.948972Z",
          "start_time": "2021-05-05T14:52:20.939893Z"
        },
        "colab": {
          "base_uri": "https://localhost:8080/"
        },
        "id": "FyMApb_-nE3v",
        "outputId": "be6bddee-3dc2-4595-a64c-a0e03a5a1ab4"
      },
      "outputs": [
        {
          "output_type": "stream",
          "name": "stdout",
          "text": [
            "Fri Oct 13 01:19:47 2023       \n",
            "+-----------------------------------------------------------------------------+\n",
            "| NVIDIA-SMI 525.105.17   Driver Version: 525.105.17   CUDA Version: 12.0     |\n",
            "|-------------------------------+----------------------+----------------------+\n",
            "| GPU  Name        Persistence-M| Bus-Id        Disp.A | Volatile Uncorr. ECC |\n",
            "| Fan  Temp  Perf  Pwr:Usage/Cap|         Memory-Usage | GPU-Util  Compute M. |\n",
            "|                               |                      |               MIG M. |\n",
            "|===============================+======================+======================|\n",
            "|   0  Tesla T4            Off  | 00000000:00:04.0 Off |                    0 |\n",
            "| N/A   50C    P8     9W /  70W |      0MiB / 15360MiB |      0%      Default |\n",
            "|                               |                      |                  N/A |\n",
            "+-------------------------------+----------------------+----------------------+\n",
            "                                                                               \n",
            "+-----------------------------------------------------------------------------+\n",
            "| Processes:                                                                  |\n",
            "|  GPU   GI   CI        PID   Type   Process name                  GPU Memory |\n",
            "|        ID   ID                                                   Usage      |\n",
            "|=============================================================================|\n",
            "|  No running processes found                                                 |\n",
            "+-----------------------------------------------------------------------------+\n"
          ]
        }
      ],
      "source": [
        "%matplotlib inline\n",
        "!nvidia-smi"
      ]
    },
    {
      "cell_type": "code",
      "source": [
        "from google.colab import drive\n",
        "drive.mount('/content/drive')\n",
        "import os\n",
        "os.chdir('/content/drive/My Drive/')"
      ],
      "metadata": {
        "colab": {
          "base_uri": "https://localhost:8080/"
        },
        "id": "x5pGZsxVnJqG",
        "outputId": "808013b4-b0b7-4542-82b8-f2c58f4f2b14"
      },
      "execution_count": 2,
      "outputs": [
        {
          "output_type": "stream",
          "name": "stdout",
          "text": [
            "Mounted at /content/drive\n"
          ]
        }
      ]
    },
    {
      "cell_type": "code",
      "source": [
        "!git clone https://github.com/VikashKumarShaw1994/DNN_invariant_time-rescaling.git DNN_invariant_sithcon"
      ],
      "metadata": {
        "colab": {
          "base_uri": "https://localhost:8080/"
        },
        "id": "mCccvTcHnQl5",
        "outputId": "a9655468-e282-4b0e-c881-6379cd5576b2"
      },
      "execution_count": 3,
      "outputs": [
        {
          "output_type": "stream",
          "name": "stdout",
          "text": [
            "fatal: destination path 'DNN_invariant_sithcon' already exists and is not an empty directory.\n"
          ]
        }
      ]
    },
    {
      "cell_type": "code",
      "execution_count": 4,
      "metadata": {
        "ExecuteTime": {
          "end_time": "2021-05-05T14:52:21.169340Z",
          "start_time": "2021-05-05T14:52:21.161864Z"
        },
        "colab": {
          "base_uri": "https://localhost:8080/"
        },
        "id": "YZkjuMARnE3w",
        "outputId": "6dcf3184-ed9e-4eca-c4c4-bddde4b94270"
      },
      "outputs": [
        {
          "output_type": "stream",
          "name": "stdout",
          "text": [
            "<class 'torch.cuda.FloatTensor'>\n"
          ]
        }
      ],
      "source": [
        "import matplotlib.pyplot as plt\n",
        "import seaborn as sn\n",
        "sn.set_context(\"poster\")\n",
        "\n",
        "import torch\n",
        "from torch import nn as nn\n",
        "ttype = torch.cuda.FloatTensor if torch.cuda.is_available() else torch.FloatTensor\n",
        "ctype = torch.cuda.LongTensor if torch.cuda.is_available() else torch.LongTensor\n",
        "print(ttype)\n",
        "import torch.nn.functional as F\n",
        "from matplotlib import gridspec\n",
        "#from deepsith import DeepSITH\n",
        "\n",
        "from tqdm.notebook import tqdm\n",
        "\n",
        "import itertools\n",
        "from csv import DictWriter\n",
        "import os\n",
        "from os.path import join\n",
        "import glob\n",
        "\n",
        "import numpy as np\n",
        "import pandas as pd\n",
        "import pickle\n",
        "from math import factorial\n",
        "import random"
      ]
    },
    {
      "cell_type": "code",
      "execution_count": 5,
      "metadata": {
        "ExecuteTime": {
          "end_time": "2021-05-04T18:44:54.861716Z",
          "start_time": "2021-05-04T18:44:54.857876Z"
        },
        "id": "cKPonfWonE3x"
      },
      "outputs": [],
      "source": [
        "MORSE_CODE_DICT = { 'A':'.-', 'B':'-...',\n",
        "                    'C':'-.-.', 'D':'-..', 'E':'.',\n",
        "                    'F':'..-.', 'G':'--.', 'H':'....',\n",
        "                    'I':'..', 'J':'.---', 'K':'-.-',\n",
        "                    'L':'.-..', 'M':'--', 'N':'-.',\n",
        "                    'O':'---', 'P':'.--.', 'Q':'--.-',\n",
        "                    'R':'.-.', 'S':'...', 'T':'-',\n",
        "                    'U':'..-', 'V':'...-', 'W':'.--',\n",
        "                    'X':'-..-', 'Y':'-.--', 'Z':'--..',\n",
        "                    '1':'.----', '2':'..---', '3':'...--',\n",
        "                    '4':'....-', '5':'.....', '6':'-....',\n",
        "                    '7':'--...', '8':'---..', '9':'----.',\n",
        "                    '0':'-----', ', ':'--..--', '.':'.-.-.-',\n",
        "                    '?':'..--..', '/':'-..-.', '-':'-....-',\n",
        "                    '(':'-.--.', ')':'-.--.-'}"
      ]
    },
    {
      "cell_type": "code",
      "execution_count": 6,
      "metadata": {
        "ExecuteTime": {
          "end_time": "2021-05-04T18:44:55.050963Z",
          "start_time": "2021-05-04T18:44:55.025184Z"
        },
        "colab": {
          "base_uri": "https://localhost:8080/"
        },
        "id": "9q9VOAHunE3y",
        "outputId": "47ead7da-392c-4a3d-dc81-655d75575c03"
      },
      "outputs": [
        {
          "output_type": "stream",
          "name": "stdout",
          "text": [
            "..--.. 1010111011101010\n",
            "43\n",
            "[1 0 1 1 1 0 0 0] A\n",
            "[1 1 1 0 1 0 1 0 1 0 0 0] B\n",
            "[1 1 1 0 1 0 1 1 1 0 1 0 0 0] C\n",
            "[1 1 1 0 1 0 1 0 0 0] D\n",
            "[1 0 0 0] E\n",
            "[1 0 1 0 1 1 1 0 1 0 0 0] F\n",
            "[1 1 1 0 1 1 1 0 1 0 0 0] G\n",
            "[1 0 1 0 1 0 1 0 0 0] H\n",
            "[1 0 1 0 0 0] I\n",
            "[1 0 1 1 1 0 1 1 1 0 1 1 1 0 0 0] J\n",
            "[1 1 1 0 1 0 1 1 1 0 0 0] K\n",
            "[1 0 1 1 1 0 1 0 1 0 0 0] L\n",
            "[1 1 1 0 1 1 1 0 0 0] M\n",
            "[1 1 1 0 1 0 0 0] N\n",
            "[1 1 1 0 1 1 1 0 1 1 1 0 0 0] O\n",
            "[1 0 1 1 1 0 1 1 1 0 1 0 0 0] P\n",
            "[1 1 1 0 1 1 1 0 1 0 1 1 1 0 0 0] Q\n",
            "[1 0 1 1 1 0 1 0 0 0] R\n",
            "[1 0 1 0 1 0 0 0] S\n",
            "[1 1 1 0 0 0] T\n",
            "[1 0 1 0 1 1 1 0 0 0] U\n",
            "[1 0 1 0 1 0 1 1 1 0 0 0] V\n",
            "[1 0 1 1 1 0 1 1 1 0 0 0] W\n",
            "[1 1 1 0 1 0 1 0 1 1 1 0 0 0] X\n",
            "[1 1 1 0 1 0 1 1 1 0 1 1 1 0 0 0] Y\n",
            "[1 1 1 0 1 1 1 0 1 0 1 0 0 0] Z\n",
            "[1 0 1 1 1 0 1 1 1 0 1 1 1 0 1 1 1 0 0 0] 1\n",
            "[1 0 1 0 1 1 1 0 1 1 1 0 1 1 1 0 0 0] 2\n",
            "[1 0 1 0 1 0 1 1 1 0 1 1 1 0 0 0] 3\n",
            "[1 0 1 0 1 0 1 0 1 1 1 0 0 0] 4\n",
            "[1 0 1 0 1 0 1 0 1 0 0 0] 5\n",
            "[1 1 1 0 1 0 1 0 1 0 1 0 0 0] 6\n",
            "[1 1 1 0 1 1 1 0 1 0 1 0 1 0 0 0] 7\n",
            "[1 1 1 0 1 1 1 0 1 1 1 0 1 0 1 0 0 0] 8\n",
            "[1 1 1 0 1 1 1 0 1 1 1 0 1 1 1 0 1 0 0 0] 9\n",
            "[1 1 1 0 1 1 1 0 1 1 1 0 1 1 1 0 1 1 1 0 0 0] 0\n",
            "[1 1 1 0 1 1 1 0 1 0 1 0 1 1 1 0 1 1 1 0 0 0] , \n",
            "[1 0 1 1 1 0 1 0 1 1 1 0 1 0 1 1 1 0 0 0] .\n",
            "[1 0 1 0 1 1 1 0 1 1 1 0 1 0 1 0 0 0] ?\n",
            "[1 1 1 0 1 0 1 0 1 1 1 0 1 0 0 0] /\n",
            "[1 1 1 0 1 0 1 0 1 0 1 0 1 1 1 0 0 0] -\n",
            "[1 1 1 0 1 0 1 1 1 0 1 1 1 0 1 0 0 0] (\n",
            "[1 1 1 0 1 0 1 1 1 0 1 1 1 0 1 0 1 1 1 0 0 0] )\n",
            "43\n"
          ]
        }
      ],
      "source": [
        "print(MORSE_CODE_DICT['?'], MORSE_CODE_DICT['?'].replace('.', '10').replace('-', '1110'))\n",
        "print(len(MORSE_CODE_DICT))\n",
        "morse_code_numpy = {key:np.array([int(x) for x in MORSE_CODE_DICT[key].replace('.', '10').replace('-', '1110')] + [0, 0])\n",
        "                    for key in MORSE_CODE_DICT.keys()}\n",
        "for k in morse_code_numpy.keys():\n",
        "    #if len(morse_code_numpy[k]) == 12:\n",
        "    #    print(morse_code_numpy[k], k)\n",
        "    print(morse_code_numpy[k], k)\n",
        "print(len(morse_code_numpy))\n",
        "subset = list(morse_code_numpy.keys())\n",
        "#subset = ['3', '7', 'Y', 'Q', 'J',\n",
        "#          'M', 'R', 'U', 'H', 'D']"
      ]
    },
    {
      "cell_type": "code",
      "execution_count": 7,
      "metadata": {
        "ExecuteTime": {
          "end_time": "2021-05-04T18:44:56.737830Z",
          "start_time": "2021-05-04T18:44:55.497500Z"
        },
        "colab": {
          "base_uri": "https://localhost:8080/"
        },
        "id": "BUbszhX9nE3z",
        "outputId": "36549904-2e5d-4b6c-b39d-4c3d7c8768a6"
      },
      "outputs": [
        {
          "output_type": "stream",
          "name": "stdout",
          "text": [
            "tensor(42)\n",
            "[tensor([1., 0., 1., 1., 1., 0., 0., 0.], device='cuda:0'), tensor([1., 1., 1., 0., 1., 0., 1., 0., 1., 0., 0., 0.], device='cuda:0'), tensor([1., 1., 1., 0., 1., 0., 1., 1., 1., 0., 1., 0., 0., 0.],\n",
            "       device='cuda:0'), tensor([1., 1., 1., 0., 1., 0., 1., 0., 0., 0.], device='cuda:0'), tensor([1., 0., 0., 0.], device='cuda:0'), tensor([1., 0., 1., 0., 1., 1., 1., 0., 1., 0., 0., 0.], device='cuda:0'), tensor([1., 1., 1., 0., 1., 1., 1., 0., 1., 0., 0., 0.], device='cuda:0'), tensor([1., 0., 1., 0., 1., 0., 1., 0., 0., 0.], device='cuda:0'), tensor([1., 0., 1., 0., 0., 0.], device='cuda:0'), tensor([1., 0., 1., 1., 1., 0., 1., 1., 1., 0., 1., 1., 1., 0., 0., 0.],\n",
            "       device='cuda:0'), tensor([1., 1., 1., 0., 1., 0., 1., 1., 1., 0., 0., 0.], device='cuda:0'), tensor([1., 0., 1., 1., 1., 0., 1., 0., 1., 0., 0., 0.], device='cuda:0'), tensor([1., 1., 1., 0., 1., 1., 1., 0., 0., 0.], device='cuda:0'), tensor([1., 1., 1., 0., 1., 0., 0., 0.], device='cuda:0'), tensor([1., 1., 1., 0., 1., 1., 1., 0., 1., 1., 1., 0., 0., 0.],\n",
            "       device='cuda:0'), tensor([1., 0., 1., 1., 1., 0., 1., 1., 1., 0., 1., 0., 0., 0.],\n",
            "       device='cuda:0'), tensor([1., 1., 1., 0., 1., 1., 1., 0., 1., 0., 1., 1., 1., 0., 0., 0.],\n",
            "       device='cuda:0'), tensor([1., 0., 1., 1., 1., 0., 1., 0., 0., 0.], device='cuda:0'), tensor([1., 0., 1., 0., 1., 0., 0., 0.], device='cuda:0'), tensor([1., 1., 1., 0., 0., 0.], device='cuda:0'), tensor([1., 0., 1., 0., 1., 1., 1., 0., 0., 0.], device='cuda:0'), tensor([1., 0., 1., 0., 1., 0., 1., 1., 1., 0., 0., 0.], device='cuda:0'), tensor([1., 0., 1., 1., 1., 0., 1., 1., 1., 0., 0., 0.], device='cuda:0'), tensor([1., 1., 1., 0., 1., 0., 1., 0., 1., 1., 1., 0., 0., 0.],\n",
            "       device='cuda:0'), tensor([1., 1., 1., 0., 1., 0., 1., 1., 1., 0., 1., 1., 1., 0., 0., 0.],\n",
            "       device='cuda:0'), tensor([1., 1., 1., 0., 1., 1., 1., 0., 1., 0., 1., 0., 0., 0.],\n",
            "       device='cuda:0'), tensor([1., 0., 1., 1., 1., 0., 1., 1., 1., 0., 1., 1., 1., 0., 1., 1., 1., 0.,\n",
            "        0., 0.], device='cuda:0'), tensor([1., 0., 1., 0., 1., 1., 1., 0., 1., 1., 1., 0., 1., 1., 1., 0., 0., 0.],\n",
            "       device='cuda:0'), tensor([1., 0., 1., 0., 1., 0., 1., 1., 1., 0., 1., 1., 1., 0., 0., 0.],\n",
            "       device='cuda:0'), tensor([1., 0., 1., 0., 1., 0., 1., 0., 1., 1., 1., 0., 0., 0.],\n",
            "       device='cuda:0'), tensor([1., 0., 1., 0., 1., 0., 1., 0., 1., 0., 0., 0.], device='cuda:0'), tensor([1., 1., 1., 0., 1., 0., 1., 0., 1., 0., 1., 0., 0., 0.],\n",
            "       device='cuda:0'), tensor([1., 1., 1., 0., 1., 1., 1., 0., 1., 0., 1., 0., 1., 0., 0., 0.],\n",
            "       device='cuda:0'), tensor([1., 1., 1., 0., 1., 1., 1., 0., 1., 1., 1., 0., 1., 0., 1., 0., 0., 0.],\n",
            "       device='cuda:0'), tensor([1., 1., 1., 0., 1., 1., 1., 0., 1., 1., 1., 0., 1., 1., 1., 0., 1., 0.,\n",
            "        0., 0.], device='cuda:0'), tensor([1., 1., 1., 0., 1., 1., 1., 0., 1., 1., 1., 0., 1., 1., 1., 0., 1., 1.,\n",
            "        1., 0., 0., 0.], device='cuda:0'), tensor([1., 1., 1., 0., 1., 1., 1., 0., 1., 0., 1., 0., 1., 1., 1., 0., 1., 1.,\n",
            "        1., 0., 0., 0.], device='cuda:0'), tensor([1., 0., 1., 1., 1., 0., 1., 0., 1., 1., 1., 0., 1., 0., 1., 1., 1., 0.,\n",
            "        0., 0.], device='cuda:0'), tensor([1., 0., 1., 0., 1., 1., 1., 0., 1., 1., 1., 0., 1., 0., 1., 0., 0., 0.],\n",
            "       device='cuda:0'), tensor([1., 1., 1., 0., 1., 0., 1., 0., 1., 1., 1., 0., 1., 0., 0., 0.],\n",
            "       device='cuda:0'), tensor([1., 1., 1., 0., 1., 0., 1., 0., 1., 0., 1., 0., 1., 1., 1., 0., 0., 0.],\n",
            "       device='cuda:0'), tensor([1., 1., 1., 0., 1., 0., 1., 1., 1., 0., 1., 1., 1., 0., 1., 0., 0., 0.],\n",
            "       device='cuda:0'), tensor([1., 1., 1., 0., 1., 0., 1., 1., 1., 0., 1., 1., 1., 0., 1., 0., 1., 1.,\n",
            "        1., 0., 0., 0.], device='cuda:0')] tensor([ 0,  1,  2,  3,  4,  5,  6,  7,  8,  9, 10, 11, 12, 13, 14, 15, 16, 17,\n",
            "        18, 19, 20, 21, 22, 23, 24, 25, 26, 27, 28, 29, 30, 31, 32, 33, 34, 35,\n",
            "        36, 37, 38, 39, 40, 41, 42])\n"
          ]
        }
      ],
      "source": [
        "id2key = subset\n",
        "key2id = {}\n",
        "for idx, s in enumerate(subset):\n",
        "    key2id[s] = idx\n",
        "\n",
        "X = [ttype(morse_code_numpy[k])for k in subset]\n",
        "Y = torch.LongTensor(np.arange(0,len(X)))\n",
        "print(Y.max())\n",
        "print(X, Y)"
      ]
    },
    {
      "cell_type": "code",
      "execution_count": 8,
      "metadata": {
        "ExecuteTime": {
          "end_time": "2021-05-04T18:44:56.749737Z",
          "start_time": "2021-05-04T18:44:56.739072Z"
        },
        "id": "DmL3pGJ5nE3z"
      },
      "outputs": [],
      "source": [
        "import torch\n",
        "import torch.nn as nn\n",
        "from torch.nn.utils import weight_norm\n",
        "\n",
        "\n",
        "class Chomp1d(nn.Module):\n",
        "    def __init__(self, chomp_size):\n",
        "        super(Chomp1d, self).__init__()\n",
        "        self.chomp_size = chomp_size\n",
        "\n",
        "    def forward(self, x):\n",
        "        return x[:, :, :-self.chomp_size].contiguous()\n",
        "\n",
        "\n",
        "class TemporalBlock(nn.Module):\n",
        "    def __init__(self, n_inputs, n_outputs, kernel_size, stride, dilation, padding, dropout=0.2):\n",
        "        super(TemporalBlock, self).__init__()\n",
        "        self.conv1 = weight_norm(nn.Conv1d(n_inputs, n_outputs, kernel_size,\n",
        "                                           stride=stride, padding=padding, dilation=dilation))\n",
        "        self.chomp1 = Chomp1d(padding)\n",
        "        self.relu1 = nn.ReLU()\n",
        "        self.dropout1 = nn.Dropout(dropout)\n",
        "\n",
        "        self.conv2 = weight_norm(nn.Conv1d(n_outputs, n_outputs, kernel_size,\n",
        "                                           stride=stride, padding=padding, dilation=dilation))\n",
        "        self.chomp2 = Chomp1d(padding)\n",
        "        self.relu2 = nn.ReLU()\n",
        "        self.dropout2 = nn.Dropout(dropout)\n",
        "\n",
        "        self.net = nn.Sequential(self.conv1, self.chomp1, self.relu1, self.dropout1,\n",
        "                                 self.conv2, self.chomp2, self.relu2, self.dropout2)\n",
        "        self.downsample = nn.Conv1d(n_inputs, n_outputs, 1) if n_inputs != n_outputs else None\n",
        "        self.relu = nn.ReLU()\n",
        "        self.init_weights()\n",
        "\n",
        "    def init_weights(self):\n",
        "        self.conv1.weight.data.normal_(0, 0.01)\n",
        "        self.conv2.weight.data.normal_(0, 0.01)\n",
        "        if self.downsample is not None:\n",
        "            self.downsample.weight.data.normal_(0, 0.01)\n",
        "\n",
        "    def forward(self, x):\n",
        "        out = self.net(x)\n",
        "        res = x if self.downsample is None else self.downsample(x)\n",
        "        return self.relu(out + res)\n",
        "\n",
        "\n",
        "class TemporalConvNet(nn.Module):\n",
        "    def __init__(self, num_inputs, num_channels, kernel_size=2, dropout=0.2):\n",
        "        super(TemporalConvNet, self).__init__()\n",
        "        layers = []\n",
        "        num_levels = len(num_channels)\n",
        "        for i in range(num_levels):\n",
        "            dilation_size = 2 ** i\n",
        "            in_channels = num_inputs if i == 0 else num_channels[i-1]\n",
        "            out_channels = num_channels[i]\n",
        "            layers += [TemporalBlock(in_channels, out_channels, kernel_size, stride=1, dilation=dilation_size,\n",
        "                                     padding=(kernel_size-1) * dilation_size, dropout=dropout)]\n",
        "\n",
        "        self.network = nn.Sequential(*layers)\n",
        "\n",
        "    def forward(self, x):\n",
        "        return self.network(x)\n",
        "class TCN(nn.Module):\n",
        "    def __init__(self, input_size, output_size, num_channels, kernel_size, dropout):\n",
        "        super(TCN, self).__init__()\n",
        "        self.tcn = TemporalConvNet(input_size, num_channels, kernel_size=kernel_size, dropout=dropout)\n",
        "        self.linear = nn.Linear(num_channels[-1], output_size)\n",
        "        self.init_weights()\n",
        "\n",
        "    def init_weights(self):\n",
        "        self.linear.weight.data.normal_(0, 0.01)\n",
        "\n",
        "    def forward(self, x):\n",
        "        y1 = self.tcn(x)\n",
        "        return self.linear(y1[:, :, -1])"
      ]
    },
    {
      "cell_type": "markdown",
      "metadata": {
        "id": "CmwFG8t4nE30"
      },
      "source": [
        "# Three Layers"
      ]
    },
    {
      "cell_type": "code",
      "execution_count": 9,
      "metadata": {
        "ExecuteTime": {
          "end_time": "2021-05-04T18:44:57.765195Z",
          "start_time": "2021-05-04T18:44:57.754067Z"
        },
        "scrolled": true,
        "colab": {
          "base_uri": "https://localhost:8080/"
        },
        "id": "zPdb_qvknE31",
        "outputId": "78c4054c-af87-4c97-ff98-cc89f6c38205"
      },
      "outputs": [
        {
          "output_type": "stream",
          "name": "stdout",
          "text": [
            "Total Weights: 86868\n",
            "TCN(\n",
            "  (tcn): TemporalConvNet(\n",
            "    (network): Sequential(\n",
            "      (0): TemporalBlock(\n",
            "        (conv1): Conv1d(1, 25, kernel_size=(45,), stride=(1,), padding=(44,))\n",
            "        (chomp1): Chomp1d()\n",
            "        (relu1): ReLU()\n",
            "        (dropout1): Dropout(p=0.0, inplace=False)\n",
            "        (conv2): Conv1d(25, 25, kernel_size=(45,), stride=(1,), padding=(44,))\n",
            "        (chomp2): Chomp1d()\n",
            "        (relu2): ReLU()\n",
            "        (dropout2): Dropout(p=0.0, inplace=False)\n",
            "        (net): Sequential(\n",
            "          (0): Conv1d(1, 25, kernel_size=(45,), stride=(1,), padding=(44,))\n",
            "          (1): Chomp1d()\n",
            "          (2): ReLU()\n",
            "          (3): Dropout(p=0.0, inplace=False)\n",
            "          (4): Conv1d(25, 25, kernel_size=(45,), stride=(1,), padding=(44,))\n",
            "          (5): Chomp1d()\n",
            "          (6): ReLU()\n",
            "          (7): Dropout(p=0.0, inplace=False)\n",
            "        )\n",
            "        (downsample): Conv1d(1, 25, kernel_size=(1,), stride=(1,))\n",
            "        (relu): ReLU()\n",
            "      )\n",
            "      (1): TemporalBlock(\n",
            "        (conv1): Conv1d(25, 25, kernel_size=(45,), stride=(1,), padding=(88,), dilation=(2,))\n",
            "        (chomp1): Chomp1d()\n",
            "        (relu1): ReLU()\n",
            "        (dropout1): Dropout(p=0.0, inplace=False)\n",
            "        (conv2): Conv1d(25, 25, kernel_size=(45,), stride=(1,), padding=(88,), dilation=(2,))\n",
            "        (chomp2): Chomp1d()\n",
            "        (relu2): ReLU()\n",
            "        (dropout2): Dropout(p=0.0, inplace=False)\n",
            "        (net): Sequential(\n",
            "          (0): Conv1d(25, 25, kernel_size=(45,), stride=(1,), padding=(88,), dilation=(2,))\n",
            "          (1): Chomp1d()\n",
            "          (2): ReLU()\n",
            "          (3): Dropout(p=0.0, inplace=False)\n",
            "          (4): Conv1d(25, 25, kernel_size=(45,), stride=(1,), padding=(88,), dilation=(2,))\n",
            "          (5): Chomp1d()\n",
            "          (6): ReLU()\n",
            "          (7): Dropout(p=0.0, inplace=False)\n",
            "        )\n",
            "        (relu): ReLU()\n",
            "      )\n",
            "    )\n",
            "  )\n",
            "  (linear): Linear(in_features=25, out_features=43, bias=True)\n",
            ")\n"
          ]
        }
      ],
      "source": [
        "model = TCN(1, 43, [25, 25], kernel_size=45, dropout=0.0).cuda()\n",
        "tot_weights = 0\n",
        "for p in model.parameters():\n",
        "    tot_weights += p.numel()\n",
        "print(\"Total Weights:\", tot_weights)\n",
        "print(model)\n"
      ]
    },
    {
      "cell_type": "code",
      "execution_count": 10,
      "metadata": {
        "ExecuteTime": {
          "end_time": "2021-05-04T18:45:03.212417Z",
          "start_time": "2021-05-04T18:44:58.374076Z"
        },
        "colab": {
          "base_uri": "https://localhost:8080/",
          "height": 49,
          "referenced_widgets": [
            "db2bfb13042849289eb6e09847c1c09c",
            "35ac9c6b99bf4a37b265357e03067875",
            "5aff2ae2ea1e4f9e93d227f39e14970c",
            "10e5a6a5f0cf49e08d9de3834f66b777",
            "ccd5b6cd7334476fb44622b76bff43c6",
            "797ce38ae8fc4a918d073cf8bc1f4f9e",
            "928e785eda464f9aaaeb6223f19d3c7f",
            "7d2363c002054dc8a1e2f75ac1916928",
            "f8751eae64804509bafa6554cc177489",
            "1afff9f3c32740b4a28752fbd86d3c30",
            "69c0fff188d041eb9dc3d543a5504937"
          ]
        },
        "id": "40cqWSynnE31",
        "outputId": "9890a0f0-73aa-4135-91ed-fa60c1781bad"
      },
      "outputs": [
        {
          "output_type": "display_data",
          "data": {
            "text/plain": [
              "  0%|     | 0/5000 [00:00<?, ?it/s]     "
            ],
            "application/vnd.jupyter.widget-view+json": {
              "version_major": 2,
              "version_minor": 0,
              "model_id": "db2bfb13042849289eb6e09847c1c09c"
            }
          },
          "metadata": {}
        }
      ],
      "source": [
        "loss_func = torch.nn.CrossEntropyLoss()\n",
        "optimizer = torch.optim.Adam(model.parameters())\n",
        "epochs = 5000\n",
        "Trainscale = 10\n",
        "device='cuda'\n",
        "batch_size = 8\n",
        "batches = int(np.ceil(43 / batch_size))\n",
        "\n",
        "progress_bar = tqdm(range(int(epochs)), bar_format='{l_bar}{bar:5}{r_bar}{bar:-5b}')\n",
        "times_100 = 0\n",
        "\n",
        "for epoch_idx in progress_bar:\n",
        "    perfs = []\n",
        "    losses = []\n",
        "    model.train()\n",
        "    for batch_idx in range(batches):\n",
        "        optimizer.zero_grad()\n",
        "        loss = 0\n",
        "        permute = np.arange(0, 43)\n",
        "        for i in range(0, int(min(len(X) - (batch_idx*batch_size),\n",
        "                              batch_size))\n",
        "                       ):\n",
        "            iv = X[permute[batch_idx*batch_size + i]]\n",
        "            iv = iv.unsqueeze(0).unsqueeze(0).unsqueeze(-1)\n",
        "            iv = iv.repeat(1,1,1,Trainscale)\n",
        "            iv = iv.reshape(1,1,-1)\n",
        "            tv = Y[permute[batch_idx*batch_size + i]].to(device)\n",
        "            out = model(iv)\n",
        "            loss += loss_func(out,\n",
        "                         torch.cuda.LongTensor([tv]))\n",
        "            perfs.append((torch.argmax(out, dim=-1) ==\n",
        "                          tv).sum().item())\n",
        "\n",
        "\n",
        "        loss = loss / min(len(X) - (batch_idx*batch_size),\n",
        "                          batch_size)\n",
        "        loss.backward()\n",
        "        optimizer.step()\n",
        "\n",
        "\n",
        "        #perfs = perfs[int(-loss_buffer_size/batch_size):]\n",
        "        losses.append(loss.detach().cpu().numpy())\n",
        "        #losses = losses[int(-loss_buffer_size/batch_size):]\n",
        "\n",
        "\n",
        "        s = \"{}:{:2} Loss: {:.4f}, Perf: {:.4f}\"\n",
        "        format_list = [epoch_idx, batch_idx, np.mean(losses),\n",
        "                       np.sum(perfs)/((len(perfs)))]\n",
        "        s = s.format(*format_list)\n",
        "        progress_bar.set_description(s)\n",
        "    if (np.sum(perfs)/((len(perfs))) == 1.0) & (np.mean(losses) < .11):\n",
        "        times_100 += 1\n",
        "        if times_100 >= 3:\n",
        "            break\n"
      ]
    },
    {
      "cell_type": "code",
      "execution_count": 11,
      "metadata": {
        "ExecuteTime": {
          "end_time": "2021-05-04T17:29:25.641192Z",
          "start_time": "2021-05-04T17:29:24.894817Z"
        },
        "colab": {
          "base_uri": "https://localhost:8080/"
        },
        "id": "d8SDwPu-nE31",
        "outputId": "6b83c6e8-2dfa-45d8-d374-5afff037a0f8"
      },
      "outputs": [
        {
          "output_type": "stream",
          "name": "stdout",
          "text": [
            "1 0.0\n",
            "2 0.0\n",
            "5 0.023255813953488372\n",
            "6 0.023255813953488372\n",
            "7 0.023255813953488372\n",
            "8 0.023255813953488372\n",
            "9 0.09302325581395349\n",
            "10 1.0\n",
            "11 0.3023255813953488\n",
            "12 0.16279069767441862\n",
            "13 0.046511627906976744\n",
            "14 0.023255813953488372\n",
            "15 0.0\n",
            "16 0.0\n",
            "17 0.023255813953488372\n",
            "18 0.023255813953488372\n",
            "19 0.0\n",
            "20 0.023255813953488372\n",
            "30 0.023255813953488372\n",
            "40 0.023255813953488372\n"
          ]
        }
      ],
      "source": [
        "model.eval()\n",
        "evald = []\n",
        "evaldDict = {'test_perf':[],\n",
        "             'rate':[]}\n",
        "for nr in [1,2,5,6,7,8,9,10,11,12,13,14,15,16,17,18,19,20,30,40]:\n",
        "#for nr in range(1,20):\n",
        "    perfs = []\n",
        "    for batch_idx, iv in enumerate(X):\n",
        "        iv = iv.unsqueeze(0).unsqueeze(0).unsqueeze(-1)\n",
        "        iv = iv.repeat(1,1,1,nr)\n",
        "        iv = iv.reshape(1,1,-1)\n",
        "        tv = Y[batch_idx].to(device)\n",
        "        out = model(iv)\n",
        "        loss = loss_func(out,\n",
        "                         torch.cuda.LongTensor([tv]))\n",
        "\n",
        "\n",
        "        perfs.append((torch.argmax(out, dim=-1) ==\n",
        "                      tv).sum().item())\n",
        "        #print(torch.argmax(out, dim=-1),\n",
        "        #              tv)\n",
        "    evaldDict['test_perf'].append(sum(perfs)/len(perfs))\n",
        "    evaldDict['rate'].append(nr)\n",
        "    print(nr, sum(perfs)/len(perfs))\n",
        "    evald.append({'scale':nr,\n",
        "                  'perf':sum(perfs)/len(perfs)})\n",
        "scale_perfs = pd.DataFrame(evald)\n",
        "scale_perfs.to_pickle(join(\"perf\", \"tcn_morse_test.dill\"))"
      ]
    }
  ],
  "metadata": {
    "kernelspec": {
      "display_name": "Python 3",
      "name": "python3"
    },
    "language_info": {
      "codemirror_mode": {
        "name": "ipython",
        "version": 3
      },
      "file_extension": ".py",
      "mimetype": "text/x-python",
      "name": "python",
      "nbconvert_exporter": "python",
      "pygments_lexer": "ipython3",
      "version": "3.6.10"
    },
    "toc": {
      "nav_menu": {},
      "number_sections": true,
      "sideBar": true,
      "skip_h1_title": false,
      "title_cell": "Table of Contents",
      "title_sidebar": "Contents",
      "toc_cell": false,
      "toc_position": {},
      "toc_section_display": true,
      "toc_window_display": false
    },
    "colab": {
      "provenance": [],
      "gpuType": "T4"
    },
    "accelerator": "GPU",
    "widgets": {
      "application/vnd.jupyter.widget-state+json": {
        "db2bfb13042849289eb6e09847c1c09c": {
          "model_module": "@jupyter-widgets/controls",
          "model_name": "HBoxModel",
          "model_module_version": "1.5.0",
          "state": {
            "_dom_classes": [],
            "_model_module": "@jupyter-widgets/controls",
            "_model_module_version": "1.5.0",
            "_model_name": "HBoxModel",
            "_view_count": null,
            "_view_module": "@jupyter-widgets/controls",
            "_view_module_version": "1.5.0",
            "_view_name": "HBoxView",
            "box_style": "",
            "children": [
              "IPY_MODEL_35ac9c6b99bf4a37b265357e03067875",
              "IPY_MODEL_5aff2ae2ea1e4f9e93d227f39e14970c",
              "IPY_MODEL_10e5a6a5f0cf49e08d9de3834f66b777"
            ],
            "layout": "IPY_MODEL_ccd5b6cd7334476fb44622b76bff43c6"
          }
        },
        "35ac9c6b99bf4a37b265357e03067875": {
          "model_module": "@jupyter-widgets/controls",
          "model_name": "HTMLModel",
          "model_module_version": "1.5.0",
          "state": {
            "_dom_classes": [],
            "_model_module": "@jupyter-widgets/controls",
            "_model_module_version": "1.5.0",
            "_model_name": "HTMLModel",
            "_view_count": null,
            "_view_module": "@jupyter-widgets/controls",
            "_view_module_version": "1.5.0",
            "_view_name": "HTMLView",
            "description": "",
            "description_tooltip": null,
            "layout": "IPY_MODEL_797ce38ae8fc4a918d073cf8bc1f4f9e",
            "placeholder": "​",
            "style": "IPY_MODEL_928e785eda464f9aaaeb6223f19d3c7f",
            "value": ""
          }
        },
        "5aff2ae2ea1e4f9e93d227f39e14970c": {
          "model_module": "@jupyter-widgets/controls",
          "model_name": "FloatProgressModel",
          "model_module_version": "1.5.0",
          "state": {
            "_dom_classes": [],
            "_model_module": "@jupyter-widgets/controls",
            "_model_module_version": "1.5.0",
            "_model_name": "FloatProgressModel",
            "_view_count": null,
            "_view_module": "@jupyter-widgets/controls",
            "_view_module_version": "1.5.0",
            "_view_name": "ProgressView",
            "bar_style": "danger",
            "description": "",
            "description_tooltip": null,
            "layout": "IPY_MODEL_7d2363c002054dc8a1e2f75ac1916928",
            "max": 5000,
            "min": 0,
            "orientation": "horizontal",
            "style": "IPY_MODEL_f8751eae64804509bafa6554cc177489",
            "value": 55
          }
        },
        "10e5a6a5f0cf49e08d9de3834f66b777": {
          "model_module": "@jupyter-widgets/controls",
          "model_name": "HTMLModel",
          "model_module_version": "1.5.0",
          "state": {
            "_dom_classes": [],
            "_model_module": "@jupyter-widgets/controls",
            "_model_module_version": "1.5.0",
            "_model_name": "HTMLModel",
            "_view_count": null,
            "_view_module": "@jupyter-widgets/controls",
            "_view_module_version": "1.5.0",
            "_view_name": "HTMLView",
            "description": "",
            "description_tooltip": null,
            "layout": "IPY_MODEL_1afff9f3c32740b4a28752fbd86d3c30",
            "placeholder": "​",
            "style": "IPY_MODEL_69c0fff188d041eb9dc3d543a5504937",
            "value": "55: 5 Loss: 0.0364, Perf: 1.0000:   1%|     | 55/5000 [00:16&lt;16:13,  5.08it/s]     "
          }
        },
        "ccd5b6cd7334476fb44622b76bff43c6": {
          "model_module": "@jupyter-widgets/base",
          "model_name": "LayoutModel",
          "model_module_version": "1.2.0",
          "state": {
            "_model_module": "@jupyter-widgets/base",
            "_model_module_version": "1.2.0",
            "_model_name": "LayoutModel",
            "_view_count": null,
            "_view_module": "@jupyter-widgets/base",
            "_view_module_version": "1.2.0",
            "_view_name": "LayoutView",
            "align_content": null,
            "align_items": null,
            "align_self": null,
            "border": null,
            "bottom": null,
            "display": null,
            "flex": null,
            "flex_flow": null,
            "grid_area": null,
            "grid_auto_columns": null,
            "grid_auto_flow": null,
            "grid_auto_rows": null,
            "grid_column": null,
            "grid_gap": null,
            "grid_row": null,
            "grid_template_areas": null,
            "grid_template_columns": null,
            "grid_template_rows": null,
            "height": null,
            "justify_content": null,
            "justify_items": null,
            "left": null,
            "margin": null,
            "max_height": null,
            "max_width": null,
            "min_height": null,
            "min_width": null,
            "object_fit": null,
            "object_position": null,
            "order": null,
            "overflow": null,
            "overflow_x": null,
            "overflow_y": null,
            "padding": null,
            "right": null,
            "top": null,
            "visibility": null,
            "width": null
          }
        },
        "797ce38ae8fc4a918d073cf8bc1f4f9e": {
          "model_module": "@jupyter-widgets/base",
          "model_name": "LayoutModel",
          "model_module_version": "1.2.0",
          "state": {
            "_model_module": "@jupyter-widgets/base",
            "_model_module_version": "1.2.0",
            "_model_name": "LayoutModel",
            "_view_count": null,
            "_view_module": "@jupyter-widgets/base",
            "_view_module_version": "1.2.0",
            "_view_name": "LayoutView",
            "align_content": null,
            "align_items": null,
            "align_self": null,
            "border": null,
            "bottom": null,
            "display": null,
            "flex": null,
            "flex_flow": null,
            "grid_area": null,
            "grid_auto_columns": null,
            "grid_auto_flow": null,
            "grid_auto_rows": null,
            "grid_column": null,
            "grid_gap": null,
            "grid_row": null,
            "grid_template_areas": null,
            "grid_template_columns": null,
            "grid_template_rows": null,
            "height": null,
            "justify_content": null,
            "justify_items": null,
            "left": null,
            "margin": null,
            "max_height": null,
            "max_width": null,
            "min_height": null,
            "min_width": null,
            "object_fit": null,
            "object_position": null,
            "order": null,
            "overflow": null,
            "overflow_x": null,
            "overflow_y": null,
            "padding": null,
            "right": null,
            "top": null,
            "visibility": null,
            "width": null
          }
        },
        "928e785eda464f9aaaeb6223f19d3c7f": {
          "model_module": "@jupyter-widgets/controls",
          "model_name": "DescriptionStyleModel",
          "model_module_version": "1.5.0",
          "state": {
            "_model_module": "@jupyter-widgets/controls",
            "_model_module_version": "1.5.0",
            "_model_name": "DescriptionStyleModel",
            "_view_count": null,
            "_view_module": "@jupyter-widgets/base",
            "_view_module_version": "1.2.0",
            "_view_name": "StyleView",
            "description_width": ""
          }
        },
        "7d2363c002054dc8a1e2f75ac1916928": {
          "model_module": "@jupyter-widgets/base",
          "model_name": "LayoutModel",
          "model_module_version": "1.2.0",
          "state": {
            "_model_module": "@jupyter-widgets/base",
            "_model_module_version": "1.2.0",
            "_model_name": "LayoutModel",
            "_view_count": null,
            "_view_module": "@jupyter-widgets/base",
            "_view_module_version": "1.2.0",
            "_view_name": "LayoutView",
            "align_content": null,
            "align_items": null,
            "align_self": null,
            "border": null,
            "bottom": null,
            "display": null,
            "flex": null,
            "flex_flow": null,
            "grid_area": null,
            "grid_auto_columns": null,
            "grid_auto_flow": null,
            "grid_auto_rows": null,
            "grid_column": null,
            "grid_gap": null,
            "grid_row": null,
            "grid_template_areas": null,
            "grid_template_columns": null,
            "grid_template_rows": null,
            "height": null,
            "justify_content": null,
            "justify_items": null,
            "left": null,
            "margin": null,
            "max_height": null,
            "max_width": null,
            "min_height": null,
            "min_width": null,
            "object_fit": null,
            "object_position": null,
            "order": null,
            "overflow": null,
            "overflow_x": null,
            "overflow_y": null,
            "padding": null,
            "right": null,
            "top": null,
            "visibility": null,
            "width": null
          }
        },
        "f8751eae64804509bafa6554cc177489": {
          "model_module": "@jupyter-widgets/controls",
          "model_name": "ProgressStyleModel",
          "model_module_version": "1.5.0",
          "state": {
            "_model_module": "@jupyter-widgets/controls",
            "_model_module_version": "1.5.0",
            "_model_name": "ProgressStyleModel",
            "_view_count": null,
            "_view_module": "@jupyter-widgets/base",
            "_view_module_version": "1.2.0",
            "_view_name": "StyleView",
            "bar_color": null,
            "description_width": ""
          }
        },
        "1afff9f3c32740b4a28752fbd86d3c30": {
          "model_module": "@jupyter-widgets/base",
          "model_name": "LayoutModel",
          "model_module_version": "1.2.0",
          "state": {
            "_model_module": "@jupyter-widgets/base",
            "_model_module_version": "1.2.0",
            "_model_name": "LayoutModel",
            "_view_count": null,
            "_view_module": "@jupyter-widgets/base",
            "_view_module_version": "1.2.0",
            "_view_name": "LayoutView",
            "align_content": null,
            "align_items": null,
            "align_self": null,
            "border": null,
            "bottom": null,
            "display": null,
            "flex": null,
            "flex_flow": null,
            "grid_area": null,
            "grid_auto_columns": null,
            "grid_auto_flow": null,
            "grid_auto_rows": null,
            "grid_column": null,
            "grid_gap": null,
            "grid_row": null,
            "grid_template_areas": null,
            "grid_template_columns": null,
            "grid_template_rows": null,
            "height": null,
            "justify_content": null,
            "justify_items": null,
            "left": null,
            "margin": null,
            "max_height": null,
            "max_width": null,
            "min_height": null,
            "min_width": null,
            "object_fit": null,
            "object_position": null,
            "order": null,
            "overflow": null,
            "overflow_x": null,
            "overflow_y": null,
            "padding": null,
            "right": null,
            "top": null,
            "visibility": null,
            "width": null
          }
        },
        "69c0fff188d041eb9dc3d543a5504937": {
          "model_module": "@jupyter-widgets/controls",
          "model_name": "DescriptionStyleModel",
          "model_module_version": "1.5.0",
          "state": {
            "_model_module": "@jupyter-widgets/controls",
            "_model_module_version": "1.5.0",
            "_model_name": "DescriptionStyleModel",
            "_view_count": null,
            "_view_module": "@jupyter-widgets/base",
            "_view_module_version": "1.2.0",
            "_view_name": "StyleView",
            "description_width": ""
          }
        }
      }
    }
  },
  "nbformat": 4,
  "nbformat_minor": 0
}