{
  "cells": [
    {
      "cell_type": "code",
      "source": [
        "!nvidia-smi"
      ],
      "metadata": {
        "colab": {
          "base_uri": "https://localhost:8080/"
        },
        "id": "tf3KhYlVIfNz",
        "outputId": "740a3ec9-3828-4b8c-dd19-247452bcfcb4"
      },
      "execution_count": 1,
      "outputs": [
        {
          "output_type": "stream",
          "name": "stdout",
          "text": [
            "Mon Nov 13 22:38:55 2023       \n",
            "+-----------------------------------------------------------------------------+\n",
            "| NVIDIA-SMI 525.105.17   Driver Version: 525.105.17   CUDA Version: 12.0     |\n",
            "|-------------------------------+----------------------+----------------------+\n",
            "| GPU  Name        Persistence-M| Bus-Id        Disp.A | Volatile Uncorr. ECC |\n",
            "| Fan  Temp  Perf  Pwr:Usage/Cap|         Memory-Usage | GPU-Util  Compute M. |\n",
            "|                               |                      |               MIG M. |\n",
            "|===============================+======================+======================|\n",
            "|   0  Tesla T4            Off  | 00000000:00:04.0 Off |                    0 |\n",
            "| N/A   38C    P8     9W /  70W |      0MiB / 15360MiB |      0%      Default |\n",
            "|                               |                      |                  N/A |\n",
            "+-------------------------------+----------------------+----------------------+\n",
            "                                                                               \n",
            "+-----------------------------------------------------------------------------+\n",
            "| Processes:                                                                  |\n",
            "|  GPU   GI   CI        PID   Type   Process name                  GPU Memory |\n",
            "|        ID   ID                                                   Usage      |\n",
            "|=============================================================================|\n",
            "|  No running processes found                                                 |\n",
            "+-----------------------------------------------------------------------------+\n"
          ]
        }
      ]
    },
    {
      "cell_type": "code",
      "source": [
        "from google.colab import drive\n",
        "drive.mount('/content/drive')\n",
        "import os\n",
        "os.chdir('/content/drive/My Drive/')"
      ],
      "metadata": {
        "id": "Q1oW5m7LLjHz",
        "colab": {
          "base_uri": "https://localhost:8080/"
        },
        "outputId": "16ed80ec-04eb-4fa4-cd79-3150c6b83cd3"
      },
      "execution_count": 1,
      "outputs": [
        {
          "output_type": "stream",
          "name": "stdout",
          "text": [
            "Mounted at /content/drive\n"
          ]
        }
      ]
    },
    {
      "cell_type": "code",
      "execution_count": 3,
      "metadata": {
        "ExecuteTime": {
          "end_time": "2021-05-03T01:36:37.390727Z",
          "start_time": "2021-05-03T01:36:37.208757Z"
        },
        "colab": {
          "base_uri": "https://localhost:8080/"
        },
        "id": "_BojtTyJHRXN",
        "outputId": "40e15e80-f078-4893-b831-d68210c40723"
      },
      "outputs": [
        {
          "output_type": "stream",
          "name": "stdout",
          "text": [
            "fatal: destination path 'DNN_invariant_sithcon' already exists and is not an empty directory.\n"
          ]
        }
      ],
      "source": [
        "%matplotlib inline\n",
        "!git clone https://github.com/VikashKumarShaw1994/DNN_invariant_time-rescaling.git DNN_invariant_sithcon"
      ]
    },
    {
      "cell_type": "code",
      "execution_count": 2,
      "metadata": {
        "ExecuteTime": {
          "end_time": "2021-05-03T01:36:37.943324Z",
          "start_time": "2021-05-03T01:36:37.391688Z"
        },
        "colab": {
          "base_uri": "https://localhost:8080/"
        },
        "id": "NZ-T_7LVHRXR",
        "outputId": "ea2e567a-eb27-4f38-e9bb-0a4b11091d58"
      },
      "outputs": [
        {
          "output_type": "stream",
          "name": "stdout",
          "text": [
            "<class 'torch.cuda.FloatTensor'>\n"
          ]
        }
      ],
      "source": [
        "import matplotlib.pyplot as plt\n",
        "import seaborn as sn\n",
        "sn.set_context(\"poster\")\n",
        "\n",
        "import torch\n",
        "from torch import nn as nn\n",
        "ttype = torch.cuda.FloatTensor if torch.cuda.is_available() else torch.FloatTensor\n",
        "ctype = torch.cuda.LongTensor if torch.cuda.is_available() else torch.LongTensor\n",
        "print(ttype)\n",
        "import torch.nn.functional as F\n",
        "from matplotlib import gridspec\n",
        "from DNN_invariant_sithcon.SITHCon.sithcon import SITHCon_Layer\n",
        "#from sithcon import SITHCon_Layer, _SITHCon_Core, iSITH\n",
        "\n",
        "from tqdm.notebook import tqdm\n",
        "\n",
        "import itertools\n",
        "from csv import DictWriter\n",
        "import os\n",
        "from os.path import join\n",
        "import glob\n",
        "\n",
        "import numpy as np\n",
        "import pandas as pd\n",
        "import pickle\n",
        "from math import factorial\n",
        "import random"
      ]
    },
    {
      "cell_type": "code",
      "source": [
        "Braille_CODE_DICT = {\n",
        "\",\": \"01000000\",\n",
        "\".\": \"01001100\",\n",
        "\"(\": \"01001000\",\n",
        "\"-\": \"01100000\",\n",
        "\"/\": \"00100000\",\n",
        "\"?\": \"01100100\",\n",
        "\")\": \"01101000\",\n",
        "\"A\": \"10000010\",\n",
        "\"B\": \"11000010\",\n",
        "\"C\": \"10010010\",\n",
        "\"D\": \"10011010\",\n",
        "\"E\": \"10001010\",\n",
        "\"F\": \"11010010\",\n",
        "\"G\": \"11011010\",\n",
        "\"H\": \"11001010\",\n",
        "\"I\": \"01010010\",\n",
        "\"J\": \"01011010\",\n",
        "\"K\": \"10100010\",\n",
        "\"L\": \"11100010\",\n",
        "\"M\": \"10110010\",\n",
        "\"N\": \"10111010\",\n",
        "\"O\": \"10101010\",\n",
        "\"P\": \"11110010\",\n",
        "\"Q\": \"11111010\",\n",
        "\"R\": \"11101010\",\n",
        "\"S\": \"01110010\",\n",
        "\"T\": \"01111010\",\n",
        "\"U\": \"10100110\",\n",
        "\"V\": \"11100110\",\n",
        "\"W\": \"01011110\",\n",
        "\"X\": \"10110110\",\n",
        "\"Y\": \"10111110\",\n",
        "\"Z\": \"10101110\",\n",
        "\"1\": \"10000001\",\n",
        "\"2\": \"11000001\",\n",
        "\"3\": \"10010001\",\n",
        "\"4\": \"10011001\",\n",
        "\"5\": \"10001001\",\n",
        "\"6\": \"11010001\",\n",
        "\"7\": \"11011001\",\n",
        "\"8\": \"11001001\",\n",
        "\"9\": \"01010001\",\n",
        "\"0\": \"01011001\",\n",
        " }"
      ],
      "metadata": {
        "id": "8pEB7bab1k38"
      },
      "execution_count": 3,
      "outputs": []
    },
    {
      "cell_type": "code",
      "execution_count": 4,
      "metadata": {
        "ExecuteTime": {
          "end_time": "2021-05-03T01:08:04.845819Z",
          "start_time": "2021-05-03T01:08:04.831952Z"
        },
        "scrolled": true,
        "colab": {
          "base_uri": "https://localhost:8080/"
        },
        "id": "knjD1UwEHRXU",
        "outputId": "26fe4ca9-f697-4274-9348-987c782635a7"
      },
      "outputs": [
        {
          "output_type": "stream",
          "name": "stdout",
          "text": [
            "[tensor([0., 1., 0., 0., 0., 0., 0., 0., 0., 0.], device='cuda:0'), tensor([0., 1., 0., 0., 1., 1., 0., 0., 0., 0.], device='cuda:0'), tensor([0., 1., 0., 0., 1., 0., 0., 0., 0., 0.], device='cuda:0'), tensor([0., 1., 1., 0., 0., 0., 0., 0., 0., 0.], device='cuda:0'), tensor([0., 0., 1., 0., 0., 0., 0., 0., 0., 0.], device='cuda:0'), tensor([0., 1., 1., 0., 0., 1., 0., 0., 0., 0.], device='cuda:0'), tensor([0., 1., 1., 0., 1., 0., 0., 0., 0., 0.], device='cuda:0'), tensor([1., 0., 0., 0., 0., 0., 1., 0., 0., 0.], device='cuda:0'), tensor([1., 1., 0., 0., 0., 0., 1., 0., 0., 0.], device='cuda:0'), tensor([1., 0., 0., 1., 0., 0., 1., 0., 0., 0.], device='cuda:0'), tensor([1., 0., 0., 1., 1., 0., 1., 0., 0., 0.], device='cuda:0'), tensor([1., 0., 0., 0., 1., 0., 1., 0., 0., 0.], device='cuda:0'), tensor([1., 1., 0., 1., 0., 0., 1., 0., 0., 0.], device='cuda:0'), tensor([1., 1., 0., 1., 1., 0., 1., 0., 0., 0.], device='cuda:0'), tensor([1., 1., 0., 0., 1., 0., 1., 0., 0., 0.], device='cuda:0'), tensor([0., 1., 0., 1., 0., 0., 1., 0., 0., 0.], device='cuda:0'), tensor([0., 1., 0., 1., 1., 0., 1., 0., 0., 0.], device='cuda:0'), tensor([1., 0., 1., 0., 0., 0., 1., 0., 0., 0.], device='cuda:0'), tensor([1., 1., 1., 0., 0., 0., 1., 0., 0., 0.], device='cuda:0'), tensor([1., 0., 1., 1., 0., 0., 1., 0., 0., 0.], device='cuda:0'), tensor([1., 0., 1., 1., 1., 0., 1., 0., 0., 0.], device='cuda:0'), tensor([1., 0., 1., 0., 1., 0., 1., 0., 0., 0.], device='cuda:0'), tensor([1., 1., 1., 1., 0., 0., 1., 0., 0., 0.], device='cuda:0'), tensor([1., 1., 1., 1., 1., 0., 1., 0., 0., 0.], device='cuda:0'), tensor([1., 1., 1., 0., 1., 0., 1., 0., 0., 0.], device='cuda:0'), tensor([0., 1., 1., 1., 0., 0., 1., 0., 0., 0.], device='cuda:0'), tensor([0., 1., 1., 1., 1., 0., 1., 0., 0., 0.], device='cuda:0'), tensor([1., 0., 1., 0., 0., 1., 1., 0., 0., 0.], device='cuda:0'), tensor([1., 1., 1., 0., 0., 1., 1., 0., 0., 0.], device='cuda:0'), tensor([0., 1., 0., 1., 1., 1., 1., 0., 0., 0.], device='cuda:0'), tensor([1., 0., 1., 1., 0., 1., 1., 0., 0., 0.], device='cuda:0'), tensor([1., 0., 1., 1., 1., 1., 1., 0., 0., 0.], device='cuda:0'), tensor([1., 0., 1., 0., 1., 1., 1., 0., 0., 0.], device='cuda:0'), tensor([1., 0., 0., 0., 0., 0., 0., 1., 0., 0.], device='cuda:0'), tensor([1., 1., 0., 0., 0., 0., 0., 1., 0., 0.], device='cuda:0'), tensor([1., 0., 0., 1., 0., 0., 0., 1., 0., 0.], device='cuda:0'), tensor([1., 0., 0., 1., 1., 0., 0., 1., 0., 0.], device='cuda:0'), tensor([1., 0., 0., 0., 1., 0., 0., 1., 0., 0.], device='cuda:0'), tensor([1., 1., 0., 1., 0., 0., 0., 1., 0., 0.], device='cuda:0'), tensor([1., 1., 0., 1., 1., 0., 0., 1., 0., 0.], device='cuda:0'), tensor([1., 1., 0., 0., 1., 0., 0., 1., 0., 0.], device='cuda:0'), tensor([0., 1., 0., 1., 0., 0., 0., 1., 0., 0.], device='cuda:0'), tensor([0., 1., 0., 1., 1., 0., 0., 1., 0., 0.], device='cuda:0')] tensor([ 0,  1,  2,  3,  4,  5,  6,  7,  8,  9, 10, 11, 12, 13, 14, 15, 16, 17,\n",
            "        18, 19, 20, 21, 22, 23, 24, 25, 26, 27, 28, 29, 30, 31, 32, 33, 34, 35,\n",
            "        36, 37, 38, 39, 40, 41, 42])\n"
          ]
        },
        {
          "output_type": "stream",
          "name": "stderr",
          "text": [
            "<ipython-input-4-a3c04df30030>:11: UserWarning: The torch.cuda.*DtypeTensor constructors are no longer recommended. It's best to use methods such as torch.tensor(data, dtype=*, device='cuda') to create tensors. (Triggered internally at ../torch/csrc/tensor/python_tensor.cpp:83.)\n",
            "  X = [ttype(Braille_code_numpy[k])for k in subset]\n"
          ]
        }
      ],
      "source": [
        "Braille_code_numpy = {key:np.array([int(x) for x in Braille_CODE_DICT[key]] + [0, 0])\n",
        "                    for key in Braille_CODE_DICT.keys()}\n",
        "\n",
        "subset = list(Braille_code_numpy.keys())\n",
        "\n",
        "id2key = subset\n",
        "key2id = {}\n",
        "for idx, s in enumerate(subset):\n",
        "    key2id[s] = idx\n",
        "\n",
        "X = [ttype(Braille_code_numpy[k])for k in subset]\n",
        "Y = torch.LongTensor(np.arange(0,len(X)))\n",
        "print(X, Y)"
      ]
    },
    {
      "cell_type": "code",
      "execution_count": 5,
      "metadata": {
        "ExecuteTime": {
          "end_time": "2021-05-03T01:08:07.166363Z",
          "start_time": "2021-05-03T01:08:07.161989Z"
        },
        "id": "7qHW4MiBHRXV"
      },
      "outputs": [],
      "source": [
        "class SITHCon_Classifier(nn.Module):\n",
        "    def __init__(self, out_classes, layer_params,\n",
        "                 act_func=nn.ReLU, batch_norm=False,\n",
        "                 dropout=.2):\n",
        "        super(SITHCon_Classifier, self).__init__()\n",
        "        last_channels = layer_params[-1]['channels']\n",
        "        self.transform_linears = nn.ModuleList([nn.Linear(l['channels'], l['channels'])\n",
        "                                                for l in layer_params])\n",
        "        self.sithcon_layers = nn.ModuleList([SITHCon_Layer(l, act_func) for l in layer_params])\n",
        "        self.to_out = nn.Linear(last_channels, out_classes)\n",
        "\n",
        "\n",
        "    def forward(self, inp):\n",
        "\n",
        "        x = inp\n",
        "        #out = []\n",
        "        for i in range(len(self.sithcon_layers)):\n",
        "            x = self.sithcon_layers[i](x)\n",
        "\n",
        "            x = self.transform_linears[i](x[:,0,:,:].transpose(1,2))\n",
        "            x = x.unsqueeze(1).transpose(2,3)\n",
        "\n",
        "            #out.append(x.clone())\n",
        "        x = x.transpose(2,3)[:, 0, :, :]\n",
        "        #x = x.transpose(2,3)[:, 0, :, :]\n",
        "        x = self.to_out(x)\n",
        "        return x"
      ]
    },
    {
      "cell_type": "markdown",
      "metadata": {
        "id": "cBobaK1MHRXW"
      },
      "source": [
        "# Three Layers"
      ]
    },
    {
      "cell_type": "code",
      "source": [
        "p = [400, 35, 23, 2]\n",
        "\n",
        "sp1 = dict(in_features=1,\n",
        "           tau_min=.1, tau_max=4000, buff_max=6500,\n",
        "           dt=1, ntau=p[0], k=p[1], g=0.0, ttype=ttype,\n",
        "           channels=35, kernel_width=p[2], dilation=p[3],\n",
        "           dropout=None, batch_norm=None)\n",
        "sp2 = dict(in_features=sp1['channels'],\n",
        "           tau_min=.1, tau_max=4000, buff_max=6500,\n",
        "           dt=1, ntau=p[0], k=p[1], g=0.0, ttype=ttype,\n",
        "           channels=35, kernel_width=p[2], dilation=p[3],\n",
        "           dropout=None, batch_norm=None)\n",
        "sp3 = dict(in_features=sp2['channels'],\n",
        "           tau_min=.1, tau_max=4000, buff_max=6500,\n",
        "           dt=1, ntau=p[0], k=p[1], g=0.0, ttype=ttype,\n",
        "           channels=35, kernel_width=p[2], dilation=p[3],\n",
        "           dropout=None, batch_norm=None)\n",
        "\n",
        "# TWO LAYERS\n",
        "layer_params = [sp1, sp2]#, sp3]\n",
        "\n",
        "\n",
        "model = SITHCon_Classifier(len(X), layer_params, act_func=nn.ReLU).cuda()\n",
        "model\n",
        "tot_weights = 0\n",
        "for p in model.parameters():\n",
        "    tot_weights += p.numel()\n",
        "print(\"Total Weights:\", tot_weights)\n",
        "print(model)"
      ],
      "metadata": {
        "colab": {
          "base_uri": "https://localhost:8080/"
        },
        "id": "uwPZN53iNKWQ",
        "outputId": "c59344f3-39dc-4809-b419-82e5b21f2d76"
      },
      "execution_count": 6,
      "outputs": [
        {
          "output_type": "stream",
          "name": "stdout",
          "text": [
            "{'tau_min': 0.1, 'tau_max': 4000, 'buff_max': 6500, 'dt': 1, 'ntau': 400, 'k': 35, 'g': 0.0, 'ttype': <class 'torch.cuda.FloatTensor'>, 'dropout': None, 'batch_norm': None}\n",
            "{'tau_min': 0.1, 'tau_max': 4000, 'buff_max': 6500, 'dt': 1, 'ntau': 400, 'k': 35, 'g': 0.0, 'ttype': <class 'torch.cuda.FloatTensor'>, 'dropout': None, 'batch_norm': None}\n",
            "Total Weights: 33118\n",
            "SITHCon_Classifier(\n",
            "  (transform_linears): ModuleList(\n",
            "    (0-1): 2 x Linear(in_features=35, out_features=35, bias=True)\n",
            "  )\n",
            "  (sithcon_layers): ModuleList(\n",
            "    (0): SITHCon_Layer(\n",
            "      (tctct): _SITHCon_Core(\n",
            "        (sith): iSITH(ntau=400, tau_min=0.1, tau_max=4000, buff_max=6500, dt=1, k=35, g=0.0)\n",
            "        (conv): Conv2d(1, 35, kernel_size=(1, 23), stride=(1, 1), dilation=(1, 2), bias=False)\n",
            "        (maxp): MaxPool1d(kernel_size=356, stride=356, padding=0, dilation=1, ceil_mode=False)\n",
            "      )\n",
            "      (act_func): ReLU()\n",
            "      (dropout): Dropout(p=0.0, inplace=False)\n",
            "    )\n",
            "    (1): SITHCon_Layer(\n",
            "      (tctct): _SITHCon_Core(\n",
            "        (sith): iSITH(ntau=400, tau_min=0.1, tau_max=4000, buff_max=6500, dt=1, k=35, g=0.0)\n",
            "        (conv): Conv2d(1, 35, kernel_size=(35, 23), stride=(1, 1), dilation=(1, 2), bias=False)\n",
            "        (maxp): MaxPool1d(kernel_size=356, stride=356, padding=0, dilation=1, ceil_mode=False)\n",
            "      )\n",
            "      (act_func): ReLU()\n",
            "      (dropout): Dropout(p=0.0, inplace=False)\n",
            "    )\n",
            "  )\n",
            "  (to_out): Linear(in_features=35, out_features=43, bias=True)\n",
            ")\n"
          ]
        },
        {
          "output_type": "stream",
          "name": "stderr",
          "text": [
            "/usr/local/lib/python3.10/dist-packages/torch/nn/utils/weight_norm.py:30: UserWarning: torch.nn.utils.weight_norm is deprecated in favor of torch.nn.utils.parametrizations.weight_norm.\n",
            "  warnings.warn(\"torch.nn.utils.weight_norm is deprecated in favor of torch.nn.utils.parametrizations.weight_norm.\")\n"
          ]
        }
      ]
    },
    {
      "cell_type": "code",
      "source": [
        "loss_func = torch.nn.CrossEntropyLoss()\n",
        "optimizer = torch.optim.Adam(model.parameters())\n",
        "epochs = 5000\n",
        "Trainscale = 10\n",
        "device='cuda'\n",
        "batch_size = 8\n",
        "batches = int(np.ceil(43 / batch_size))\n",
        "progress_bar = tqdm(range(int(epochs)), bar_format='{l_bar}{bar:5}{r_bar}{bar:-5b}')\n",
        "times_100 = 0\n",
        "for epoch_idx in progress_bar:\n",
        "    perfs = []\n",
        "    losses = []\n",
        "    model.train()\n",
        "    for batch_idx in range(batches):\n",
        "        optimizer.zero_grad()\n",
        "        loss = 0\n",
        "        permute = np.arange(0, 43)\n",
        "        for i in range(0, int(min(len(X) - (batch_idx*batch_size),\n",
        "                              batch_size))\n",
        "                       ):\n",
        "            iv = X[permute[batch_idx*batch_size + i]]\n",
        "            iv = iv.unsqueeze(0).unsqueeze(0).unsqueeze(0).to(device)\n",
        "            iv = iv.unsqueeze(-1)\n",
        "            iv = iv.repeat(1,1,1,1,Trainscale)\n",
        "            iv = iv.reshape(1,1,1,-1)\n",
        "            tv = Y[permute[batch_idx*batch_size + i]].to(device)\n",
        "            optimizer.zero_grad()\n",
        "            out = model(iv)\n",
        "            loss += loss_func(out[:, -1, :],\n",
        "                             torch.cuda.LongTensor([tv]))\n",
        "            perfs.append((torch.argmax(out[:, -1, :], dim=-1) ==\n",
        "                      tv).sum().item())\n",
        "        loss = loss / min(len(X) - (batch_idx*batch_size),\n",
        "                          batch_size)\n",
        "        loss.backward()\n",
        "        optimizer.step()\n",
        "\n",
        "\n",
        "        #perfs = perfs[int(-loss_buffer_size/batch_size):]\n",
        "        losses.append(loss.detach().cpu().numpy())\n",
        "        #losses = losses[int(-loss_buffer_size/batch_size):]\n",
        "\n",
        "\n",
        "        s = \"{}:{:2} Loss: {:.4f}, Perf: {:.4f}\"\n",
        "        format_list = [epoch_idx, batch_idx, np.mean(losses),\n",
        "                       np.sum(perfs)/((len(perfs)))]\n",
        "        s = s.format(*format_list)\n",
        "        progress_bar.set_description(s)\n",
        "    if (np.sum(perfs)/((len(perfs))) == 1.0) & (np.mean(losses) < .11):\n",
        "        times_100 += 1\n",
        "        if times_100 >= 3:\n",
        "            break\n",
        "    else:\n",
        "        times_100 = 0"
      ],
      "metadata": {
        "colab": {
          "base_uri": "https://localhost:8080/",
          "height": 49,
          "referenced_widgets": [
            "4e364c28d3314402ab8dbb7fbf5e3a9e",
            "9af22c491e1044889785ae58b007d49b",
            "9323e11a99034a4896470efc7dab3297",
            "44c97cc8e2e04f14be245e156afa091c",
            "f9a7731325eb4b31b6c64f1470a3de59",
            "dd488b8f53d346a6877a16d9cb9a55ba",
            "3ee351ba56ce46eda8ecc5ef7c17032b",
            "8465084b8b714b0c8f89268a093ea413",
            "ecce0104481e4a4bb5cf04b5538f57f9",
            "2cd624890d8d437b8f977db1710b1fda",
            "fa15c5e88d004000b5220f949d3aa136"
          ]
        },
        "id": "ALaoXDaGNtqJ",
        "outputId": "836c2507-8f76-4ef8-957a-5bfbca1a5849"
      },
      "execution_count": 7,
      "outputs": [
        {
          "output_type": "display_data",
          "data": {
            "text/plain": [
              "  0%|     | 0/5000 [00:00<?, ?it/s]     "
            ],
            "application/vnd.jupyter.widget-view+json": {
              "version_major": 2,
              "version_minor": 0,
              "model_id": "4e364c28d3314402ab8dbb7fbf5e3a9e"
            }
          },
          "metadata": {}
        }
      ]
    },
    {
      "cell_type": "markdown",
      "metadata": {
        "id": "KSCdia4zHRXa"
      },
      "source": [
        "# TEST\n"
      ]
    },
    {
      "cell_type": "code",
      "execution_count": 8,
      "metadata": {
        "ExecuteTime": {
          "end_time": "2021-05-03T01:23:29.500713Z",
          "start_time": "2021-05-03T01:23:26.450075Z"
        },
        "colab": {
          "base_uri": "https://localhost:8080/"
        },
        "id": "k2_Bzo2UHRXa",
        "outputId": "c4325941-c169-4e78-85f4-02fc9b2c1664"
      },
      "outputs": [
        {
          "output_type": "stream",
          "name": "stdout",
          "text": [
            "1 0.46511627906976744\n",
            "2 0.8837209302325582\n",
            "5 1.0\n",
            "6 1.0\n",
            "7 1.0\n",
            "8 1.0\n",
            "9 1.0\n",
            "10 1.0\n",
            "11 1.0\n",
            "12 1.0\n",
            "13 1.0\n",
            "14 1.0\n",
            "15 1.0\n",
            "16 1.0\n",
            "17 1.0\n",
            "18 1.0\n",
            "19 1.0\n",
            "20 1.0\n",
            "30 1.0\n",
            "40 1.0\n"
          ]
        }
      ],
      "source": [
        "model.eval()\n",
        "evald = []\n",
        "evaldDict = {'perf':[],\n",
        "             'scale':[]}\n",
        "for nr in [1,2,5,6,7,8,9,10,11,12,13,14,15,16,17,18,19,20,30,40]:\n",
        "#for nr in range(1,40,):\n",
        "    perfs = []\n",
        "    for batch_idx, iv in enumerate(X):\n",
        "        iv = iv.unsqueeze(0).unsqueeze(0).unsqueeze(0).to(device)\n",
        "        iv = iv.unsqueeze(-1)\n",
        "        iv = iv.repeat(1,1,1,1,nr)\n",
        "        iv = iv.reshape(1,1,1,-1)\n",
        "        tv = Y[batch_idx].to(device)\n",
        "        out = model(iv)\n",
        "        loss = loss_func(out[:, -1, :],\n",
        "                         torch.cuda.LongTensor([tv]))\n",
        "\n",
        "\n",
        "        perfs.append((torch.argmax(out[:, -1, :], dim=-1) ==\n",
        "                      tv).sum().item())\n",
        "    evaldDict['perf'].append(sum(perfs)/len(perfs))\n",
        "    evaldDict['scale'].append(nr)\n",
        "    print(nr, sum(perfs)/len(perfs))\n",
        "    evald.append([nr, sum(perfs)/(len(perfs)*1.0)])\n",
        "scale_perfs = pd.DataFrame(evaldDict)\n",
        "directory = \"perf\"\n",
        "if not os.path.exists(directory):\n",
        "    os.makedirs(directory)\n",
        "scale_perfs.to_pickle(join(\"perf\", \"sithcon_braille_test.dill\"))"
      ]
    }
  ],
  "metadata": {
    "kernelspec": {
      "display_name": "Python 3",
      "name": "python3"
    },
    "language_info": {
      "codemirror_mode": {
        "name": "ipython",
        "version": 3
      },
      "file_extension": ".py",
      "mimetype": "text/x-python",
      "name": "python",
      "nbconvert_exporter": "python",
      "pygments_lexer": "ipython3",
      "version": "3.6.10"
    },
    "toc": {
      "nav_menu": {},
      "number_sections": true,
      "sideBar": true,
      "skip_h1_title": false,
      "title_cell": "Table of Contents",
      "title_sidebar": "Contents",
      "toc_cell": false,
      "toc_position": {},
      "toc_section_display": true,
      "toc_window_display": false
    },
    "colab": {
      "provenance": [],
      "gpuType": "T4"
    },
    "accelerator": "GPU",
    "widgets": {
      "application/vnd.jupyter.widget-state+json": {
        "4e364c28d3314402ab8dbb7fbf5e3a9e": {
          "model_module": "@jupyter-widgets/controls",
          "model_name": "HBoxModel",
          "model_module_version": "1.5.0",
          "state": {
            "_dom_classes": [],
            "_model_module": "@jupyter-widgets/controls",
            "_model_module_version": "1.5.0",
            "_model_name": "HBoxModel",
            "_view_count": null,
            "_view_module": "@jupyter-widgets/controls",
            "_view_module_version": "1.5.0",
            "_view_name": "HBoxView",
            "box_style": "",
            "children": [
              "IPY_MODEL_9af22c491e1044889785ae58b007d49b",
              "IPY_MODEL_9323e11a99034a4896470efc7dab3297",
              "IPY_MODEL_44c97cc8e2e04f14be245e156afa091c"
            ],
            "layout": "IPY_MODEL_f9a7731325eb4b31b6c64f1470a3de59"
          }
        },
        "9af22c491e1044889785ae58b007d49b": {
          "model_module": "@jupyter-widgets/controls",
          "model_name": "HTMLModel",
          "model_module_version": "1.5.0",
          "state": {
            "_dom_classes": [],
            "_model_module": "@jupyter-widgets/controls",
            "_model_module_version": "1.5.0",
            "_model_name": "HTMLModel",
            "_view_count": null,
            "_view_module": "@jupyter-widgets/controls",
            "_view_module_version": "1.5.0",
            "_view_name": "HTMLView",
            "description": "",
            "description_tooltip": null,
            "layout": "IPY_MODEL_dd488b8f53d346a6877a16d9cb9a55ba",
            "placeholder": "​",
            "style": "IPY_MODEL_3ee351ba56ce46eda8ecc5ef7c17032b",
            "value": ""
          }
        },
        "9323e11a99034a4896470efc7dab3297": {
          "model_module": "@jupyter-widgets/controls",
          "model_name": "FloatProgressModel",
          "model_module_version": "1.5.0",
          "state": {
            "_dom_classes": [],
            "_model_module": "@jupyter-widgets/controls",
            "_model_module_version": "1.5.0",
            "_model_name": "FloatProgressModel",
            "_view_count": null,
            "_view_module": "@jupyter-widgets/controls",
            "_view_module_version": "1.5.0",
            "_view_name": "ProgressView",
            "bar_style": "danger",
            "description": "",
            "description_tooltip": null,
            "layout": "IPY_MODEL_8465084b8b714b0c8f89268a093ea413",
            "max": 5000,
            "min": 0,
            "orientation": "horizontal",
            "style": "IPY_MODEL_ecce0104481e4a4bb5cf04b5538f57f9",
            "value": 289
          }
        },
        "44c97cc8e2e04f14be245e156afa091c": {
          "model_module": "@jupyter-widgets/controls",
          "model_name": "HTMLModel",
          "model_module_version": "1.5.0",
          "state": {
            "_dom_classes": [],
            "_model_module": "@jupyter-widgets/controls",
            "_model_module_version": "1.5.0",
            "_model_name": "HTMLModel",
            "_view_count": null,
            "_view_module": "@jupyter-widgets/controls",
            "_view_module_version": "1.5.0",
            "_view_name": "HTMLView",
            "description": "",
            "description_tooltip": null,
            "layout": "IPY_MODEL_2cd624890d8d437b8f977db1710b1fda",
            "placeholder": "​",
            "style": "IPY_MODEL_fa15c5e88d004000b5220f949d3aa136",
            "value": "289: 5 Loss: 0.1060, Perf: 1.0000:   6%|▎    | 289/5000 [01:46&lt;28:39,  2.74it/s]     "
          }
        },
        "f9a7731325eb4b31b6c64f1470a3de59": {
          "model_module": "@jupyter-widgets/base",
          "model_name": "LayoutModel",
          "model_module_version": "1.2.0",
          "state": {
            "_model_module": "@jupyter-widgets/base",
            "_model_module_version": "1.2.0",
            "_model_name": "LayoutModel",
            "_view_count": null,
            "_view_module": "@jupyter-widgets/base",
            "_view_module_version": "1.2.0",
            "_view_name": "LayoutView",
            "align_content": null,
            "align_items": null,
            "align_self": null,
            "border": null,
            "bottom": null,
            "display": null,
            "flex": null,
            "flex_flow": null,
            "grid_area": null,
            "grid_auto_columns": null,
            "grid_auto_flow": null,
            "grid_auto_rows": null,
            "grid_column": null,
            "grid_gap": null,
            "grid_row": null,
            "grid_template_areas": null,
            "grid_template_columns": null,
            "grid_template_rows": null,
            "height": null,
            "justify_content": null,
            "justify_items": null,
            "left": null,
            "margin": null,
            "max_height": null,
            "max_width": null,
            "min_height": null,
            "min_width": null,
            "object_fit": null,
            "object_position": null,
            "order": null,
            "overflow": null,
            "overflow_x": null,
            "overflow_y": null,
            "padding": null,
            "right": null,
            "top": null,
            "visibility": null,
            "width": null
          }
        },
        "dd488b8f53d346a6877a16d9cb9a55ba": {
          "model_module": "@jupyter-widgets/base",
          "model_name": "LayoutModel",
          "model_module_version": "1.2.0",
          "state": {
            "_model_module": "@jupyter-widgets/base",
            "_model_module_version": "1.2.0",
            "_model_name": "LayoutModel",
            "_view_count": null,
            "_view_module": "@jupyter-widgets/base",
            "_view_module_version": "1.2.0",
            "_view_name": "LayoutView",
            "align_content": null,
            "align_items": null,
            "align_self": null,
            "border": null,
            "bottom": null,
            "display": null,
            "flex": null,
            "flex_flow": null,
            "grid_area": null,
            "grid_auto_columns": null,
            "grid_auto_flow": null,
            "grid_auto_rows": null,
            "grid_column": null,
            "grid_gap": null,
            "grid_row": null,
            "grid_template_areas": null,
            "grid_template_columns": null,
            "grid_template_rows": null,
            "height": null,
            "justify_content": null,
            "justify_items": null,
            "left": null,
            "margin": null,
            "max_height": null,
            "max_width": null,
            "min_height": null,
            "min_width": null,
            "object_fit": null,
            "object_position": null,
            "order": null,
            "overflow": null,
            "overflow_x": null,
            "overflow_y": null,
            "padding": null,
            "right": null,
            "top": null,
            "visibility": null,
            "width": null
          }
        },
        "3ee351ba56ce46eda8ecc5ef7c17032b": {
          "model_module": "@jupyter-widgets/controls",
          "model_name": "DescriptionStyleModel",
          "model_module_version": "1.5.0",
          "state": {
            "_model_module": "@jupyter-widgets/controls",
            "_model_module_version": "1.5.0",
            "_model_name": "DescriptionStyleModel",
            "_view_count": null,
            "_view_module": "@jupyter-widgets/base",
            "_view_module_version": "1.2.0",
            "_view_name": "StyleView",
            "description_width": ""
          }
        },
        "8465084b8b714b0c8f89268a093ea413": {
          "model_module": "@jupyter-widgets/base",
          "model_name": "LayoutModel",
          "model_module_version": "1.2.0",
          "state": {
            "_model_module": "@jupyter-widgets/base",
            "_model_module_version": "1.2.0",
            "_model_name": "LayoutModel",
            "_view_count": null,
            "_view_module": "@jupyter-widgets/base",
            "_view_module_version": "1.2.0",
            "_view_name": "LayoutView",
            "align_content": null,
            "align_items": null,
            "align_self": null,
            "border": null,
            "bottom": null,
            "display": null,
            "flex": null,
            "flex_flow": null,
            "grid_area": null,
            "grid_auto_columns": null,
            "grid_auto_flow": null,
            "grid_auto_rows": null,
            "grid_column": null,
            "grid_gap": null,
            "grid_row": null,
            "grid_template_areas": null,
            "grid_template_columns": null,
            "grid_template_rows": null,
            "height": null,
            "justify_content": null,
            "justify_items": null,
            "left": null,
            "margin": null,
            "max_height": null,
            "max_width": null,
            "min_height": null,
            "min_width": null,
            "object_fit": null,
            "object_position": null,
            "order": null,
            "overflow": null,
            "overflow_x": null,
            "overflow_y": null,
            "padding": null,
            "right": null,
            "top": null,
            "visibility": null,
            "width": null
          }
        },
        "ecce0104481e4a4bb5cf04b5538f57f9": {
          "model_module": "@jupyter-widgets/controls",
          "model_name": "ProgressStyleModel",
          "model_module_version": "1.5.0",
          "state": {
            "_model_module": "@jupyter-widgets/controls",
            "_model_module_version": "1.5.0",
            "_model_name": "ProgressStyleModel",
            "_view_count": null,
            "_view_module": "@jupyter-widgets/base",
            "_view_module_version": "1.2.0",
            "_view_name": "StyleView",
            "bar_color": null,
            "description_width": ""
          }
        },
        "2cd624890d8d437b8f977db1710b1fda": {
          "model_module": "@jupyter-widgets/base",
          "model_name": "LayoutModel",
          "model_module_version": "1.2.0",
          "state": {
            "_model_module": "@jupyter-widgets/base",
            "_model_module_version": "1.2.0",
            "_model_name": "LayoutModel",
            "_view_count": null,
            "_view_module": "@jupyter-widgets/base",
            "_view_module_version": "1.2.0",
            "_view_name": "LayoutView",
            "align_content": null,
            "align_items": null,
            "align_self": null,
            "border": null,
            "bottom": null,
            "display": null,
            "flex": null,
            "flex_flow": null,
            "grid_area": null,
            "grid_auto_columns": null,
            "grid_auto_flow": null,
            "grid_auto_rows": null,
            "grid_column": null,
            "grid_gap": null,
            "grid_row": null,
            "grid_template_areas": null,
            "grid_template_columns": null,
            "grid_template_rows": null,
            "height": null,
            "justify_content": null,
            "justify_items": null,
            "left": null,
            "margin": null,
            "max_height": null,
            "max_width": null,
            "min_height": null,
            "min_width": null,
            "object_fit": null,
            "object_position": null,
            "order": null,
            "overflow": null,
            "overflow_x": null,
            "overflow_y": null,
            "padding": null,
            "right": null,
            "top": null,
            "visibility": null,
            "width": null
          }
        },
        "fa15c5e88d004000b5220f949d3aa136": {
          "model_module": "@jupyter-widgets/controls",
          "model_name": "DescriptionStyleModel",
          "model_module_version": "1.5.0",
          "state": {
            "_model_module": "@jupyter-widgets/controls",
            "_model_module_version": "1.5.0",
            "_model_name": "DescriptionStyleModel",
            "_view_count": null,
            "_view_module": "@jupyter-widgets/base",
            "_view_module_version": "1.2.0",
            "_view_name": "StyleView",
            "description_width": ""
          }
        }
      }
    }
  },
  "nbformat": 4,
  "nbformat_minor": 0
}