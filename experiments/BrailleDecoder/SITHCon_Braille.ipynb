{
  "cells": [
    {
      "cell_type": "code",
      "source": [
        "!nvidia-smi"
      ],
      "metadata": {
        "colab": {
          "base_uri": "https://localhost:8080/"
        },
        "id": "tf3KhYlVIfNz",
        "outputId": "df87f1ec-ab49-4253-b7b9-f9c41f0bdfff"
      },
      "execution_count": 1,
      "outputs": [
        {
          "output_type": "stream",
          "name": "stdout",
          "text": [
            "Tue Nov 14 00:47:21 2023       \n",
            "+-----------------------------------------------------------------------------+\n",
            "| NVIDIA-SMI 525.105.17   Driver Version: 525.105.17   CUDA Version: 12.0     |\n",
            "|-------------------------------+----------------------+----------------------+\n",
            "| GPU  Name        Persistence-M| Bus-Id        Disp.A | Volatile Uncorr. ECC |\n",
            "| Fan  Temp  Perf  Pwr:Usage/Cap|         Memory-Usage | GPU-Util  Compute M. |\n",
            "|                               |                      |               MIG M. |\n",
            "|===============================+======================+======================|\n",
            "|   0  Tesla T4            Off  | 00000000:00:04.0 Off |                    0 |\n",
            "| N/A   35C    P8     9W /  70W |      0MiB / 15360MiB |      0%      Default |\n",
            "|                               |                      |                  N/A |\n",
            "+-------------------------------+----------------------+----------------------+\n",
            "                                                                               \n",
            "+-----------------------------------------------------------------------------+\n",
            "| Processes:                                                                  |\n",
            "|  GPU   GI   CI        PID   Type   Process name                  GPU Memory |\n",
            "|        ID   ID                                                   Usage      |\n",
            "|=============================================================================|\n",
            "|  No running processes found                                                 |\n",
            "+-----------------------------------------------------------------------------+\n"
          ]
        }
      ]
    },
    {
      "cell_type": "code",
      "source": [
        "from google.colab import drive\n",
        "drive.mount('/content/drive')\n",
        "import os\n",
        "os.chdir('/content/drive/My Drive/')"
      ],
      "metadata": {
        "id": "Q1oW5m7LLjHz",
        "colab": {
          "base_uri": "https://localhost:8080/"
        },
        "outputId": "a495733e-bb4f-46e2-8441-6e277911ea45"
      },
      "execution_count": 2,
      "outputs": [
        {
          "output_type": "stream",
          "name": "stdout",
          "text": [
            "Mounted at /content/drive\n"
          ]
        }
      ]
    },
    {
      "cell_type": "code",
      "execution_count": 3,
      "metadata": {
        "ExecuteTime": {
          "end_time": "2021-05-03T01:36:37.390727Z",
          "start_time": "2021-05-03T01:36:37.208757Z"
        },
        "colab": {
          "base_uri": "https://localhost:8080/"
        },
        "id": "_BojtTyJHRXN",
        "outputId": "40e15e80-f078-4893-b831-d68210c40723"
      },
      "outputs": [
        {
          "output_type": "stream",
          "name": "stdout",
          "text": [
            "fatal: destination path 'DNN_invariant_sithcon' already exists and is not an empty directory.\n"
          ]
        }
      ],
      "source": [
        "%matplotlib inline\n",
        "!git clone https://github.com/VikashKumarShaw1994/DNN_invariant_time-rescaling.git DNN_invariant_sithcon"
      ]
    },
    {
      "cell_type": "code",
      "execution_count": 3,
      "metadata": {
        "ExecuteTime": {
          "end_time": "2021-05-03T01:36:37.943324Z",
          "start_time": "2021-05-03T01:36:37.391688Z"
        },
        "colab": {
          "base_uri": "https://localhost:8080/"
        },
        "id": "NZ-T_7LVHRXR",
        "outputId": "3275e5fc-a8db-413a-8e18-2325bc0d4cd6"
      },
      "outputs": [
        {
          "output_type": "stream",
          "name": "stdout",
          "text": [
            "<class 'torch.cuda.FloatTensor'>\n"
          ]
        }
      ],
      "source": [
        "import matplotlib.pyplot as plt\n",
        "import seaborn as sn\n",
        "sn.set_context(\"poster\")\n",
        "\n",
        "import torch\n",
        "from torch import nn as nn\n",
        "ttype = torch.cuda.FloatTensor if torch.cuda.is_available() else torch.FloatTensor\n",
        "ctype = torch.cuda.LongTensor if torch.cuda.is_available() else torch.LongTensor\n",
        "print(ttype)\n",
        "import torch.nn.functional as F\n",
        "from matplotlib import gridspec\n",
        "from DNN_invariant_sithcon.SITHCon.sithcon import SITHCon_Layer\n",
        "#from sithcon import SITHCon_Layer, _SITHCon_Core, iSITH\n",
        "\n",
        "from tqdm.notebook import tqdm\n",
        "\n",
        "import itertools\n",
        "from csv import DictWriter\n",
        "import os\n",
        "from os.path import join\n",
        "import glob\n",
        "\n",
        "import numpy as np\n",
        "import pandas as pd\n",
        "import pickle\n",
        "from math import factorial\n",
        "import random"
      ]
    },
    {
      "cell_type": "code",
      "source": [
        "Braille_DICT = {\n",
        "    ',': [\n",
        "        [' ', '●'],\n",
        "        [' ', ' '],\n",
        "        [' ', ' '],\n",
        "        [' ', ' ']\n",
        "    ],\n",
        "    '.': [\n",
        "        [' ', '●'],\n",
        "        [' ', ' '],\n",
        "        ['●', '●'],\n",
        "        [' ', ' ']\n",
        "    ],\n",
        "    '(': [\n",
        "        [' ', '●'],\n",
        "        [' ', ' '],\n",
        "        ['●', ' '],\n",
        "        [' ', ' ']\n",
        "    ],\n",
        "    '-': [\n",
        "        [' ', '●'],\n",
        "        ['●', ' '],\n",
        "        [' ', ' '],\n",
        "        [' ', ' ']\n",
        "    ],\n",
        "    '/': [\n",
        "        [' ', ' '],\n",
        "        ['●', ' '],\n",
        "        [' ', ' '],\n",
        "        [' ', ' ']\n",
        "    ],\n",
        "    '?': [\n",
        "        [' ', '●'],\n",
        "        ['●', ' '],\n",
        "        [' ', '●'],\n",
        "        [' ', ' ']\n",
        "    ],\n",
        "    ')': [\n",
        "        [' ', '●'],\n",
        "        ['●', ' '],\n",
        "        ['●', ' '],\n",
        "        [' ', ' ']\n",
        "    ],\n",
        "    'A': [\n",
        "        ['●', ' '],\n",
        "        [' ', ' '],\n",
        "        [' ', ' '],\n",
        "        ['●', ' ']\n",
        "    ],\n",
        "    'B': [\n",
        "        ['●', '●'],\n",
        "        [' ', ' '],\n",
        "        [' ', ' '],\n",
        "        ['●', ' ']\n",
        "    ],\n",
        "    'C': [\n",
        "        ['●', ' '],\n",
        "        [' ', '●'],\n",
        "        [' ', ' '],\n",
        "        ['●', ' ']\n",
        "    ],\n",
        "    'D': [\n",
        "        ['●', ' '],\n",
        "        [' ', '●'],\n",
        "        ['●', ' '],\n",
        "        ['●', ' ']\n",
        "    ],\n",
        "    'E': [\n",
        "        ['●', ' '],\n",
        "        [' ', ' '],\n",
        "        ['●', ' '],\n",
        "        ['●', ' ']\n",
        "    ],\n",
        "    'F': [\n",
        "        ['●', '●'],\n",
        "        [' ', '●'],\n",
        "        [' ', ' '],\n",
        "        ['●', ' ']\n",
        "    ],\n",
        "    'G': [\n",
        "        ['●', '●'],\n",
        "        [' ', '●'],\n",
        "        ['●', ' '],\n",
        "        ['●', ' ']\n",
        "    ],\n",
        "    'H': [\n",
        "        ['●', '●'],\n",
        "        [' ', ' '],\n",
        "        ['●', ' '],\n",
        "        ['●', ' ']\n",
        "    ],\n",
        "    'I': [\n",
        "        [' ', '●'],\n",
        "        [' ', '●'],\n",
        "        [' ', ' '],\n",
        "        ['●', ' ']\n",
        "    ],\n",
        "    'J': [\n",
        "        [' ', '●'],\n",
        "        [' ', '●'],\n",
        "        ['●', ' '],\n",
        "        ['●', ' ']\n",
        "    ],\n",
        "    'K': [\n",
        "        ['●', ' '],\n",
        "        ['●', ' '],\n",
        "        [' ', ' '],\n",
        "        ['●', ' ']\n",
        "    ],\n",
        "    'L': [\n",
        "        ['●', '●'],\n",
        "        ['●', ' '],\n",
        "        [' ', ' '],\n",
        "        ['●', ' ']\n",
        "    ],\n",
        "    'M': [\n",
        "        ['●', ' '],\n",
        "        ['●', '●'],\n",
        "        [' ', ' '],\n",
        "        ['●', ' ']\n",
        "    ],\n",
        "    'N': [\n",
        "        ['●', ' '],\n",
        "        ['●', '●'],\n",
        "        ['●', ' '],\n",
        "        ['●', ' ']\n",
        "    ],\n",
        "    'O': [\n",
        "        ['●', ' '],\n",
        "        ['●', ' '],\n",
        "        ['●', ' '],\n",
        "        ['●', ' ']\n",
        "    ],\n",
        "    'P': [\n",
        "        ['●', '●'],\n",
        "        ['●', '●'],\n",
        "        [' ', ' '],\n",
        "        ['●', ' ']\n",
        "    ],\n",
        "    'Q': [\n",
        "        ['●', '●'],\n",
        "        ['●', '●'],\n",
        "        ['●', ' '],\n",
        "        ['●', ' ']\n",
        "    ],\n",
        "    'R': [\n",
        "        ['●', '●'],\n",
        "        ['●', ' '],\n",
        "        ['●', ' '],\n",
        "        ['●', ' ']\n",
        "    ],\n",
        "    'S': [\n",
        "        [' ', '●'],\n",
        "        ['●', '●'],\n",
        "        [' ', ' '],\n",
        "        ['●', ' ']\n",
        "    ],\n",
        "    'T': [\n",
        "        [' ', '●'],\n",
        "        ['●', '●'],\n",
        "        ['●', ' '],\n",
        "        ['●', ' ']\n",
        "    ],\n",
        "    'U': [\n",
        "        ['●', ' '],\n",
        "        ['●', ' '],\n",
        "        [' ', '●'],\n",
        "        ['●', ' ']\n",
        "    ],\n",
        "    'V': [\n",
        "        ['●', '●'],\n",
        "        ['●', ' '],\n",
        "        [' ', '●'],\n",
        "        ['●', ' ']\n",
        "    ],\n",
        "    'W': [\n",
        "        [' ', '●'],\n",
        "        [' ', '●'],\n",
        "        ['●', '●'],\n",
        "        ['●', ' ']\n",
        "    ],\n",
        "    'X': [\n",
        "        ['●', ' '],\n",
        "        ['●', '●'],\n",
        "        [' ', '●'],\n",
        "        ['●', ' ']\n",
        "    ],\n",
        "    'Y': [\n",
        "        ['●', ' '],\n",
        "        ['●', '●'],\n",
        "        ['●', '●'],\n",
        "        ['●', ' ']\n",
        "    ],\n",
        "    'Z': [\n",
        "        ['●', ' '],\n",
        "        ['●', ' '],\n",
        "        ['●', '●'],\n",
        "        ['●', ' ']\n",
        "    ],\n",
        "    '1': [\n",
        "        ['●', ' '],\n",
        "        [' ', ' '],\n",
        "        [' ', ' '],\n",
        "        [' ', '●']\n",
        "    ],\n",
        "    '2': [\n",
        "        ['●', '●'],\n",
        "        [' ', ' '],\n",
        "        [' ', ' '],\n",
        "        [' ', '●']\n",
        "    ],\n",
        "    '3': [\n",
        "        ['●', ' '],\n",
        "        [' ', '●'],\n",
        "        [' ', ' '],\n",
        "        [' ', '●']\n",
        "    ],\n",
        "    '4': [\n",
        "        ['●', ' '],\n",
        "        [' ', '●'],\n",
        "        ['●', ' '],\n",
        "        [' ', '●']\n",
        "    ],\n",
        "    '5': [\n",
        "        ['●', ' '],\n",
        "        [' ', ' '],\n",
        "        ['●', ' '],\n",
        "        [' ', '●']\n",
        "    ],\n",
        "    '6': [\n",
        "        ['●', '●'],\n",
        "        [' ', '●'],\n",
        "        [' ', ' '],\n",
        "        [' ', '●']\n",
        "    ],\n",
        "    '7': [\n",
        "        ['●', '●'],\n",
        "        [' ', '●'],\n",
        "        ['●', ' '],\n",
        "        [' ', '●']\n",
        "    ],\n",
        "    '8': [\n",
        "        ['●', '●'],\n",
        "        [' ', ' '],\n",
        "        ['●', ' '],\n",
        "        [' ', '●']\n",
        "    ],\n",
        "    '9': [\n",
        "        [' ', '●'],\n",
        "        [' ', '●'],\n",
        "        [' ', ' '],\n",
        "        [' ', '●']\n",
        "    ],\n",
        "    '0': [\n",
        "        [' ', '●'],\n",
        "        [' ', '●'],\n",
        "        ['●', ' '],\n",
        "        [' ', '●']\n",
        "    ]\n",
        "}\n"
      ],
      "metadata": {
        "id": "8pEB7bab1k38"
      },
      "execution_count": 4,
      "outputs": []
    },
    {
      "cell_type": "code",
      "source": [
        "def braille_to_binary(braille_matrix):\n",
        "    braille_code = \"\"\n",
        "    for row in range(4):\n",
        "        for col in range(2):\n",
        "            braille_code += '1' if braille_matrix[row][col] == '●' else '0'\n",
        "\n",
        "    return braille_code\n",
        "\n",
        "Braille_CODE_DICT={}\n",
        "for brk,brv in Braille_DICT.items():\n",
        "    Braille_CODE_DICT[brk]=braille_to_binary(brv)\n",
        "print(Braille_CODE_DICT)"
      ],
      "metadata": {
        "colab": {
          "base_uri": "https://localhost:8080/"
        },
        "id": "pNbRDHgKSndR",
        "outputId": "4b17c4d9-1283-44f7-9934-3c974ae37ca8"
      },
      "execution_count": 6,
      "outputs": [
        {
          "output_type": "stream",
          "name": "stdout",
          "text": [
            "{',': '01000000', '.': '01001100', '(': '01001000', '-': '01100000', '/': '00100000', '?': '01100100', ')': '01101000', 'A': '10000010', 'B': '11000010', 'C': '10010010', 'D': '10011010', 'E': '10001010', 'F': '11010010', 'G': '11011010', 'H': '11001010', 'I': '01010010', 'J': '01011010', 'K': '10100010', 'L': '11100010', 'M': '10110010', 'N': '10111010', 'O': '10101010', 'P': '11110010', 'Q': '11111010', 'R': '11101010', 'S': '01110010', 'T': '01111010', 'U': '10100110', 'V': '11100110', 'W': '01011110', 'X': '10110110', 'Y': '10111110', 'Z': '10101110', '1': '10000001', '2': '11000001', '3': '10010001', '4': '10011001', '5': '10001001', '6': '11010001', '7': '11011001', '8': '11001001', '9': '01010001', '0': '01011001'}\n"
          ]
        }
      ]
    },
    {
      "cell_type": "code",
      "execution_count": 7,
      "metadata": {
        "ExecuteTime": {
          "end_time": "2021-05-03T01:08:04.845819Z",
          "start_time": "2021-05-03T01:08:04.831952Z"
        },
        "scrolled": true,
        "colab": {
          "base_uri": "https://localhost:8080/"
        },
        "id": "knjD1UwEHRXU",
        "outputId": "fb52a853-be6b-44ad-84e0-8dd90cc83cfd"
      },
      "outputs": [
        {
          "output_type": "stream",
          "name": "stdout",
          "text": [
            "[tensor([0., 1., 0., 0., 0., 0., 0., 0., 0., 0.], device='cuda:0'), tensor([0., 1., 0., 0., 1., 1., 0., 0., 0., 0.], device='cuda:0'), tensor([0., 1., 0., 0., 1., 0., 0., 0., 0., 0.], device='cuda:0'), tensor([0., 1., 1., 0., 0., 0., 0., 0., 0., 0.], device='cuda:0'), tensor([0., 0., 1., 0., 0., 0., 0., 0., 0., 0.], device='cuda:0'), tensor([0., 1., 1., 0., 0., 1., 0., 0., 0., 0.], device='cuda:0'), tensor([0., 1., 1., 0., 1., 0., 0., 0., 0., 0.], device='cuda:0'), tensor([1., 0., 0., 0., 0., 0., 1., 0., 0., 0.], device='cuda:0'), tensor([1., 1., 0., 0., 0., 0., 1., 0., 0., 0.], device='cuda:0'), tensor([1., 0., 0., 1., 0., 0., 1., 0., 0., 0.], device='cuda:0'), tensor([1., 0., 0., 1., 1., 0., 1., 0., 0., 0.], device='cuda:0'), tensor([1., 0., 0., 0., 1., 0., 1., 0., 0., 0.], device='cuda:0'), tensor([1., 1., 0., 1., 0., 0., 1., 0., 0., 0.], device='cuda:0'), tensor([1., 1., 0., 1., 1., 0., 1., 0., 0., 0.], device='cuda:0'), tensor([1., 1., 0., 0., 1., 0., 1., 0., 0., 0.], device='cuda:0'), tensor([0., 1., 0., 1., 0., 0., 1., 0., 0., 0.], device='cuda:0'), tensor([0., 1., 0., 1., 1., 0., 1., 0., 0., 0.], device='cuda:0'), tensor([1., 0., 1., 0., 0., 0., 1., 0., 0., 0.], device='cuda:0'), tensor([1., 1., 1., 0., 0., 0., 1., 0., 0., 0.], device='cuda:0'), tensor([1., 0., 1., 1., 0., 0., 1., 0., 0., 0.], device='cuda:0'), tensor([1., 0., 1., 1., 1., 0., 1., 0., 0., 0.], device='cuda:0'), tensor([1., 0., 1., 0., 1., 0., 1., 0., 0., 0.], device='cuda:0'), tensor([1., 1., 1., 1., 0., 0., 1., 0., 0., 0.], device='cuda:0'), tensor([1., 1., 1., 1., 1., 0., 1., 0., 0., 0.], device='cuda:0'), tensor([1., 1., 1., 0., 1., 0., 1., 0., 0., 0.], device='cuda:0'), tensor([0., 1., 1., 1., 0., 0., 1., 0., 0., 0.], device='cuda:0'), tensor([0., 1., 1., 1., 1., 0., 1., 0., 0., 0.], device='cuda:0'), tensor([1., 0., 1., 0., 0., 1., 1., 0., 0., 0.], device='cuda:0'), tensor([1., 1., 1., 0., 0., 1., 1., 0., 0., 0.], device='cuda:0'), tensor([0., 1., 0., 1., 1., 1., 1., 0., 0., 0.], device='cuda:0'), tensor([1., 0., 1., 1., 0., 1., 1., 0., 0., 0.], device='cuda:0'), tensor([1., 0., 1., 1., 1., 1., 1., 0., 0., 0.], device='cuda:0'), tensor([1., 0., 1., 0., 1., 1., 1., 0., 0., 0.], device='cuda:0'), tensor([1., 0., 0., 0., 0., 0., 0., 1., 0., 0.], device='cuda:0'), tensor([1., 1., 0., 0., 0., 0., 0., 1., 0., 0.], device='cuda:0'), tensor([1., 0., 0., 1., 0., 0., 0., 1., 0., 0.], device='cuda:0'), tensor([1., 0., 0., 1., 1., 0., 0., 1., 0., 0.], device='cuda:0'), tensor([1., 0., 0., 0., 1., 0., 0., 1., 0., 0.], device='cuda:0'), tensor([1., 1., 0., 1., 0., 0., 0., 1., 0., 0.], device='cuda:0'), tensor([1., 1., 0., 1., 1., 0., 0., 1., 0., 0.], device='cuda:0'), tensor([1., 1., 0., 0., 1., 0., 0., 1., 0., 0.], device='cuda:0'), tensor([0., 1., 0., 1., 0., 0., 0., 1., 0., 0.], device='cuda:0'), tensor([0., 1., 0., 1., 1., 0., 0., 1., 0., 0.], device='cuda:0')] tensor([ 0,  1,  2,  3,  4,  5,  6,  7,  8,  9, 10, 11, 12, 13, 14, 15, 16, 17,\n",
            "        18, 19, 20, 21, 22, 23, 24, 25, 26, 27, 28, 29, 30, 31, 32, 33, 34, 35,\n",
            "        36, 37, 38, 39, 40, 41, 42])\n"
          ]
        },
        {
          "output_type": "stream",
          "name": "stderr",
          "text": [
            "<ipython-input-7-a3c04df30030>:11: UserWarning: The torch.cuda.*DtypeTensor constructors are no longer recommended. It's best to use methods such as torch.tensor(data, dtype=*, device='cuda') to create tensors. (Triggered internally at ../torch/csrc/tensor/python_tensor.cpp:83.)\n",
            "  X = [ttype(Braille_code_numpy[k])for k in subset]\n"
          ]
        }
      ],
      "source": [
        "Braille_code_numpy = {key:np.array([int(x) for x in Braille_CODE_DICT[key]] + [0, 0])\n",
        "                    for key in Braille_CODE_DICT.keys()}\n",
        "\n",
        "subset = list(Braille_code_numpy.keys())\n",
        "\n",
        "id2key = subset\n",
        "key2id = {}\n",
        "for idx, s in enumerate(subset):\n",
        "    key2id[s] = idx\n",
        "\n",
        "X = [ttype(Braille_code_numpy[k])for k in subset]\n",
        "Y = torch.LongTensor(np.arange(0,len(X)))\n",
        "print(X, Y)"
      ]
    },
    {
      "cell_type": "code",
      "execution_count": 8,
      "metadata": {
        "ExecuteTime": {
          "end_time": "2021-05-03T01:08:07.166363Z",
          "start_time": "2021-05-03T01:08:07.161989Z"
        },
        "id": "7qHW4MiBHRXV"
      },
      "outputs": [],
      "source": [
        "class SITHCon_Classifier(nn.Module):\n",
        "    def __init__(self, out_classes, layer_params,\n",
        "                 act_func=nn.ReLU, batch_norm=False,\n",
        "                 dropout=.2):\n",
        "        super(SITHCon_Classifier, self).__init__()\n",
        "        last_channels = layer_params[-1]['channels']\n",
        "        self.transform_linears = nn.ModuleList([nn.Linear(l['channels'], l['channels'])\n",
        "                                                for l in layer_params])\n",
        "        self.sithcon_layers = nn.ModuleList([SITHCon_Layer(l, act_func) for l in layer_params])\n",
        "        self.to_out = nn.Linear(last_channels, out_classes)\n",
        "\n",
        "\n",
        "    def forward(self, inp):\n",
        "\n",
        "        x = inp\n",
        "        #out = []\n",
        "        for i in range(len(self.sithcon_layers)):\n",
        "            x = self.sithcon_layers[i](x)\n",
        "\n",
        "            x = self.transform_linears[i](x[:,0,:,:].transpose(1,2))\n",
        "            x = x.unsqueeze(1).transpose(2,3)\n",
        "\n",
        "            #out.append(x.clone())\n",
        "        x = x.transpose(2,3)[:, 0, :, :]\n",
        "        #x = x.transpose(2,3)[:, 0, :, :]\n",
        "        x = self.to_out(x)\n",
        "        return x"
      ]
    },
    {
      "cell_type": "markdown",
      "metadata": {
        "id": "cBobaK1MHRXW"
      },
      "source": [
        "# Three Layers"
      ]
    },
    {
      "cell_type": "code",
      "source": [
        "p = [400, 35, 23, 2]\n",
        "\n",
        "sp1 = dict(in_features=1,\n",
        "           tau_min=.1, tau_max=4000, buff_max=6500,\n",
        "           dt=1, ntau=p[0], k=p[1], g=0.0, ttype=ttype,\n",
        "           channels=35, kernel_width=p[2], dilation=p[3],\n",
        "           dropout=None, batch_norm=None)\n",
        "sp2 = dict(in_features=sp1['channels'],\n",
        "           tau_min=.1, tau_max=4000, buff_max=6500,\n",
        "           dt=1, ntau=p[0], k=p[1], g=0.0, ttype=ttype,\n",
        "           channels=35, kernel_width=p[2], dilation=p[3],\n",
        "           dropout=None, batch_norm=None)\n",
        "sp3 = dict(in_features=sp2['channels'],\n",
        "           tau_min=.1, tau_max=4000, buff_max=6500,\n",
        "           dt=1, ntau=p[0], k=p[1], g=0.0, ttype=ttype,\n",
        "           channels=35, kernel_width=p[2], dilation=p[3],\n",
        "           dropout=None, batch_norm=None)\n",
        "\n",
        "# TWO LAYERS\n",
        "layer_params = [sp1, sp2]#, sp3]\n",
        "\n",
        "\n",
        "model = SITHCon_Classifier(len(X), layer_params, act_func=nn.ReLU).cuda()\n",
        "model\n",
        "tot_weights = 0\n",
        "for p in model.parameters():\n",
        "    tot_weights += p.numel()\n",
        "print(\"Total Weights:\", tot_weights)\n",
        "print(model)"
      ],
      "metadata": {
        "colab": {
          "base_uri": "https://localhost:8080/"
        },
        "id": "uwPZN53iNKWQ",
        "outputId": "9d1bf156-99c0-4e0f-bd09-3c9062f187c1"
      },
      "execution_count": 9,
      "outputs": [
        {
          "output_type": "stream",
          "name": "stdout",
          "text": [
            "{'tau_min': 0.1, 'tau_max': 4000, 'buff_max': 6500, 'dt': 1, 'ntau': 400, 'k': 35, 'g': 0.0, 'ttype': <class 'torch.cuda.FloatTensor'>, 'dropout': None, 'batch_norm': None}\n"
          ]
        },
        {
          "output_type": "stream",
          "name": "stderr",
          "text": [
            "/usr/local/lib/python3.10/dist-packages/torch/nn/utils/weight_norm.py:30: UserWarning: torch.nn.utils.weight_norm is deprecated in favor of torch.nn.utils.parametrizations.weight_norm.\n",
            "  warnings.warn(\"torch.nn.utils.weight_norm is deprecated in favor of torch.nn.utils.parametrizations.weight_norm.\")\n"
          ]
        },
        {
          "output_type": "stream",
          "name": "stdout",
          "text": [
            "{'tau_min': 0.1, 'tau_max': 4000, 'buff_max': 6500, 'dt': 1, 'ntau': 400, 'k': 35, 'g': 0.0, 'ttype': <class 'torch.cuda.FloatTensor'>, 'dropout': None, 'batch_norm': None}\n",
            "Total Weights: 33118\n",
            "SITHCon_Classifier(\n",
            "  (transform_linears): ModuleList(\n",
            "    (0-1): 2 x Linear(in_features=35, out_features=35, bias=True)\n",
            "  )\n",
            "  (sithcon_layers): ModuleList(\n",
            "    (0): SITHCon_Layer(\n",
            "      (tctct): _SITHCon_Core(\n",
            "        (sith): iSITH(ntau=400, tau_min=0.1, tau_max=4000, buff_max=6500, dt=1, k=35, g=0.0)\n",
            "        (conv): Conv2d(1, 35, kernel_size=(1, 23), stride=(1, 1), dilation=(1, 2), bias=False)\n",
            "        (maxp): MaxPool1d(kernel_size=356, stride=356, padding=0, dilation=1, ceil_mode=False)\n",
            "      )\n",
            "      (act_func): ReLU()\n",
            "      (dropout): Dropout(p=0.0, inplace=False)\n",
            "    )\n",
            "    (1): SITHCon_Layer(\n",
            "      (tctct): _SITHCon_Core(\n",
            "        (sith): iSITH(ntau=400, tau_min=0.1, tau_max=4000, buff_max=6500, dt=1, k=35, g=0.0)\n",
            "        (conv): Conv2d(1, 35, kernel_size=(35, 23), stride=(1, 1), dilation=(1, 2), bias=False)\n",
            "        (maxp): MaxPool1d(kernel_size=356, stride=356, padding=0, dilation=1, ceil_mode=False)\n",
            "      )\n",
            "      (act_func): ReLU()\n",
            "      (dropout): Dropout(p=0.0, inplace=False)\n",
            "    )\n",
            "  )\n",
            "  (to_out): Linear(in_features=35, out_features=43, bias=True)\n",
            ")\n"
          ]
        }
      ]
    },
    {
      "cell_type": "code",
      "source": [
        "loss_func = torch.nn.CrossEntropyLoss()\n",
        "optimizer = torch.optim.Adam(model.parameters())\n",
        "epochs = 5000\n",
        "Trainscale = 10\n",
        "device='cuda'\n",
        "batch_size = 8\n",
        "batches = int(np.ceil(43 / batch_size))\n",
        "progress_bar = tqdm(range(int(epochs)), bar_format='{l_bar}{bar:5}{r_bar}{bar:-5b}')\n",
        "times_100 = 0\n",
        "for epoch_idx in progress_bar:\n",
        "    perfs = []\n",
        "    losses = []\n",
        "    model.train()\n",
        "    for batch_idx in range(batches):\n",
        "        optimizer.zero_grad()\n",
        "        loss = 0\n",
        "        permute = np.arange(0, 43)\n",
        "        for i in range(0, int(min(len(X) - (batch_idx*batch_size),\n",
        "                              batch_size))\n",
        "                       ):\n",
        "            iv = X[permute[batch_idx*batch_size + i]]\n",
        "            iv = iv.unsqueeze(0).unsqueeze(0).unsqueeze(0).to(device)\n",
        "            iv = iv.unsqueeze(-1)\n",
        "            iv = iv.repeat(1,1,1,1,Trainscale)\n",
        "            iv = iv.reshape(1,1,1,-1)\n",
        "            tv = Y[permute[batch_idx*batch_size + i]].to(device)\n",
        "            optimizer.zero_grad()\n",
        "            out = model(iv)\n",
        "            loss += loss_func(out[:, -1, :],\n",
        "                             torch.cuda.LongTensor([tv]))\n",
        "            perfs.append((torch.argmax(out[:, -1, :], dim=-1) ==\n",
        "                      tv).sum().item())\n",
        "        loss = loss / min(len(X) - (batch_idx*batch_size),\n",
        "                          batch_size)\n",
        "        loss.backward()\n",
        "        optimizer.step()\n",
        "\n",
        "\n",
        "        #perfs = perfs[int(-loss_buffer_size/batch_size):]\n",
        "        losses.append(loss.detach().cpu().numpy())\n",
        "        #losses = losses[int(-loss_buffer_size/batch_size):]\n",
        "\n",
        "\n",
        "        s = \"{}:{:2} Loss: {:.4f}, Perf: {:.4f}\"\n",
        "        format_list = [epoch_idx, batch_idx, np.mean(losses),\n",
        "                       np.sum(perfs)/((len(perfs)))]\n",
        "        s = s.format(*format_list)\n",
        "        progress_bar.set_description(s)\n",
        "    if (np.sum(perfs)/((len(perfs))) == 1.0) & (np.mean(losses) < .11):\n",
        "        times_100 += 1\n",
        "        if times_100 >= 3:\n",
        "            break\n",
        "    else:\n",
        "        times_100 = 0"
      ],
      "metadata": {
        "colab": {
          "base_uri": "https://localhost:8080/",
          "height": 49,
          "referenced_widgets": [
            "ebec837092364aba9c8513ef3fe4dd94",
            "1c592a04d2f247a191018a79745a15b2",
            "5cc5a91b3d62493a913ab98ea02bc23a",
            "73f0ad11d18f471a891428fefeabb081",
            "7655ad665ec5408898cbf601be184de3",
            "add7a0c6b7cb44aba8e4c9e5a30a1ce6",
            "2e72d17da6934e388c1f4258ef939b11",
            "a0e2fd0ff87e4310b22cdfa0e3da9ddf",
            "d8fa7f5849f6453abdbfc38c5eda4fed",
            "1d3693618b1f4618a3845d2d75038448",
            "63fb678378814d4abbe661f557d73b13"
          ]
        },
        "id": "ALaoXDaGNtqJ",
        "outputId": "16164a0d-8c26-4589-b4e8-d311289c3e5a"
      },
      "execution_count": 10,
      "outputs": [
        {
          "output_type": "display_data",
          "data": {
            "text/plain": [
              "  0%|     | 0/5000 [00:00<?, ?it/s]     "
            ],
            "application/vnd.jupyter.widget-view+json": {
              "version_major": 2,
              "version_minor": 0,
              "model_id": "ebec837092364aba9c8513ef3fe4dd94"
            }
          },
          "metadata": {}
        }
      ]
    },
    {
      "cell_type": "markdown",
      "metadata": {
        "id": "KSCdia4zHRXa"
      },
      "source": [
        "# TEST\n"
      ]
    },
    {
      "cell_type": "code",
      "execution_count": 11,
      "metadata": {
        "ExecuteTime": {
          "end_time": "2021-05-03T01:23:29.500713Z",
          "start_time": "2021-05-03T01:23:26.450075Z"
        },
        "colab": {
          "base_uri": "https://localhost:8080/"
        },
        "id": "k2_Bzo2UHRXa",
        "outputId": "b472fbde-3a0a-4ccd-d55a-7291e53e4960"
      },
      "outputs": [
        {
          "output_type": "stream",
          "name": "stdout",
          "text": [
            "1 0.16279069767441862\n",
            "2 0.627906976744186\n",
            "5 1.0\n",
            "6 1.0\n",
            "7 1.0\n",
            "8 1.0\n",
            "9 1.0\n",
            "10 1.0\n",
            "11 1.0\n",
            "12 1.0\n",
            "13 1.0\n",
            "14 1.0\n",
            "15 1.0\n",
            "16 1.0\n",
            "17 1.0\n",
            "18 1.0\n",
            "19 1.0\n",
            "20 1.0\n",
            "30 1.0\n",
            "40 1.0\n"
          ]
        }
      ],
      "source": [
        "model.eval()\n",
        "evald = []\n",
        "evaldDict = {'perf':[],\n",
        "             'scale':[]}\n",
        "for nr in [1,2,5,6,7,8,9,10,11,12,13,14,15,16,17,18,19,20,30,40]:\n",
        "#for nr in range(1,40,):\n",
        "    perfs = []\n",
        "    for batch_idx, iv in enumerate(X):\n",
        "        iv = iv.unsqueeze(0).unsqueeze(0).unsqueeze(0).to(device)\n",
        "        iv = iv.unsqueeze(-1)\n",
        "        iv = iv.repeat(1,1,1,1,nr)\n",
        "        iv = iv.reshape(1,1,1,-1)\n",
        "        tv = Y[batch_idx].to(device)\n",
        "        out = model(iv)\n",
        "        loss = loss_func(out[:, -1, :],\n",
        "                         torch.cuda.LongTensor([tv]))\n",
        "\n",
        "\n",
        "        perfs.append((torch.argmax(out[:, -1, :], dim=-1) ==\n",
        "                      tv).sum().item())\n",
        "    evaldDict['perf'].append(sum(perfs)/len(perfs))\n",
        "    evaldDict['scale'].append(nr)\n",
        "    print(nr, sum(perfs)/len(perfs))\n",
        "    evald.append([nr, sum(perfs)/(len(perfs)*1.0)])\n",
        "scale_perfs = pd.DataFrame(evaldDict)\n",
        "directory = \"perf\"\n",
        "if not os.path.exists(directory):\n",
        "    os.makedirs(directory)\n",
        "scale_perfs.to_pickle(join(\"perf\", \"sithcon_braille_test.dill\"))"
      ]
    }
  ],
  "metadata": {
    "kernelspec": {
      "display_name": "Python 3",
      "name": "python3"
    },
    "language_info": {
      "codemirror_mode": {
        "name": "ipython",
        "version": 3
      },
      "file_extension": ".py",
      "mimetype": "text/x-python",
      "name": "python",
      "nbconvert_exporter": "python",
      "pygments_lexer": "ipython3",
      "version": "3.6.10"
    },
    "toc": {
      "nav_menu": {},
      "number_sections": true,
      "sideBar": true,
      "skip_h1_title": false,
      "title_cell": "Table of Contents",
      "title_sidebar": "Contents",
      "toc_cell": false,
      "toc_position": {},
      "toc_section_display": true,
      "toc_window_display": false
    },
    "colab": {
      "provenance": [],
      "gpuType": "T4"
    },
    "accelerator": "GPU",
    "widgets": {
      "application/vnd.jupyter.widget-state+json": {
        "ebec837092364aba9c8513ef3fe4dd94": {
          "model_module": "@jupyter-widgets/controls",
          "model_name": "HBoxModel",
          "model_module_version": "1.5.0",
          "state": {
            "_dom_classes": [],
            "_model_module": "@jupyter-widgets/controls",
            "_model_module_version": "1.5.0",
            "_model_name": "HBoxModel",
            "_view_count": null,
            "_view_module": "@jupyter-widgets/controls",
            "_view_module_version": "1.5.0",
            "_view_name": "HBoxView",
            "box_style": "",
            "children": [
              "IPY_MODEL_1c592a04d2f247a191018a79745a15b2",
              "IPY_MODEL_5cc5a91b3d62493a913ab98ea02bc23a",
              "IPY_MODEL_73f0ad11d18f471a891428fefeabb081"
            ],
            "layout": "IPY_MODEL_7655ad665ec5408898cbf601be184de3"
          }
        },
        "1c592a04d2f247a191018a79745a15b2": {
          "model_module": "@jupyter-widgets/controls",
          "model_name": "HTMLModel",
          "model_module_version": "1.5.0",
          "state": {
            "_dom_classes": [],
            "_model_module": "@jupyter-widgets/controls",
            "_model_module_version": "1.5.0",
            "_model_name": "HTMLModel",
            "_view_count": null,
            "_view_module": "@jupyter-widgets/controls",
            "_view_module_version": "1.5.0",
            "_view_name": "HTMLView",
            "description": "",
            "description_tooltip": null,
            "layout": "IPY_MODEL_add7a0c6b7cb44aba8e4c9e5a30a1ce6",
            "placeholder": "​",
            "style": "IPY_MODEL_2e72d17da6934e388c1f4258ef939b11",
            "value": ""
          }
        },
        "5cc5a91b3d62493a913ab98ea02bc23a": {
          "model_module": "@jupyter-widgets/controls",
          "model_name": "FloatProgressModel",
          "model_module_version": "1.5.0",
          "state": {
            "_dom_classes": [],
            "_model_module": "@jupyter-widgets/controls",
            "_model_module_version": "1.5.0",
            "_model_name": "FloatProgressModel",
            "_view_count": null,
            "_view_module": "@jupyter-widgets/controls",
            "_view_module_version": "1.5.0",
            "_view_name": "ProgressView",
            "bar_style": "danger",
            "description": "",
            "description_tooltip": null,
            "layout": "IPY_MODEL_a0e2fd0ff87e4310b22cdfa0e3da9ddf",
            "max": 5000,
            "min": 0,
            "orientation": "horizontal",
            "style": "IPY_MODEL_d8fa7f5849f6453abdbfc38c5eda4fed",
            "value": 279
          }
        },
        "73f0ad11d18f471a891428fefeabb081": {
          "model_module": "@jupyter-widgets/controls",
          "model_name": "HTMLModel",
          "model_module_version": "1.5.0",
          "state": {
            "_dom_classes": [],
            "_model_module": "@jupyter-widgets/controls",
            "_model_module_version": "1.5.0",
            "_model_name": "HTMLModel",
            "_view_count": null,
            "_view_module": "@jupyter-widgets/controls",
            "_view_module_version": "1.5.0",
            "_view_name": "HTMLView",
            "description": "",
            "description_tooltip": null,
            "layout": "IPY_MODEL_1d3693618b1f4618a3845d2d75038448",
            "placeholder": "​",
            "style": "IPY_MODEL_63fb678378814d4abbe661f557d73b13",
            "value": "279: 5 Loss: 0.0978, Perf: 1.0000:   6%|▎    | 279/5000 [01:40&lt;26:08,  3.01it/s]     "
          }
        },
        "7655ad665ec5408898cbf601be184de3": {
          "model_module": "@jupyter-widgets/base",
          "model_name": "LayoutModel",
          "model_module_version": "1.2.0",
          "state": {
            "_model_module": "@jupyter-widgets/base",
            "_model_module_version": "1.2.0",
            "_model_name": "LayoutModel",
            "_view_count": null,
            "_view_module": "@jupyter-widgets/base",
            "_view_module_version": "1.2.0",
            "_view_name": "LayoutView",
            "align_content": null,
            "align_items": null,
            "align_self": null,
            "border": null,
            "bottom": null,
            "display": null,
            "flex": null,
            "flex_flow": null,
            "grid_area": null,
            "grid_auto_columns": null,
            "grid_auto_flow": null,
            "grid_auto_rows": null,
            "grid_column": null,
            "grid_gap": null,
            "grid_row": null,
            "grid_template_areas": null,
            "grid_template_columns": null,
            "grid_template_rows": null,
            "height": null,
            "justify_content": null,
            "justify_items": null,
            "left": null,
            "margin": null,
            "max_height": null,
            "max_width": null,
            "min_height": null,
            "min_width": null,
            "object_fit": null,
            "object_position": null,
            "order": null,
            "overflow": null,
            "overflow_x": null,
            "overflow_y": null,
            "padding": null,
            "right": null,
            "top": null,
            "visibility": null,
            "width": null
          }
        },
        "add7a0c6b7cb44aba8e4c9e5a30a1ce6": {
          "model_module": "@jupyter-widgets/base",
          "model_name": "LayoutModel",
          "model_module_version": "1.2.0",
          "state": {
            "_model_module": "@jupyter-widgets/base",
            "_model_module_version": "1.2.0",
            "_model_name": "LayoutModel",
            "_view_count": null,
            "_view_module": "@jupyter-widgets/base",
            "_view_module_version": "1.2.0",
            "_view_name": "LayoutView",
            "align_content": null,
            "align_items": null,
            "align_self": null,
            "border": null,
            "bottom": null,
            "display": null,
            "flex": null,
            "flex_flow": null,
            "grid_area": null,
            "grid_auto_columns": null,
            "grid_auto_flow": null,
            "grid_auto_rows": null,
            "grid_column": null,
            "grid_gap": null,
            "grid_row": null,
            "grid_template_areas": null,
            "grid_template_columns": null,
            "grid_template_rows": null,
            "height": null,
            "justify_content": null,
            "justify_items": null,
            "left": null,
            "margin": null,
            "max_height": null,
            "max_width": null,
            "min_height": null,
            "min_width": null,
            "object_fit": null,
            "object_position": null,
            "order": null,
            "overflow": null,
            "overflow_x": null,
            "overflow_y": null,
            "padding": null,
            "right": null,
            "top": null,
            "visibility": null,
            "width": null
          }
        },
        "2e72d17da6934e388c1f4258ef939b11": {
          "model_module": "@jupyter-widgets/controls",
          "model_name": "DescriptionStyleModel",
          "model_module_version": "1.5.0",
          "state": {
            "_model_module": "@jupyter-widgets/controls",
            "_model_module_version": "1.5.0",
            "_model_name": "DescriptionStyleModel",
            "_view_count": null,
            "_view_module": "@jupyter-widgets/base",
            "_view_module_version": "1.2.0",
            "_view_name": "StyleView",
            "description_width": ""
          }
        },
        "a0e2fd0ff87e4310b22cdfa0e3da9ddf": {
          "model_module": "@jupyter-widgets/base",
          "model_name": "LayoutModel",
          "model_module_version": "1.2.0",
          "state": {
            "_model_module": "@jupyter-widgets/base",
            "_model_module_version": "1.2.0",
            "_model_name": "LayoutModel",
            "_view_count": null,
            "_view_module": "@jupyter-widgets/base",
            "_view_module_version": "1.2.0",
            "_view_name": "LayoutView",
            "align_content": null,
            "align_items": null,
            "align_self": null,
            "border": null,
            "bottom": null,
            "display": null,
            "flex": null,
            "flex_flow": null,
            "grid_area": null,
            "grid_auto_columns": null,
            "grid_auto_flow": null,
            "grid_auto_rows": null,
            "grid_column": null,
            "grid_gap": null,
            "grid_row": null,
            "grid_template_areas": null,
            "grid_template_columns": null,
            "grid_template_rows": null,
            "height": null,
            "justify_content": null,
            "justify_items": null,
            "left": null,
            "margin": null,
            "max_height": null,
            "max_width": null,
            "min_height": null,
            "min_width": null,
            "object_fit": null,
            "object_position": null,
            "order": null,
            "overflow": null,
            "overflow_x": null,
            "overflow_y": null,
            "padding": null,
            "right": null,
            "top": null,
            "visibility": null,
            "width": null
          }
        },
        "d8fa7f5849f6453abdbfc38c5eda4fed": {
          "model_module": "@jupyter-widgets/controls",
          "model_name": "ProgressStyleModel",
          "model_module_version": "1.5.0",
          "state": {
            "_model_module": "@jupyter-widgets/controls",
            "_model_module_version": "1.5.0",
            "_model_name": "ProgressStyleModel",
            "_view_count": null,
            "_view_module": "@jupyter-widgets/base",
            "_view_module_version": "1.2.0",
            "_view_name": "StyleView",
            "bar_color": null,
            "description_width": ""
          }
        },
        "1d3693618b1f4618a3845d2d75038448": {
          "model_module": "@jupyter-widgets/base",
          "model_name": "LayoutModel",
          "model_module_version": "1.2.0",
          "state": {
            "_model_module": "@jupyter-widgets/base",
            "_model_module_version": "1.2.0",
            "_model_name": "LayoutModel",
            "_view_count": null,
            "_view_module": "@jupyter-widgets/base",
            "_view_module_version": "1.2.0",
            "_view_name": "LayoutView",
            "align_content": null,
            "align_items": null,
            "align_self": null,
            "border": null,
            "bottom": null,
            "display": null,
            "flex": null,
            "flex_flow": null,
            "grid_area": null,
            "grid_auto_columns": null,
            "grid_auto_flow": null,
            "grid_auto_rows": null,
            "grid_column": null,
            "grid_gap": null,
            "grid_row": null,
            "grid_template_areas": null,
            "grid_template_columns": null,
            "grid_template_rows": null,
            "height": null,
            "justify_content": null,
            "justify_items": null,
            "left": null,
            "margin": null,
            "max_height": null,
            "max_width": null,
            "min_height": null,
            "min_width": null,
            "object_fit": null,
            "object_position": null,
            "order": null,
            "overflow": null,
            "overflow_x": null,
            "overflow_y": null,
            "padding": null,
            "right": null,
            "top": null,
            "visibility": null,
            "width": null
          }
        },
        "63fb678378814d4abbe661f557d73b13": {
          "model_module": "@jupyter-widgets/controls",
          "model_name": "DescriptionStyleModel",
          "model_module_version": "1.5.0",
          "state": {
            "_model_module": "@jupyter-widgets/controls",
            "_model_module_version": "1.5.0",
            "_model_name": "DescriptionStyleModel",
            "_view_count": null,
            "_view_module": "@jupyter-widgets/base",
            "_view_module_version": "1.2.0",
            "_view_name": "StyleView",
            "description_width": ""
          }
        }
      }
    }
  },
  "nbformat": 4,
  "nbformat_minor": 0
}