{
  "cells": [
    {
      "cell_type": "code",
      "execution_count": 1,
      "metadata": {
        "ExecuteTime": {
          "end_time": "2021-05-05T14:52:20.948972Z",
          "start_time": "2021-05-05T14:52:20.939893Z"
        },
        "colab": {
          "base_uri": "https://localhost:8080/"
        },
        "id": "FyMApb_-nE3v",
        "outputId": "24f6068a-e3a8-4658-97d0-e58cd49bd909"
      },
      "outputs": [
        {
          "output_type": "stream",
          "name": "stdout",
          "text": [
            "Thu Nov 30 00:59:08 2023       \n",
            "+-----------------------------------------------------------------------------+\n",
            "| NVIDIA-SMI 525.105.17   Driver Version: 525.105.17   CUDA Version: 12.0     |\n",
            "|-------------------------------+----------------------+----------------------+\n",
            "| GPU  Name        Persistence-M| Bus-Id        Disp.A | Volatile Uncorr. ECC |\n",
            "| Fan  Temp  Perf  Pwr:Usage/Cap|         Memory-Usage | GPU-Util  Compute M. |\n",
            "|                               |                      |               MIG M. |\n",
            "|===============================+======================+======================|\n",
            "|   0  Tesla T4            Off  | 00000000:00:04.0 Off |                    0 |\n",
            "| N/A   58C    P8    10W /  70W |      0MiB / 15360MiB |      0%      Default |\n",
            "|                               |                      |                  N/A |\n",
            "+-------------------------------+----------------------+----------------------+\n",
            "                                                                               \n",
            "+-----------------------------------------------------------------------------+\n",
            "| Processes:                                                                  |\n",
            "|  GPU   GI   CI        PID   Type   Process name                  GPU Memory |\n",
            "|        ID   ID                                                   Usage      |\n",
            "|=============================================================================|\n",
            "|  No running processes found                                                 |\n",
            "+-----------------------------------------------------------------------------+\n"
          ]
        }
      ],
      "source": [
        "%matplotlib inline\n",
        "!nvidia-smi"
      ]
    },
    {
      "cell_type": "code",
      "source": [
        "from google.colab import drive\n",
        "drive.mount('/content/drive')\n",
        "import os\n",
        "os.chdir('/content/drive/My Drive/')"
      ],
      "metadata": {
        "colab": {
          "base_uri": "https://localhost:8080/"
        },
        "id": "x5pGZsxVnJqG",
        "outputId": "8ca0c09b-7cf4-49a4-9d21-d984b734ec80"
      },
      "execution_count": 2,
      "outputs": [
        {
          "output_type": "stream",
          "name": "stdout",
          "text": [
            "Mounted at /content/drive\n"
          ]
        }
      ]
    },
    {
      "cell_type": "code",
      "source": [
        "!git clone https://github.com/VikashKumarShaw1994/DNN_invariant_time-rescaling.git DNN_invariant_sithcon"
      ],
      "metadata": {
        "colab": {
          "base_uri": "https://localhost:8080/"
        },
        "id": "mCccvTcHnQl5",
        "outputId": "eb6e9ed7-e548-43a3-9d0e-96e764781d32"
      },
      "execution_count": null,
      "outputs": [
        {
          "output_type": "stream",
          "name": "stdout",
          "text": [
            "fatal: destination path 'DNN_invariant_sithcon' already exists and is not an empty directory.\n"
          ]
        }
      ]
    },
    {
      "cell_type": "code",
      "execution_count": 3,
      "metadata": {
        "ExecuteTime": {
          "end_time": "2021-05-05T14:52:21.169340Z",
          "start_time": "2021-05-05T14:52:21.161864Z"
        },
        "colab": {
          "base_uri": "https://localhost:8080/"
        },
        "id": "YZkjuMARnE3w",
        "outputId": "a265e266-7674-437f-e046-e12ca853fd9f"
      },
      "outputs": [
        {
          "output_type": "stream",
          "name": "stdout",
          "text": [
            "<class 'torch.cuda.FloatTensor'>\n"
          ]
        }
      ],
      "source": [
        "import matplotlib.pyplot as plt\n",
        "import seaborn as sn\n",
        "sn.set_context(\"poster\")\n",
        "\n",
        "import torch\n",
        "from torch import nn as nn\n",
        "ttype = torch.cuda.FloatTensor if torch.cuda.is_available() else torch.FloatTensor\n",
        "ctype = torch.cuda.LongTensor if torch.cuda.is_available() else torch.LongTensor\n",
        "print(ttype)\n",
        "import torch.nn.functional as F\n",
        "from matplotlib import gridspec\n",
        "#from deepsith import DeepSITH\n",
        "\n",
        "from tqdm.notebook import tqdm\n",
        "\n",
        "import itertools\n",
        "from csv import DictWriter\n",
        "import os\n",
        "from os.path import join\n",
        "import glob\n",
        "\n",
        "import numpy as np\n",
        "import pandas as pd\n",
        "import pickle\n",
        "from math import factorial\n",
        "import random"
      ]
    },
    {
      "cell_type": "code",
      "source": [
        "rosicrucian_cipher = {\n",
        "    'A': '☉',\n",
        "    'B': '☿',\n",
        "    'C': '♀',\n",
        "    'D': '☽☿',\n",
        "    'E': '☉♀',\n",
        "    'F': '☽☽',\n",
        "    'G': '☽♀',\n",
        "    'H': '☽☉',\n",
        "    'I': '☉☉',\n",
        "    'J': '☿♀',\n",
        "    'K': '☽☉☽',\n",
        "    'L': '☽☽♀',\n",
        "    'M': '☽☿☽',\n",
        "    'N': '☽',\n",
        "    'O': '☉☉',\n",
        "    'P': '☉☽',\n",
        "    'Q': '☽☉',\n",
        "    'R': '☉☉☽',\n",
        "    'S': '☉☉☉',\n",
        "    'T': '☽☽☽',\n",
        "    'U': '☉☉♀',\n",
        "    'V': '☉☉☽☽',\n",
        "    'W': '☽☽☽☽',\n",
        "    'X': '☽☉☉☉',\n",
        "    'Y': '☽☉☽☉',\n",
        "    'Z': '☽☉☉☉☉',\n",
        "    '0': '♀☽☽☽☽',\n",
        "    '1': '☉☽☽☽☽',\n",
        "    '2': '☉☉☽☽☽',\n",
        "    '3': '☉☉☉☽☽',\n",
        "    '4': '☉☉☉☉☽',\n",
        "    '5': '☉☉☉☉☉',\n",
        "    '6': '♀☉☉☉☉',\n",
        "    '7': '☽♀☉☉☉',\n",
        "    '8': '☽☽♀☉☉',\n",
        "    '9': '☽☽☽♀☉',\n",
        "    ',': '♀☽',\n",
        "    '.': '☉☽☉☽',\n",
        "    '(': '☽☉☉☉☽',\n",
        "    ')': '☽☉☉☉☉',\n",
        "    '/': '☉☽☽☉',\n",
        "    '?': '☽☽♀☽☉',\n",
        "    '-': '☽☉☉☽☉',\n",
        "}\n",
        "\n",
        "\n",
        "\n",
        "message = \"CRYPTO\"\n",
        "binary_representation = ''.join([rosicrucian_cipher[char] for char in message])\n",
        "\n",
        "print(binary_representation)\n"
      ],
      "metadata": {
        "id": "zPv69Y_cPNWi",
        "colab": {
          "base_uri": "https://localhost:8080/"
        },
        "outputId": "6fee42cc-e4d7-4b57-81ac-498c6550801a"
      },
      "execution_count": 4,
      "outputs": [
        {
          "output_type": "stream",
          "name": "stdout",
          "text": [
            "♀☉☉☽☽☉☽☉☉☽☽☽☽☉☉\n"
          ]
        }
      ]
    },
    {
      "cell_type": "code",
      "source": [
        "rosicrucian_to_binary = {\n",
        "    '☉': '00',\n",
        "    '☿': '01',\n",
        "    '♀': '10',\n",
        "    '☽': '11',\n",
        "}\n",
        "\n",
        "\n",
        "\n",
        "\n",
        "print(binary_representation)\n",
        "\n",
        "def rosicruciantobinary(rosicrucian_message):\n",
        "    binary_representation = ''.join([rosicrucian_to_binary[char] for char in rosicrucian_message])\n",
        "\n",
        "    return binary_representation\n",
        "\n",
        "rosicrucian_cipher_dict={}\n",
        "for brk,brv in rosicrucian_cipher.items():\n",
        "    rosicrucian_cipher_dict[brk]=rosicruciantobinary(brv)\n",
        "print(rosicrucian_cipher_dict)"
      ],
      "metadata": {
        "colab": {
          "base_uri": "https://localhost:8080/"
        },
        "id": "iMrHFkv0PXdu",
        "outputId": "df80e2c9-7578-44cb-bbf1-f52845a119b5"
      },
      "execution_count": 7,
      "outputs": [
        {
          "output_type": "stream",
          "name": "stdout",
          "text": [
            "♀☉☉☽☽☉☽☉☉☽☽☽☽☉☉\n",
            "{'A': '00', 'B': '01', 'C': '10', 'D': '1101', 'E': '0010', 'F': '1111', 'G': '1110', 'H': '1100', 'I': '0000', 'J': '0110', 'K': '110011', 'L': '111110', 'M': '110111', 'N': '11', 'O': '0000', 'P': '0011', 'Q': '1100', 'R': '000011', 'S': '000000', 'T': '111111', 'U': '000010', 'V': '00001111', 'W': '11111111', 'X': '11000000', 'Y': '11001100', 'Z': '1100000000', '0': '1011111111', '1': '0011111111', '2': '0000111111', '3': '0000001111', '4': '0000000011', '5': '0000000000', '6': '1000000000', '7': '1110000000', '8': '1111100000', '9': '1111111000', ',': '1011', '.': '00110011', '(': '1100000011', ')': '1100000000', '/': '00111100', '?': '1111101100', '-': '1100001100'}\n"
          ]
        }
      ]
    },
    {
      "cell_type": "code",
      "execution_count": 8,
      "metadata": {
        "ExecuteTime": {
          "end_time": "2021-05-04T18:44:55.050963Z",
          "start_time": "2021-05-04T18:44:55.025184Z"
        },
        "id": "9q9VOAHunE3y"
      },
      "outputs": [],
      "source": [
        "rosicrucian_cipher_numpy = {key:np.array([int(x) for x in rosicrucian_cipher_dict[key]] + [0, 0])\n",
        "                    for key in rosicrucian_cipher_dict.keys()}\n",
        "subset = list(rosicrucian_cipher_numpy.keys())"
      ]
    },
    {
      "cell_type": "code",
      "execution_count": 9,
      "metadata": {
        "ExecuteTime": {
          "end_time": "2021-05-04T18:44:56.737830Z",
          "start_time": "2021-05-04T18:44:55.497500Z"
        },
        "colab": {
          "base_uri": "https://localhost:8080/"
        },
        "id": "BUbszhX9nE3z",
        "outputId": "95536d78-d44b-4163-8d77-5d8a85f110ca"
      },
      "outputs": [
        {
          "output_type": "stream",
          "name": "stdout",
          "text": [
            "tensor(42)\n",
            "[tensor([0., 0., 0., 0.], device='cuda:0'), tensor([0., 1., 0., 0.], device='cuda:0'), tensor([1., 0., 0., 0.], device='cuda:0'), tensor([1., 1., 0., 1., 0., 0.], device='cuda:0'), tensor([0., 0., 1., 0., 0., 0.], device='cuda:0'), tensor([1., 1., 1., 1., 0., 0.], device='cuda:0'), tensor([1., 1., 1., 0., 0., 0.], device='cuda:0'), tensor([1., 1., 0., 0., 0., 0.], device='cuda:0'), tensor([0., 0., 0., 0., 0., 0.], device='cuda:0'), tensor([0., 1., 1., 0., 0., 0.], device='cuda:0'), tensor([1., 1., 0., 0., 1., 1., 0., 0.], device='cuda:0'), tensor([1., 1., 1., 1., 1., 0., 0., 0.], device='cuda:0'), tensor([1., 1., 0., 1., 1., 1., 0., 0.], device='cuda:0'), tensor([1., 1., 0., 0.], device='cuda:0'), tensor([0., 0., 0., 0., 0., 0.], device='cuda:0'), tensor([0., 0., 1., 1., 0., 0.], device='cuda:0'), tensor([1., 1., 0., 0., 0., 0.], device='cuda:0'), tensor([0., 0., 0., 0., 1., 1., 0., 0.], device='cuda:0'), tensor([0., 0., 0., 0., 0., 0., 0., 0.], device='cuda:0'), tensor([1., 1., 1., 1., 1., 1., 0., 0.], device='cuda:0'), tensor([0., 0., 0., 0., 1., 0., 0., 0.], device='cuda:0'), tensor([0., 0., 0., 0., 1., 1., 1., 1., 0., 0.], device='cuda:0'), tensor([1., 1., 1., 1., 1., 1., 1., 1., 0., 0.], device='cuda:0'), tensor([1., 1., 0., 0., 0., 0., 0., 0., 0., 0.], device='cuda:0'), tensor([1., 1., 0., 0., 1., 1., 0., 0., 0., 0.], device='cuda:0'), tensor([1., 1., 0., 0., 0., 0., 0., 0., 0., 0., 0., 0.], device='cuda:0'), tensor([1., 0., 1., 1., 1., 1., 1., 1., 1., 1., 0., 0.], device='cuda:0'), tensor([0., 0., 1., 1., 1., 1., 1., 1., 1., 1., 0., 0.], device='cuda:0'), tensor([0., 0., 0., 0., 1., 1., 1., 1., 1., 1., 0., 0.], device='cuda:0'), tensor([0., 0., 0., 0., 0., 0., 1., 1., 1., 1., 0., 0.], device='cuda:0'), tensor([0., 0., 0., 0., 0., 0., 0., 0., 1., 1., 0., 0.], device='cuda:0'), tensor([0., 0., 0., 0., 0., 0., 0., 0., 0., 0., 0., 0.], device='cuda:0'), tensor([1., 0., 0., 0., 0., 0., 0., 0., 0., 0., 0., 0.], device='cuda:0'), tensor([1., 1., 1., 0., 0., 0., 0., 0., 0., 0., 0., 0.], device='cuda:0'), tensor([1., 1., 1., 1., 1., 0., 0., 0., 0., 0., 0., 0.], device='cuda:0'), tensor([1., 1., 1., 1., 1., 1., 1., 0., 0., 0., 0., 0.], device='cuda:0'), tensor([1., 0., 1., 1., 0., 0.], device='cuda:0'), tensor([0., 0., 1., 1., 0., 0., 1., 1., 0., 0.], device='cuda:0'), tensor([1., 1., 0., 0., 0., 0., 0., 0., 1., 1., 0., 0.], device='cuda:0'), tensor([1., 1., 0., 0., 0., 0., 0., 0., 0., 0., 0., 0.], device='cuda:0'), tensor([0., 0., 1., 1., 1., 1., 0., 0., 0., 0.], device='cuda:0'), tensor([1., 1., 1., 1., 1., 0., 1., 1., 0., 0., 0., 0.], device='cuda:0'), tensor([1., 1., 0., 0., 0., 0., 1., 1., 0., 0., 0., 0.], device='cuda:0')] tensor([ 0,  1,  2,  3,  4,  5,  6,  7,  8,  9, 10, 11, 12, 13, 14, 15, 16, 17,\n",
            "        18, 19, 20, 21, 22, 23, 24, 25, 26, 27, 28, 29, 30, 31, 32, 33, 34, 35,\n",
            "        36, 37, 38, 39, 40, 41, 42])\n"
          ]
        },
        {
          "output_type": "stream",
          "name": "stderr",
          "text": [
            "<ipython-input-9-326f2fb4fd85>:6: UserWarning: The torch.cuda.*DtypeTensor constructors are no longer recommended. It's best to use methods such as torch.tensor(data, dtype=*, device='cuda') to create tensors. (Triggered internally at ../torch/csrc/tensor/python_tensor.cpp:83.)\n",
            "  X = [ttype(rosicrucian_cipher_numpy[k])for k in subset]\n"
          ]
        }
      ],
      "source": [
        "id2key = subset\n",
        "key2id = {}\n",
        "for idx, s in enumerate(subset):\n",
        "    key2id[s] = idx\n",
        "\n",
        "X = [ttype(rosicrucian_cipher_numpy[k])for k in subset]\n",
        "Y = torch.LongTensor(np.arange(0,len(X)))\n",
        "print(Y.max())\n",
        "print(X, Y)"
      ]
    },
    {
      "cell_type": "code",
      "execution_count": 10,
      "metadata": {
        "ExecuteTime": {
          "end_time": "2021-05-04T18:44:56.749737Z",
          "start_time": "2021-05-04T18:44:56.739072Z"
        },
        "id": "DmL3pGJ5nE3z"
      },
      "outputs": [],
      "source": [
        "import torch\n",
        "import torch.nn as nn\n",
        "from torch.nn.utils import weight_norm\n",
        "\n",
        "\n",
        "class Chomp1d(nn.Module):\n",
        "    def __init__(self, chomp_size):\n",
        "        super(Chomp1d, self).__init__()\n",
        "        self.chomp_size = chomp_size\n",
        "\n",
        "    def forward(self, x):\n",
        "        return x[:, :, :-self.chomp_size].contiguous()\n",
        "\n",
        "\n",
        "class TemporalBlock(nn.Module):\n",
        "    def __init__(self, n_inputs, n_outputs, kernel_size, stride, dilation, padding, dropout=0.2):\n",
        "        super(TemporalBlock, self).__init__()\n",
        "        self.conv1 = weight_norm(nn.Conv1d(n_inputs, n_outputs, kernel_size,\n",
        "                                           stride=stride, padding=padding, dilation=dilation))\n",
        "        self.chomp1 = Chomp1d(padding)\n",
        "        self.relu1 = nn.ReLU()\n",
        "        self.dropout1 = nn.Dropout(dropout)\n",
        "\n",
        "        self.conv2 = weight_norm(nn.Conv1d(n_outputs, n_outputs, kernel_size,\n",
        "                                           stride=stride, padding=padding, dilation=dilation))\n",
        "        self.chomp2 = Chomp1d(padding)\n",
        "        self.relu2 = nn.ReLU()\n",
        "        self.dropout2 = nn.Dropout(dropout)\n",
        "\n",
        "        self.net = nn.Sequential(self.conv1, self.chomp1, self.relu1, self.dropout1,\n",
        "                                 self.conv2, self.chomp2, self.relu2, self.dropout2)\n",
        "        self.downsample = nn.Conv1d(n_inputs, n_outputs, 1) if n_inputs != n_outputs else None\n",
        "        self.relu = nn.ReLU()\n",
        "        self.init_weights()\n",
        "\n",
        "    def init_weights(self):\n",
        "        self.conv1.weight.data.normal_(0, 0.01)\n",
        "        self.conv2.weight.data.normal_(0, 0.01)\n",
        "        if self.downsample is not None:\n",
        "            self.downsample.weight.data.normal_(0, 0.01)\n",
        "\n",
        "    def forward(self, x):\n",
        "        out = self.net(x)\n",
        "        res = x if self.downsample is None else self.downsample(x)\n",
        "        return self.relu(out + res)\n",
        "\n",
        "\n",
        "class TemporalConvNet(nn.Module):\n",
        "    def __init__(self, num_inputs, num_channels, kernel_size=2, dropout=0.2):\n",
        "        super(TemporalConvNet, self).__init__()\n",
        "        layers = []\n",
        "        num_levels = len(num_channels)\n",
        "        for i in range(num_levels):\n",
        "            dilation_size = 2 ** i\n",
        "            in_channels = num_inputs if i == 0 else num_channels[i-1]\n",
        "            out_channels = num_channels[i]\n",
        "            layers += [TemporalBlock(in_channels, out_channels, kernel_size, stride=1, dilation=dilation_size,\n",
        "                                     padding=(kernel_size-1) * dilation_size, dropout=dropout)]\n",
        "\n",
        "        self.network = nn.Sequential(*layers)\n",
        "\n",
        "    def forward(self, x):\n",
        "        return self.network(x)\n",
        "class TCN(nn.Module):\n",
        "    def __init__(self, input_size, output_size, num_channels, kernel_size, dropout):\n",
        "        super(TCN, self).__init__()\n",
        "        self.tcn = TemporalConvNet(input_size, num_channels, kernel_size=kernel_size, dropout=dropout)\n",
        "        self.linear = nn.Linear(num_channels[-1], output_size)\n",
        "        self.init_weights()\n",
        "\n",
        "    def init_weights(self):\n",
        "        self.linear.weight.data.normal_(0, 0.01)\n",
        "\n",
        "    def forward(self, x):\n",
        "        y1 = self.tcn(x)\n",
        "        return self.linear(y1[:, :, -1])"
      ]
    },
    {
      "cell_type": "markdown",
      "metadata": {
        "id": "CmwFG8t4nE30"
      },
      "source": [
        "# Three Layers"
      ]
    },
    {
      "cell_type": "code",
      "execution_count": 11,
      "metadata": {
        "ExecuteTime": {
          "end_time": "2021-05-04T18:44:57.765195Z",
          "start_time": "2021-05-04T18:44:57.754067Z"
        },
        "scrolled": true,
        "colab": {
          "base_uri": "https://localhost:8080/"
        },
        "id": "zPdb_qvknE31",
        "outputId": "e2fb2276-24f7-4ff7-b8c6-61cb4fafdf79"
      },
      "outputs": [
        {
          "output_type": "stream",
          "name": "stdout",
          "text": [
            "Total Weights: 86868\n",
            "TCN(\n",
            "  (tcn): TemporalConvNet(\n",
            "    (network): Sequential(\n",
            "      (0): TemporalBlock(\n",
            "        (conv1): Conv1d(1, 25, kernel_size=(45,), stride=(1,), padding=(44,))\n",
            "        (chomp1): Chomp1d()\n",
            "        (relu1): ReLU()\n",
            "        (dropout1): Dropout(p=0.0, inplace=False)\n",
            "        (conv2): Conv1d(25, 25, kernel_size=(45,), stride=(1,), padding=(44,))\n",
            "        (chomp2): Chomp1d()\n",
            "        (relu2): ReLU()\n",
            "        (dropout2): Dropout(p=0.0, inplace=False)\n",
            "        (net): Sequential(\n",
            "          (0): Conv1d(1, 25, kernel_size=(45,), stride=(1,), padding=(44,))\n",
            "          (1): Chomp1d()\n",
            "          (2): ReLU()\n",
            "          (3): Dropout(p=0.0, inplace=False)\n",
            "          (4): Conv1d(25, 25, kernel_size=(45,), stride=(1,), padding=(44,))\n",
            "          (5): Chomp1d()\n",
            "          (6): ReLU()\n",
            "          (7): Dropout(p=0.0, inplace=False)\n",
            "        )\n",
            "        (downsample): Conv1d(1, 25, kernel_size=(1,), stride=(1,))\n",
            "        (relu): ReLU()\n",
            "      )\n",
            "      (1): TemporalBlock(\n",
            "        (conv1): Conv1d(25, 25, kernel_size=(45,), stride=(1,), padding=(88,), dilation=(2,))\n",
            "        (chomp1): Chomp1d()\n",
            "        (relu1): ReLU()\n",
            "        (dropout1): Dropout(p=0.0, inplace=False)\n",
            "        (conv2): Conv1d(25, 25, kernel_size=(45,), stride=(1,), padding=(88,), dilation=(2,))\n",
            "        (chomp2): Chomp1d()\n",
            "        (relu2): ReLU()\n",
            "        (dropout2): Dropout(p=0.0, inplace=False)\n",
            "        (net): Sequential(\n",
            "          (0): Conv1d(25, 25, kernel_size=(45,), stride=(1,), padding=(88,), dilation=(2,))\n",
            "          (1): Chomp1d()\n",
            "          (2): ReLU()\n",
            "          (3): Dropout(p=0.0, inplace=False)\n",
            "          (4): Conv1d(25, 25, kernel_size=(45,), stride=(1,), padding=(88,), dilation=(2,))\n",
            "          (5): Chomp1d()\n",
            "          (6): ReLU()\n",
            "          (7): Dropout(p=0.0, inplace=False)\n",
            "        )\n",
            "        (relu): ReLU()\n",
            "      )\n",
            "    )\n",
            "  )\n",
            "  (linear): Linear(in_features=25, out_features=43, bias=True)\n",
            ")\n"
          ]
        },
        {
          "output_type": "stream",
          "name": "stderr",
          "text": [
            "/usr/local/lib/python3.10/dist-packages/torch/nn/utils/weight_norm.py:30: UserWarning: torch.nn.utils.weight_norm is deprecated in favor of torch.nn.utils.parametrizations.weight_norm.\n",
            "  warnings.warn(\"torch.nn.utils.weight_norm is deprecated in favor of torch.nn.utils.parametrizations.weight_norm.\")\n"
          ]
        }
      ],
      "source": [
        "model = TCN(1, 43, [25, 25], kernel_size=45, dropout=0.0).cuda()\n",
        "tot_weights = 0\n",
        "for p in model.parameters():\n",
        "    tot_weights += p.numel()\n",
        "print(\"Total Weights:\", tot_weights)\n",
        "print(model)\n"
      ]
    },
    {
      "cell_type": "code",
      "execution_count": 12,
      "metadata": {
        "ExecuteTime": {
          "end_time": "2021-05-04T18:45:03.212417Z",
          "start_time": "2021-05-04T18:44:58.374076Z"
        },
        "colab": {
          "base_uri": "https://localhost:8080/",
          "height": 277,
          "referenced_widgets": [
            "7e78ab7767a34e35a831125eb4a14204",
            "30c29145ce37428fbba851d3369a41c1",
            "28c306025a224d9f83f8c91a321b0fa8",
            "82b057451da94120a040fb959d618a1f",
            "35788684f2c3449ba4ff3ebec543dbc5",
            "bcf0ec95f38049e9969c14aa3ac31d1a",
            "7cc5ea9507114da1a9f7ca9c9442e14e",
            "f612c885e4414f4b8ee1f6b0a0921a30",
            "aee55df83ff445bcb46e472a3bf2c7fd",
            "29911433d82a4671a2e5ca2bb1256464",
            "9e7447e209aa4fdf8203f28f59e8bc03"
          ]
        },
        "id": "40cqWSynnE31",
        "outputId": "373d9d62-b593-44de-bc1c-37b4975e8b93"
      },
      "outputs": [
        {
          "output_type": "display_data",
          "data": {
            "text/plain": [
              "  0%|     | 0/5000 [00:00<?, ?it/s]     "
            ],
            "application/vnd.jupyter.widget-view+json": {
              "version_major": 2,
              "version_minor": 0,
              "model_id": "7e78ab7767a34e35a831125eb4a14204"
            }
          },
          "metadata": {}
        },
        {
          "output_type": "error",
          "ename": "KeyboardInterrupt",
          "evalue": "ignored",
          "traceback": [
            "\u001b[0;31m---------------------------------------------------------------------------\u001b[0m",
            "\u001b[0;31mKeyboardInterrupt\u001b[0m                         Traceback (most recent call last)",
            "\u001b[0;32m<ipython-input-12-7899ed2ba80a>\u001b[0m in \u001b[0;36m<cell line: 12>\u001b[0;34m()\u001b[0m\n\u001b[1;32m     23\u001b[0m             \u001b[0miv\u001b[0m \u001b[0;34m=\u001b[0m \u001b[0mX\u001b[0m\u001b[0;34m[\u001b[0m\u001b[0mpermute\u001b[0m\u001b[0;34m[\u001b[0m\u001b[0mbatch_idx\u001b[0m\u001b[0;34m*\u001b[0m\u001b[0mbatch_size\u001b[0m \u001b[0;34m+\u001b[0m \u001b[0mi\u001b[0m\u001b[0;34m]\u001b[0m\u001b[0;34m]\u001b[0m\u001b[0;34m\u001b[0m\u001b[0;34m\u001b[0m\u001b[0m\n\u001b[1;32m     24\u001b[0m             \u001b[0miv\u001b[0m \u001b[0;34m=\u001b[0m \u001b[0miv\u001b[0m\u001b[0;34m.\u001b[0m\u001b[0munsqueeze\u001b[0m\u001b[0;34m(\u001b[0m\u001b[0;36m0\u001b[0m\u001b[0;34m)\u001b[0m\u001b[0;34m.\u001b[0m\u001b[0munsqueeze\u001b[0m\u001b[0;34m(\u001b[0m\u001b[0;36m0\u001b[0m\u001b[0;34m)\u001b[0m\u001b[0;34m.\u001b[0m\u001b[0munsqueeze\u001b[0m\u001b[0;34m(\u001b[0m\u001b[0;34m-\u001b[0m\u001b[0;36m1\u001b[0m\u001b[0;34m)\u001b[0m\u001b[0;34m\u001b[0m\u001b[0;34m\u001b[0m\u001b[0m\n\u001b[0;32m---> 25\u001b[0;31m             \u001b[0miv\u001b[0m \u001b[0;34m=\u001b[0m \u001b[0miv\u001b[0m\u001b[0;34m.\u001b[0m\u001b[0mrepeat\u001b[0m\u001b[0;34m(\u001b[0m\u001b[0;36m1\u001b[0m\u001b[0;34m,\u001b[0m\u001b[0;36m1\u001b[0m\u001b[0;34m,\u001b[0m\u001b[0;36m1\u001b[0m\u001b[0;34m,\u001b[0m\u001b[0mTrainscale\u001b[0m\u001b[0;34m)\u001b[0m\u001b[0;34m\u001b[0m\u001b[0;34m\u001b[0m\u001b[0m\n\u001b[0m\u001b[1;32m     26\u001b[0m             \u001b[0miv\u001b[0m \u001b[0;34m=\u001b[0m \u001b[0miv\u001b[0m\u001b[0;34m.\u001b[0m\u001b[0mreshape\u001b[0m\u001b[0;34m(\u001b[0m\u001b[0;36m1\u001b[0m\u001b[0;34m,\u001b[0m\u001b[0;36m1\u001b[0m\u001b[0;34m,\u001b[0m\u001b[0;34m-\u001b[0m\u001b[0;36m1\u001b[0m\u001b[0;34m)\u001b[0m\u001b[0;34m\u001b[0m\u001b[0;34m\u001b[0m\u001b[0m\n\u001b[1;32m     27\u001b[0m             \u001b[0mtv\u001b[0m \u001b[0;34m=\u001b[0m \u001b[0mY\u001b[0m\u001b[0;34m[\u001b[0m\u001b[0mpermute\u001b[0m\u001b[0;34m[\u001b[0m\u001b[0mbatch_idx\u001b[0m\u001b[0;34m*\u001b[0m\u001b[0mbatch_size\u001b[0m \u001b[0;34m+\u001b[0m \u001b[0mi\u001b[0m\u001b[0;34m]\u001b[0m\u001b[0;34m]\u001b[0m\u001b[0;34m.\u001b[0m\u001b[0mto\u001b[0m\u001b[0;34m(\u001b[0m\u001b[0mdevice\u001b[0m\u001b[0;34m)\u001b[0m\u001b[0;34m\u001b[0m\u001b[0;34m\u001b[0m\u001b[0m\n",
            "\u001b[0;31mKeyboardInterrupt\u001b[0m: "
          ]
        }
      ],
      "source": [
        "loss_func = torch.nn.CrossEntropyLoss()\n",
        "optimizer = torch.optim.Adam(model.parameters())\n",
        "epochs = 5000\n",
        "Trainscale = 10\n",
        "device='cuda'\n",
        "batch_size = 8\n",
        "batches = int(np.ceil(43 / batch_size))\n",
        "\n",
        "progress_bar = tqdm(range(int(epochs)), bar_format='{l_bar}{bar:5}{r_bar}{bar:-5b}')\n",
        "times_100 = 0\n",
        "\n",
        "for epoch_idx in progress_bar:\n",
        "    perfs = []\n",
        "    losses = []\n",
        "    model.train()\n",
        "    for batch_idx in range(batches):\n",
        "        optimizer.zero_grad()\n",
        "        loss = 0\n",
        "        permute = np.arange(0, 43)\n",
        "        for i in range(0, int(min(len(X) - (batch_idx*batch_size),\n",
        "                              batch_size))\n",
        "                       ):\n",
        "            iv = X[permute[batch_idx*batch_size + i]]\n",
        "            iv = iv.unsqueeze(0).unsqueeze(0).unsqueeze(-1)\n",
        "            iv = iv.repeat(1,1,1,Trainscale)\n",
        "            iv = iv.reshape(1,1,-1)\n",
        "            tv = Y[permute[batch_idx*batch_size + i]].to(device)\n",
        "            out = model(iv)\n",
        "            loss += loss_func(out,\n",
        "                         torch.cuda.LongTensor([tv]))\n",
        "            perfs.append((torch.argmax(out, dim=-1) ==\n",
        "                          tv).sum().item())\n",
        "\n",
        "\n",
        "        loss = loss / min(len(X) - (batch_idx*batch_size),\n",
        "                          batch_size)\n",
        "\n",
        "        loss.backward()\n",
        "        optimizer.step()\n",
        "\n",
        "\n",
        "        #perfs = perfs[int(-loss_buffer_size/batch_size):]\n",
        "        losses.append(loss.detach().cpu().numpy())\n",
        "        #losses = losses[int(-loss_buffer_size/batch_size):]\n",
        "\n",
        "\n",
        "        s = \"{}:{:2} Loss: {:.4f}, Perf: {:.4f}\"\n",
        "        format_list = [epoch_idx, batch_idx, np.mean(losses),\n",
        "                       np.sum(perfs)/((len(perfs)))]\n",
        "        s = s.format(*format_list)\n",
        "        progress_bar.set_description(s)\n",
        "    if (np.sum(perfs)/((len(perfs))) == 1.0) & (np.mean(losses) < .11):\n",
        "        times_100 += 1\n",
        "        if times_100 >= 3:\n",
        "            break\n"
      ]
    },
    {
      "cell_type": "code",
      "execution_count": 13,
      "metadata": {
        "ExecuteTime": {
          "end_time": "2021-05-04T17:29:25.641192Z",
          "start_time": "2021-05-04T17:29:24.894817Z"
        },
        "colab": {
          "base_uri": "https://localhost:8080/"
        },
        "id": "d8SDwPu-nE31",
        "outputId": "7cf6cd8b-847b-4c9d-c165-9ab289b9fc89"
      },
      "outputs": [
        {
          "output_type": "stream",
          "name": "stdout",
          "text": [
            "1 0.023255813953488372\n",
            "2 0.023255813953488372\n",
            "5 0.0\n",
            "6 0.0\n",
            "7 0.0\n",
            "8 0.046511627906976744\n",
            "9 0.3953488372093023\n",
            "10 0.9302325581395349\n",
            "11 0.6046511627906976\n",
            "12 0.16279069767441862\n",
            "13 0.046511627906976744\n",
            "14 0.046511627906976744\n",
            "15 0.023255813953488372\n",
            "16 0.023255813953488372\n",
            "17 0.023255813953488372\n",
            "18 0.023255813953488372\n",
            "19 0.046511627906976744\n",
            "20 0.046511627906976744\n",
            "30 0.046511627906976744\n",
            "40 0.023255813953488372\n"
          ]
        }
      ],
      "source": [
        "model.eval()\n",
        "evald = []\n",
        "evaldDict = {'test_perf':[],\n",
        "             'rate':[]}\n",
        "for nr in [1,2,5,6,7,8,9,10,11,12,13,14,15,16,17,18,19,20,30,40]:\n",
        "#for nr in range(1,20):\n",
        "    perfs = []\n",
        "    for batch_idx, iv in enumerate(X):\n",
        "        iv = iv.unsqueeze(0).unsqueeze(0).unsqueeze(-1)\n",
        "        iv = iv.repeat(1,1,1,nr)\n",
        "        iv = iv.reshape(1,1,-1)\n",
        "        tv = Y[batch_idx].to(device)\n",
        "        out = model(iv)\n",
        "        loss = loss_func(out,\n",
        "                         torch.cuda.LongTensor([tv]))\n",
        "\n",
        "\n",
        "        perfs.append((torch.argmax(out, dim=-1) ==\n",
        "                      tv).sum().item())\n",
        "        #print(torch.argmax(out, dim=-1),\n",
        "        #              tv)\n",
        "    evaldDict['test_perf'].append(sum(perfs)/len(perfs))\n",
        "    evaldDict['rate'].append(nr)\n",
        "    print(nr, sum(perfs)/len(perfs))\n",
        "    evald.append({'scale':nr,\n",
        "                  'perf':sum(perfs)/len(perfs)})\n",
        "scale_perfs = pd.DataFrame(evald)\n",
        "scale_perfs.to_pickle(join(\"perf\", \"tcn_rosicrucian_test.dill\"))"
      ]
    }
  ],
  "metadata": {
    "kernelspec": {
      "display_name": "Python 3",
      "name": "python3"
    },
    "language_info": {
      "codemirror_mode": {
        "name": "ipython",
        "version": 3
      },
      "file_extension": ".py",
      "mimetype": "text/x-python",
      "name": "python",
      "nbconvert_exporter": "python",
      "pygments_lexer": "ipython3",
      "version": "3.6.10"
    },
    "toc": {
      "nav_menu": {},
      "number_sections": true,
      "sideBar": true,
      "skip_h1_title": false,
      "title_cell": "Table of Contents",
      "title_sidebar": "Contents",
      "toc_cell": false,
      "toc_position": {},
      "toc_section_display": true,
      "toc_window_display": false
    },
    "colab": {
      "provenance": [],
      "gpuType": "T4"
    },
    "accelerator": "GPU",
    "widgets": {
      "application/vnd.jupyter.widget-state+json": {
        "7e78ab7767a34e35a831125eb4a14204": {
          "model_module": "@jupyter-widgets/controls",
          "model_name": "HBoxModel",
          "model_module_version": "1.5.0",
          "state": {
            "_dom_classes": [],
            "_model_module": "@jupyter-widgets/controls",
            "_model_module_version": "1.5.0",
            "_model_name": "HBoxModel",
            "_view_count": null,
            "_view_module": "@jupyter-widgets/controls",
            "_view_module_version": "1.5.0",
            "_view_name": "HBoxView",
            "box_style": "",
            "children": [
              "IPY_MODEL_30c29145ce37428fbba851d3369a41c1",
              "IPY_MODEL_28c306025a224d9f83f8c91a321b0fa8",
              "IPY_MODEL_82b057451da94120a040fb959d618a1f"
            ],
            "layout": "IPY_MODEL_35788684f2c3449ba4ff3ebec543dbc5"
          }
        },
        "30c29145ce37428fbba851d3369a41c1": {
          "model_module": "@jupyter-widgets/controls",
          "model_name": "HTMLModel",
          "model_module_version": "1.5.0",
          "state": {
            "_dom_classes": [],
            "_model_module": "@jupyter-widgets/controls",
            "_model_module_version": "1.5.0",
            "_model_name": "HTMLModel",
            "_view_count": null,
            "_view_module": "@jupyter-widgets/controls",
            "_view_module_version": "1.5.0",
            "_view_name": "HTMLView",
            "description": "",
            "description_tooltip": null,
            "layout": "IPY_MODEL_bcf0ec95f38049e9969c14aa3ac31d1a",
            "placeholder": "​",
            "style": "IPY_MODEL_7cc5ea9507114da1a9f7ca9c9442e14e",
            "value": ""
          }
        },
        "28c306025a224d9f83f8c91a321b0fa8": {
          "model_module": "@jupyter-widgets/controls",
          "model_name": "FloatProgressModel",
          "model_module_version": "1.5.0",
          "state": {
            "_dom_classes": [],
            "_model_module": "@jupyter-widgets/controls",
            "_model_module_version": "1.5.0",
            "_model_name": "FloatProgressModel",
            "_view_count": null,
            "_view_module": "@jupyter-widgets/controls",
            "_view_module_version": "1.5.0",
            "_view_name": "ProgressView",
            "bar_style": "danger",
            "description": "",
            "description_tooltip": null,
            "layout": "IPY_MODEL_f612c885e4414f4b8ee1f6b0a0921a30",
            "max": 5000,
            "min": 0,
            "orientation": "horizontal",
            "style": "IPY_MODEL_aee55df83ff445bcb46e472a3bf2c7fd",
            "value": 1369
          }
        },
        "82b057451da94120a040fb959d618a1f": {
          "model_module": "@jupyter-widgets/controls",
          "model_name": "HTMLModel",
          "model_module_version": "1.5.0",
          "state": {
            "_dom_classes": [],
            "_model_module": "@jupyter-widgets/controls",
            "_model_module_version": "1.5.0",
            "_model_name": "HTMLModel",
            "_view_count": null,
            "_view_module": "@jupyter-widgets/controls",
            "_view_module_version": "1.5.0",
            "_view_name": "HTMLView",
            "description": "",
            "description_tooltip": null,
            "layout": "IPY_MODEL_29911433d82a4671a2e5ca2bb1256464",
            "placeholder": "​",
            "style": "IPY_MODEL_9e7447e209aa4fdf8203f28f59e8bc03",
            "value": "1369: 2 Loss: 0.1189, Perf: 0.8750:  27%|█▎   | 1369/5000 [03:49&lt;08:42,  6.95it/s]     "
          }
        },
        "35788684f2c3449ba4ff3ebec543dbc5": {
          "model_module": "@jupyter-widgets/base",
          "model_name": "LayoutModel",
          "model_module_version": "1.2.0",
          "state": {
            "_model_module": "@jupyter-widgets/base",
            "_model_module_version": "1.2.0",
            "_model_name": "LayoutModel",
            "_view_count": null,
            "_view_module": "@jupyter-widgets/base",
            "_view_module_version": "1.2.0",
            "_view_name": "LayoutView",
            "align_content": null,
            "align_items": null,
            "align_self": null,
            "border": null,
            "bottom": null,
            "display": null,
            "flex": null,
            "flex_flow": null,
            "grid_area": null,
            "grid_auto_columns": null,
            "grid_auto_flow": null,
            "grid_auto_rows": null,
            "grid_column": null,
            "grid_gap": null,
            "grid_row": null,
            "grid_template_areas": null,
            "grid_template_columns": null,
            "grid_template_rows": null,
            "height": null,
            "justify_content": null,
            "justify_items": null,
            "left": null,
            "margin": null,
            "max_height": null,
            "max_width": null,
            "min_height": null,
            "min_width": null,
            "object_fit": null,
            "object_position": null,
            "order": null,
            "overflow": null,
            "overflow_x": null,
            "overflow_y": null,
            "padding": null,
            "right": null,
            "top": null,
            "visibility": null,
            "width": null
          }
        },
        "bcf0ec95f38049e9969c14aa3ac31d1a": {
          "model_module": "@jupyter-widgets/base",
          "model_name": "LayoutModel",
          "model_module_version": "1.2.0",
          "state": {
            "_model_module": "@jupyter-widgets/base",
            "_model_module_version": "1.2.0",
            "_model_name": "LayoutModel",
            "_view_count": null,
            "_view_module": "@jupyter-widgets/base",
            "_view_module_version": "1.2.0",
            "_view_name": "LayoutView",
            "align_content": null,
            "align_items": null,
            "align_self": null,
            "border": null,
            "bottom": null,
            "display": null,
            "flex": null,
            "flex_flow": null,
            "grid_area": null,
            "grid_auto_columns": null,
            "grid_auto_flow": null,
            "grid_auto_rows": null,
            "grid_column": null,
            "grid_gap": null,
            "grid_row": null,
            "grid_template_areas": null,
            "grid_template_columns": null,
            "grid_template_rows": null,
            "height": null,
            "justify_content": null,
            "justify_items": null,
            "left": null,
            "margin": null,
            "max_height": null,
            "max_width": null,
            "min_height": null,
            "min_width": null,
            "object_fit": null,
            "object_position": null,
            "order": null,
            "overflow": null,
            "overflow_x": null,
            "overflow_y": null,
            "padding": null,
            "right": null,
            "top": null,
            "visibility": null,
            "width": null
          }
        },
        "7cc5ea9507114da1a9f7ca9c9442e14e": {
          "model_module": "@jupyter-widgets/controls",
          "model_name": "DescriptionStyleModel",
          "model_module_version": "1.5.0",
          "state": {
            "_model_module": "@jupyter-widgets/controls",
            "_model_module_version": "1.5.0",
            "_model_name": "DescriptionStyleModel",
            "_view_count": null,
            "_view_module": "@jupyter-widgets/base",
            "_view_module_version": "1.2.0",
            "_view_name": "StyleView",
            "description_width": ""
          }
        },
        "f612c885e4414f4b8ee1f6b0a0921a30": {
          "model_module": "@jupyter-widgets/base",
          "model_name": "LayoutModel",
          "model_module_version": "1.2.0",
          "state": {
            "_model_module": "@jupyter-widgets/base",
            "_model_module_version": "1.2.0",
            "_model_name": "LayoutModel",
            "_view_count": null,
            "_view_module": "@jupyter-widgets/base",
            "_view_module_version": "1.2.0",
            "_view_name": "LayoutView",
            "align_content": null,
            "align_items": null,
            "align_self": null,
            "border": null,
            "bottom": null,
            "display": null,
            "flex": null,
            "flex_flow": null,
            "grid_area": null,
            "grid_auto_columns": null,
            "grid_auto_flow": null,
            "grid_auto_rows": null,
            "grid_column": null,
            "grid_gap": null,
            "grid_row": null,
            "grid_template_areas": null,
            "grid_template_columns": null,
            "grid_template_rows": null,
            "height": null,
            "justify_content": null,
            "justify_items": null,
            "left": null,
            "margin": null,
            "max_height": null,
            "max_width": null,
            "min_height": null,
            "min_width": null,
            "object_fit": null,
            "object_position": null,
            "order": null,
            "overflow": null,
            "overflow_x": null,
            "overflow_y": null,
            "padding": null,
            "right": null,
            "top": null,
            "visibility": null,
            "width": null
          }
        },
        "aee55df83ff445bcb46e472a3bf2c7fd": {
          "model_module": "@jupyter-widgets/controls",
          "model_name": "ProgressStyleModel",
          "model_module_version": "1.5.0",
          "state": {
            "_model_module": "@jupyter-widgets/controls",
            "_model_module_version": "1.5.0",
            "_model_name": "ProgressStyleModel",
            "_view_count": null,
            "_view_module": "@jupyter-widgets/base",
            "_view_module_version": "1.2.0",
            "_view_name": "StyleView",
            "bar_color": null,
            "description_width": ""
          }
        },
        "29911433d82a4671a2e5ca2bb1256464": {
          "model_module": "@jupyter-widgets/base",
          "model_name": "LayoutModel",
          "model_module_version": "1.2.0",
          "state": {
            "_model_module": "@jupyter-widgets/base",
            "_model_module_version": "1.2.0",
            "_model_name": "LayoutModel",
            "_view_count": null,
            "_view_module": "@jupyter-widgets/base",
            "_view_module_version": "1.2.0",
            "_view_name": "LayoutView",
            "align_content": null,
            "align_items": null,
            "align_self": null,
            "border": null,
            "bottom": null,
            "display": null,
            "flex": null,
            "flex_flow": null,
            "grid_area": null,
            "grid_auto_columns": null,
            "grid_auto_flow": null,
            "grid_auto_rows": null,
            "grid_column": null,
            "grid_gap": null,
            "grid_row": null,
            "grid_template_areas": null,
            "grid_template_columns": null,
            "grid_template_rows": null,
            "height": null,
            "justify_content": null,
            "justify_items": null,
            "left": null,
            "margin": null,
            "max_height": null,
            "max_width": null,
            "min_height": null,
            "min_width": null,
            "object_fit": null,
            "object_position": null,
            "order": null,
            "overflow": null,
            "overflow_x": null,
            "overflow_y": null,
            "padding": null,
            "right": null,
            "top": null,
            "visibility": null,
            "width": null
          }
        },
        "9e7447e209aa4fdf8203f28f59e8bc03": {
          "model_module": "@jupyter-widgets/controls",
          "model_name": "DescriptionStyleModel",
          "model_module_version": "1.5.0",
          "state": {
            "_model_module": "@jupyter-widgets/controls",
            "_model_module_version": "1.5.0",
            "_model_name": "DescriptionStyleModel",
            "_view_count": null,
            "_view_module": "@jupyter-widgets/base",
            "_view_module_version": "1.2.0",
            "_view_name": "StyleView",
            "description_width": ""
          }
        }
      }
    }
  },
  "nbformat": 4,
  "nbformat_minor": 0
}